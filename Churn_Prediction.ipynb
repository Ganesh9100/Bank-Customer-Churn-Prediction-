{
  "nbformat": 4,
  "nbformat_minor": 0,
  "metadata": {
    "colab": {
      "name": "Untitled46.ipynb",
      "provenance": [],
      "collapsed_sections": []
    },
    "kernelspec": {
      "name": "python3",
      "display_name": "Python 3"
    }
  },
  "cells": [
    {
      "cell_type": "code",
      "metadata": {
        "id": "OGCKSK459__Q"
      },
      "source": [
        "import keras \n",
        "from keras.models import Sequential #whether you create ann,cnn,nn,rnn u have to import this because it is responsible for creating nn\n",
        "from keras.layers import Dense # \n",
        "from keras.layers import LeakyReLU,PReLU,ELU\n",
        "from keras.layers import Dropout#regulariztion aparameter\n",
        "import matplotlib.pyplot as plt\n",
        "\n",
        "import numpy as np\n",
        "import pandas as pd \n"
      ],
      "execution_count": 1,
      "outputs": []
    },
    {
      "cell_type": "markdown",
      "metadata": {
        "id": "W5SToKiG_hOF"
      },
      "source": [
        "**This is the dataset from bank , to predict whether the customer will exit the bank in future or not , so that the bank can not leave them they can hold by providing some benefitial**"
      ]
    },
    {
      "cell_type": "code",
      "metadata": {
        "id": "RTHRvKwU-34E",
        "colab": {
          "base_uri": "https://localhost:8080/",
          "height": 224
        },
        "outputId": "e699a47b-f6f9-487f-816a-a83680f09089"
      },
      "source": [
        "df=pd.read_csv('/content/Churn_Modelling.csv')\n",
        "df.head()"
      ],
      "execution_count": 2,
      "outputs": [
        {
          "output_type": "execute_result",
          "data": {
            "text/html": [
              "<div>\n",
              "<style scoped>\n",
              "    .dataframe tbody tr th:only-of-type {\n",
              "        vertical-align: middle;\n",
              "    }\n",
              "\n",
              "    .dataframe tbody tr th {\n",
              "        vertical-align: top;\n",
              "    }\n",
              "\n",
              "    .dataframe thead th {\n",
              "        text-align: right;\n",
              "    }\n",
              "</style>\n",
              "<table border=\"1\" class=\"dataframe\">\n",
              "  <thead>\n",
              "    <tr style=\"text-align: right;\">\n",
              "      <th></th>\n",
              "      <th>RowNumber</th>\n",
              "      <th>CustomerId</th>\n",
              "      <th>Surname</th>\n",
              "      <th>CreditScore</th>\n",
              "      <th>Geography</th>\n",
              "      <th>Gender</th>\n",
              "      <th>Age</th>\n",
              "      <th>Tenure</th>\n",
              "      <th>Balance</th>\n",
              "      <th>NumOfProducts</th>\n",
              "      <th>HasCrCard</th>\n",
              "      <th>IsActiveMember</th>\n",
              "      <th>EstimatedSalary</th>\n",
              "      <th>Exited</th>\n",
              "    </tr>\n",
              "  </thead>\n",
              "  <tbody>\n",
              "    <tr>\n",
              "      <th>0</th>\n",
              "      <td>1</td>\n",
              "      <td>15634602</td>\n",
              "      <td>Hargrave</td>\n",
              "      <td>619</td>\n",
              "      <td>France</td>\n",
              "      <td>Female</td>\n",
              "      <td>42</td>\n",
              "      <td>2</td>\n",
              "      <td>0.00</td>\n",
              "      <td>1</td>\n",
              "      <td>1</td>\n",
              "      <td>1</td>\n",
              "      <td>101348.88</td>\n",
              "      <td>1</td>\n",
              "    </tr>\n",
              "    <tr>\n",
              "      <th>1</th>\n",
              "      <td>2</td>\n",
              "      <td>15647311</td>\n",
              "      <td>Hill</td>\n",
              "      <td>608</td>\n",
              "      <td>Spain</td>\n",
              "      <td>Female</td>\n",
              "      <td>41</td>\n",
              "      <td>1</td>\n",
              "      <td>83807.86</td>\n",
              "      <td>1</td>\n",
              "      <td>0</td>\n",
              "      <td>1</td>\n",
              "      <td>112542.58</td>\n",
              "      <td>0</td>\n",
              "    </tr>\n",
              "    <tr>\n",
              "      <th>2</th>\n",
              "      <td>3</td>\n",
              "      <td>15619304</td>\n",
              "      <td>Onio</td>\n",
              "      <td>502</td>\n",
              "      <td>France</td>\n",
              "      <td>Female</td>\n",
              "      <td>42</td>\n",
              "      <td>8</td>\n",
              "      <td>159660.80</td>\n",
              "      <td>3</td>\n",
              "      <td>1</td>\n",
              "      <td>0</td>\n",
              "      <td>113931.57</td>\n",
              "      <td>1</td>\n",
              "    </tr>\n",
              "    <tr>\n",
              "      <th>3</th>\n",
              "      <td>4</td>\n",
              "      <td>15701354</td>\n",
              "      <td>Boni</td>\n",
              "      <td>699</td>\n",
              "      <td>France</td>\n",
              "      <td>Female</td>\n",
              "      <td>39</td>\n",
              "      <td>1</td>\n",
              "      <td>0.00</td>\n",
              "      <td>2</td>\n",
              "      <td>0</td>\n",
              "      <td>0</td>\n",
              "      <td>93826.63</td>\n",
              "      <td>0</td>\n",
              "    </tr>\n",
              "    <tr>\n",
              "      <th>4</th>\n",
              "      <td>5</td>\n",
              "      <td>15737888</td>\n",
              "      <td>Mitchell</td>\n",
              "      <td>850</td>\n",
              "      <td>Spain</td>\n",
              "      <td>Female</td>\n",
              "      <td>43</td>\n",
              "      <td>2</td>\n",
              "      <td>125510.82</td>\n",
              "      <td>1</td>\n",
              "      <td>1</td>\n",
              "      <td>1</td>\n",
              "      <td>79084.10</td>\n",
              "      <td>0</td>\n",
              "    </tr>\n",
              "  </tbody>\n",
              "</table>\n",
              "</div>"
            ],
            "text/plain": [
              "   RowNumber  CustomerId   Surname  ...  IsActiveMember EstimatedSalary Exited\n",
              "0          1    15634602  Hargrave  ...               1       101348.88      1\n",
              "1          2    15647311      Hill  ...               1       112542.58      0\n",
              "2          3    15619304      Onio  ...               0       113931.57      1\n",
              "3          4    15701354      Boni  ...               0        93826.63      0\n",
              "4          5    15737888  Mitchell  ...               1        79084.10      0\n",
              "\n",
              "[5 rows x 14 columns]"
            ]
          },
          "metadata": {
            "tags": []
          },
          "execution_count": 2
        }
      ]
    },
    {
      "cell_type": "code",
      "metadata": {
        "id": "4eCh2e8x-_pG"
      },
      "source": [
        "# I dont want row no cust ID and sur name bcz they are not going to play a role , here \n",
        "x=df.iloc[:,3:-1]\n",
        "y=df.iloc[:,-1]"
      ],
      "execution_count": 3,
      "outputs": []
    },
    {
      "cell_type": "code",
      "metadata": {
        "id": "GQphosXyAY1c",
        "colab": {
          "base_uri": "https://localhost:8080/",
          "height": 224
        },
        "outputId": "7b4aeafb-4f25-47dd-8486-897f09f14d20"
      },
      "source": [
        "x.head()"
      ],
      "execution_count": 4,
      "outputs": [
        {
          "output_type": "execute_result",
          "data": {
            "text/html": [
              "<div>\n",
              "<style scoped>\n",
              "    .dataframe tbody tr th:only-of-type {\n",
              "        vertical-align: middle;\n",
              "    }\n",
              "\n",
              "    .dataframe tbody tr th {\n",
              "        vertical-align: top;\n",
              "    }\n",
              "\n",
              "    .dataframe thead th {\n",
              "        text-align: right;\n",
              "    }\n",
              "</style>\n",
              "<table border=\"1\" class=\"dataframe\">\n",
              "  <thead>\n",
              "    <tr style=\"text-align: right;\">\n",
              "      <th></th>\n",
              "      <th>CreditScore</th>\n",
              "      <th>Geography</th>\n",
              "      <th>Gender</th>\n",
              "      <th>Age</th>\n",
              "      <th>Tenure</th>\n",
              "      <th>Balance</th>\n",
              "      <th>NumOfProducts</th>\n",
              "      <th>HasCrCard</th>\n",
              "      <th>IsActiveMember</th>\n",
              "      <th>EstimatedSalary</th>\n",
              "    </tr>\n",
              "  </thead>\n",
              "  <tbody>\n",
              "    <tr>\n",
              "      <th>0</th>\n",
              "      <td>619</td>\n",
              "      <td>France</td>\n",
              "      <td>Female</td>\n",
              "      <td>42</td>\n",
              "      <td>2</td>\n",
              "      <td>0.00</td>\n",
              "      <td>1</td>\n",
              "      <td>1</td>\n",
              "      <td>1</td>\n",
              "      <td>101348.88</td>\n",
              "    </tr>\n",
              "    <tr>\n",
              "      <th>1</th>\n",
              "      <td>608</td>\n",
              "      <td>Spain</td>\n",
              "      <td>Female</td>\n",
              "      <td>41</td>\n",
              "      <td>1</td>\n",
              "      <td>83807.86</td>\n",
              "      <td>1</td>\n",
              "      <td>0</td>\n",
              "      <td>1</td>\n",
              "      <td>112542.58</td>\n",
              "    </tr>\n",
              "    <tr>\n",
              "      <th>2</th>\n",
              "      <td>502</td>\n",
              "      <td>France</td>\n",
              "      <td>Female</td>\n",
              "      <td>42</td>\n",
              "      <td>8</td>\n",
              "      <td>159660.80</td>\n",
              "      <td>3</td>\n",
              "      <td>1</td>\n",
              "      <td>0</td>\n",
              "      <td>113931.57</td>\n",
              "    </tr>\n",
              "    <tr>\n",
              "      <th>3</th>\n",
              "      <td>699</td>\n",
              "      <td>France</td>\n",
              "      <td>Female</td>\n",
              "      <td>39</td>\n",
              "      <td>1</td>\n",
              "      <td>0.00</td>\n",
              "      <td>2</td>\n",
              "      <td>0</td>\n",
              "      <td>0</td>\n",
              "      <td>93826.63</td>\n",
              "    </tr>\n",
              "    <tr>\n",
              "      <th>4</th>\n",
              "      <td>850</td>\n",
              "      <td>Spain</td>\n",
              "      <td>Female</td>\n",
              "      <td>43</td>\n",
              "      <td>2</td>\n",
              "      <td>125510.82</td>\n",
              "      <td>1</td>\n",
              "      <td>1</td>\n",
              "      <td>1</td>\n",
              "      <td>79084.10</td>\n",
              "    </tr>\n",
              "  </tbody>\n",
              "</table>\n",
              "</div>"
            ],
            "text/plain": [
              "   CreditScore Geography  Gender  ...  HasCrCard  IsActiveMember  EstimatedSalary\n",
              "0          619    France  Female  ...          1               1        101348.88\n",
              "1          608     Spain  Female  ...          0               1        112542.58\n",
              "2          502    France  Female  ...          1               0        113931.57\n",
              "3          699    France  Female  ...          0               0         93826.63\n",
              "4          850     Spain  Female  ...          1               1         79084.10\n",
              "\n",
              "[5 rows x 10 columns]"
            ]
          },
          "metadata": {
            "tags": []
          },
          "execution_count": 4
        }
      ]
    },
    {
      "cell_type": "code",
      "metadata": {
        "id": "kr8pvCCWAZvc",
        "colab": {
          "base_uri": "https://localhost:8080/"
        },
        "outputId": "20aa4c81-cd32-459a-add2-187920b42952"
      },
      "source": [
        "y.head()"
      ],
      "execution_count": 5,
      "outputs": [
        {
          "output_type": "execute_result",
          "data": {
            "text/plain": [
              "0    1\n",
              "1    0\n",
              "2    1\n",
              "3    0\n",
              "4    0\n",
              "Name: Exited, dtype: int64"
            ]
          },
          "metadata": {
            "tags": []
          },
          "execution_count": 5
        }
      ]
    },
    {
      "cell_type": "code",
      "metadata": {
        "id": "LAW0aUNpArfT"
      },
      "source": [
        "#Create dummy variables\n",
        "geography=pd.get_dummies(x[\"Geography\"],drop_first=False)#drop first is the no of columns u want , if it is false , it will take column= no of categories , if it is true it will take column= no of categories - 1\n",
        "gender=pd.get_dummies(x['Gender'],drop_first=True)# her ewe have m / f , so turning to 1 column , this drop_first true means it will reduce the column ie 2 categories to 1 "
      ],
      "execution_count": 6,
      "outputs": []
    },
    {
      "cell_type": "code",
      "metadata": {
        "id": "45T3YkkZA_OV",
        "colab": {
          "base_uri": "https://localhost:8080/",
          "height": 204
        },
        "outputId": "0150f530-6b1f-45ad-e603-3c2271466fd7"
      },
      "source": [
        "geography.head()"
      ],
      "execution_count": 7,
      "outputs": [
        {
          "output_type": "execute_result",
          "data": {
            "text/html": [
              "<div>\n",
              "<style scoped>\n",
              "    .dataframe tbody tr th:only-of-type {\n",
              "        vertical-align: middle;\n",
              "    }\n",
              "\n",
              "    .dataframe tbody tr th {\n",
              "        vertical-align: top;\n",
              "    }\n",
              "\n",
              "    .dataframe thead th {\n",
              "        text-align: right;\n",
              "    }\n",
              "</style>\n",
              "<table border=\"1\" class=\"dataframe\">\n",
              "  <thead>\n",
              "    <tr style=\"text-align: right;\">\n",
              "      <th></th>\n",
              "      <th>France</th>\n",
              "      <th>Germany</th>\n",
              "      <th>Spain</th>\n",
              "    </tr>\n",
              "  </thead>\n",
              "  <tbody>\n",
              "    <tr>\n",
              "      <th>0</th>\n",
              "      <td>1</td>\n",
              "      <td>0</td>\n",
              "      <td>0</td>\n",
              "    </tr>\n",
              "    <tr>\n",
              "      <th>1</th>\n",
              "      <td>0</td>\n",
              "      <td>0</td>\n",
              "      <td>1</td>\n",
              "    </tr>\n",
              "    <tr>\n",
              "      <th>2</th>\n",
              "      <td>1</td>\n",
              "      <td>0</td>\n",
              "      <td>0</td>\n",
              "    </tr>\n",
              "    <tr>\n",
              "      <th>3</th>\n",
              "      <td>1</td>\n",
              "      <td>0</td>\n",
              "      <td>0</td>\n",
              "    </tr>\n",
              "    <tr>\n",
              "      <th>4</th>\n",
              "      <td>0</td>\n",
              "      <td>0</td>\n",
              "      <td>1</td>\n",
              "    </tr>\n",
              "  </tbody>\n",
              "</table>\n",
              "</div>"
            ],
            "text/plain": [
              "   France  Germany  Spain\n",
              "0       1        0      0\n",
              "1       0        0      1\n",
              "2       1        0      0\n",
              "3       1        0      0\n",
              "4       0        0      1"
            ]
          },
          "metadata": {
            "tags": []
          },
          "execution_count": 7
        }
      ]
    },
    {
      "cell_type": "code",
      "metadata": {
        "id": "YK4CMyW7BCZ1",
        "colab": {
          "base_uri": "https://localhost:8080/",
          "height": 204
        },
        "outputId": "f8c0296b-59ef-4977-8acd-b8fa6d628f4a"
      },
      "source": [
        "gender.head()"
      ],
      "execution_count": 8,
      "outputs": [
        {
          "output_type": "execute_result",
          "data": {
            "text/html": [
              "<div>\n",
              "<style scoped>\n",
              "    .dataframe tbody tr th:only-of-type {\n",
              "        vertical-align: middle;\n",
              "    }\n",
              "\n",
              "    .dataframe tbody tr th {\n",
              "        vertical-align: top;\n",
              "    }\n",
              "\n",
              "    .dataframe thead th {\n",
              "        text-align: right;\n",
              "    }\n",
              "</style>\n",
              "<table border=\"1\" class=\"dataframe\">\n",
              "  <thead>\n",
              "    <tr style=\"text-align: right;\">\n",
              "      <th></th>\n",
              "      <th>Male</th>\n",
              "    </tr>\n",
              "  </thead>\n",
              "  <tbody>\n",
              "    <tr>\n",
              "      <th>0</th>\n",
              "      <td>0</td>\n",
              "    </tr>\n",
              "    <tr>\n",
              "      <th>1</th>\n",
              "      <td>0</td>\n",
              "    </tr>\n",
              "    <tr>\n",
              "      <th>2</th>\n",
              "      <td>0</td>\n",
              "    </tr>\n",
              "    <tr>\n",
              "      <th>3</th>\n",
              "      <td>0</td>\n",
              "    </tr>\n",
              "    <tr>\n",
              "      <th>4</th>\n",
              "      <td>0</td>\n",
              "    </tr>\n",
              "  </tbody>\n",
              "</table>\n",
              "</div>"
            ],
            "text/plain": [
              "   Male\n",
              "0     0\n",
              "1     0\n",
              "2     0\n",
              "3     0\n",
              "4     0"
            ]
          },
          "metadata": {
            "tags": []
          },
          "execution_count": 8
        }
      ]
    },
    {
      "cell_type": "code",
      "metadata": {
        "id": "dXnGtnHzBFUQ"
      },
      "source": [
        "## Concatenate the Data Frames\n",
        "x=pd.concat([x,geography,gender],axis=1)\n"
      ],
      "execution_count": 9,
      "outputs": []
    },
    {
      "cell_type": "code",
      "metadata": {
        "id": "_3L3UxGxBQQ7",
        "colab": {
          "base_uri": "https://localhost:8080/",
          "height": 224
        },
        "outputId": "0a123103-8e1d-4f03-8bff-cbf12fc98e9e"
      },
      "source": [
        "x.head()"
      ],
      "execution_count": 10,
      "outputs": [
        {
          "output_type": "execute_result",
          "data": {
            "text/html": [
              "<div>\n",
              "<style scoped>\n",
              "    .dataframe tbody tr th:only-of-type {\n",
              "        vertical-align: middle;\n",
              "    }\n",
              "\n",
              "    .dataframe tbody tr th {\n",
              "        vertical-align: top;\n",
              "    }\n",
              "\n",
              "    .dataframe thead th {\n",
              "        text-align: right;\n",
              "    }\n",
              "</style>\n",
              "<table border=\"1\" class=\"dataframe\">\n",
              "  <thead>\n",
              "    <tr style=\"text-align: right;\">\n",
              "      <th></th>\n",
              "      <th>CreditScore</th>\n",
              "      <th>Geography</th>\n",
              "      <th>Gender</th>\n",
              "      <th>Age</th>\n",
              "      <th>Tenure</th>\n",
              "      <th>Balance</th>\n",
              "      <th>NumOfProducts</th>\n",
              "      <th>HasCrCard</th>\n",
              "      <th>IsActiveMember</th>\n",
              "      <th>EstimatedSalary</th>\n",
              "      <th>France</th>\n",
              "      <th>Germany</th>\n",
              "      <th>Spain</th>\n",
              "      <th>Male</th>\n",
              "    </tr>\n",
              "  </thead>\n",
              "  <tbody>\n",
              "    <tr>\n",
              "      <th>0</th>\n",
              "      <td>619</td>\n",
              "      <td>France</td>\n",
              "      <td>Female</td>\n",
              "      <td>42</td>\n",
              "      <td>2</td>\n",
              "      <td>0.00</td>\n",
              "      <td>1</td>\n",
              "      <td>1</td>\n",
              "      <td>1</td>\n",
              "      <td>101348.88</td>\n",
              "      <td>1</td>\n",
              "      <td>0</td>\n",
              "      <td>0</td>\n",
              "      <td>0</td>\n",
              "    </tr>\n",
              "    <tr>\n",
              "      <th>1</th>\n",
              "      <td>608</td>\n",
              "      <td>Spain</td>\n",
              "      <td>Female</td>\n",
              "      <td>41</td>\n",
              "      <td>1</td>\n",
              "      <td>83807.86</td>\n",
              "      <td>1</td>\n",
              "      <td>0</td>\n",
              "      <td>1</td>\n",
              "      <td>112542.58</td>\n",
              "      <td>0</td>\n",
              "      <td>0</td>\n",
              "      <td>1</td>\n",
              "      <td>0</td>\n",
              "    </tr>\n",
              "    <tr>\n",
              "      <th>2</th>\n",
              "      <td>502</td>\n",
              "      <td>France</td>\n",
              "      <td>Female</td>\n",
              "      <td>42</td>\n",
              "      <td>8</td>\n",
              "      <td>159660.80</td>\n",
              "      <td>3</td>\n",
              "      <td>1</td>\n",
              "      <td>0</td>\n",
              "      <td>113931.57</td>\n",
              "      <td>1</td>\n",
              "      <td>0</td>\n",
              "      <td>0</td>\n",
              "      <td>0</td>\n",
              "    </tr>\n",
              "    <tr>\n",
              "      <th>3</th>\n",
              "      <td>699</td>\n",
              "      <td>France</td>\n",
              "      <td>Female</td>\n",
              "      <td>39</td>\n",
              "      <td>1</td>\n",
              "      <td>0.00</td>\n",
              "      <td>2</td>\n",
              "      <td>0</td>\n",
              "      <td>0</td>\n",
              "      <td>93826.63</td>\n",
              "      <td>1</td>\n",
              "      <td>0</td>\n",
              "      <td>0</td>\n",
              "      <td>0</td>\n",
              "    </tr>\n",
              "    <tr>\n",
              "      <th>4</th>\n",
              "      <td>850</td>\n",
              "      <td>Spain</td>\n",
              "      <td>Female</td>\n",
              "      <td>43</td>\n",
              "      <td>2</td>\n",
              "      <td>125510.82</td>\n",
              "      <td>1</td>\n",
              "      <td>1</td>\n",
              "      <td>1</td>\n",
              "      <td>79084.10</td>\n",
              "      <td>0</td>\n",
              "      <td>0</td>\n",
              "      <td>1</td>\n",
              "      <td>0</td>\n",
              "    </tr>\n",
              "  </tbody>\n",
              "</table>\n",
              "</div>"
            ],
            "text/plain": [
              "   CreditScore Geography  Gender  Age  ...  France  Germany  Spain  Male\n",
              "0          619    France  Female   42  ...       1        0      0     0\n",
              "1          608     Spain  Female   41  ...       0        0      1     0\n",
              "2          502    France  Female   42  ...       1        0      0     0\n",
              "3          699    France  Female   39  ...       1        0      0     0\n",
              "4          850     Spain  Female   43  ...       0        0      1     0\n",
              "\n",
              "[5 rows x 14 columns]"
            ]
          },
          "metadata": {
            "tags": []
          },
          "execution_count": 10
        }
      ]
    },
    {
      "cell_type": "code",
      "metadata": {
        "id": "2b1mUfXtBTzJ"
      },
      "source": [
        "## Drop Unnecessary columns\n",
        "x=x.drop(['Geography','Gender'],axis=1)"
      ],
      "execution_count": 11,
      "outputs": []
    },
    {
      "cell_type": "code",
      "metadata": {
        "id": "ifVZrhrPBpS6",
        "colab": {
          "base_uri": "https://localhost:8080/",
          "height": 204
        },
        "outputId": "7529f434-18dc-48d6-a3bc-bf39c0a1f1a6"
      },
      "source": [
        "x.head()"
      ],
      "execution_count": 12,
      "outputs": [
        {
          "output_type": "execute_result",
          "data": {
            "text/html": [
              "<div>\n",
              "<style scoped>\n",
              "    .dataframe tbody tr th:only-of-type {\n",
              "        vertical-align: middle;\n",
              "    }\n",
              "\n",
              "    .dataframe tbody tr th {\n",
              "        vertical-align: top;\n",
              "    }\n",
              "\n",
              "    .dataframe thead th {\n",
              "        text-align: right;\n",
              "    }\n",
              "</style>\n",
              "<table border=\"1\" class=\"dataframe\">\n",
              "  <thead>\n",
              "    <tr style=\"text-align: right;\">\n",
              "      <th></th>\n",
              "      <th>CreditScore</th>\n",
              "      <th>Age</th>\n",
              "      <th>Tenure</th>\n",
              "      <th>Balance</th>\n",
              "      <th>NumOfProducts</th>\n",
              "      <th>HasCrCard</th>\n",
              "      <th>IsActiveMember</th>\n",
              "      <th>EstimatedSalary</th>\n",
              "      <th>France</th>\n",
              "      <th>Germany</th>\n",
              "      <th>Spain</th>\n",
              "      <th>Male</th>\n",
              "    </tr>\n",
              "  </thead>\n",
              "  <tbody>\n",
              "    <tr>\n",
              "      <th>0</th>\n",
              "      <td>619</td>\n",
              "      <td>42</td>\n",
              "      <td>2</td>\n",
              "      <td>0.00</td>\n",
              "      <td>1</td>\n",
              "      <td>1</td>\n",
              "      <td>1</td>\n",
              "      <td>101348.88</td>\n",
              "      <td>1</td>\n",
              "      <td>0</td>\n",
              "      <td>0</td>\n",
              "      <td>0</td>\n",
              "    </tr>\n",
              "    <tr>\n",
              "      <th>1</th>\n",
              "      <td>608</td>\n",
              "      <td>41</td>\n",
              "      <td>1</td>\n",
              "      <td>83807.86</td>\n",
              "      <td>1</td>\n",
              "      <td>0</td>\n",
              "      <td>1</td>\n",
              "      <td>112542.58</td>\n",
              "      <td>0</td>\n",
              "      <td>0</td>\n",
              "      <td>1</td>\n",
              "      <td>0</td>\n",
              "    </tr>\n",
              "    <tr>\n",
              "      <th>2</th>\n",
              "      <td>502</td>\n",
              "      <td>42</td>\n",
              "      <td>8</td>\n",
              "      <td>159660.80</td>\n",
              "      <td>3</td>\n",
              "      <td>1</td>\n",
              "      <td>0</td>\n",
              "      <td>113931.57</td>\n",
              "      <td>1</td>\n",
              "      <td>0</td>\n",
              "      <td>0</td>\n",
              "      <td>0</td>\n",
              "    </tr>\n",
              "    <tr>\n",
              "      <th>3</th>\n",
              "      <td>699</td>\n",
              "      <td>39</td>\n",
              "      <td>1</td>\n",
              "      <td>0.00</td>\n",
              "      <td>2</td>\n",
              "      <td>0</td>\n",
              "      <td>0</td>\n",
              "      <td>93826.63</td>\n",
              "      <td>1</td>\n",
              "      <td>0</td>\n",
              "      <td>0</td>\n",
              "      <td>0</td>\n",
              "    </tr>\n",
              "    <tr>\n",
              "      <th>4</th>\n",
              "      <td>850</td>\n",
              "      <td>43</td>\n",
              "      <td>2</td>\n",
              "      <td>125510.82</td>\n",
              "      <td>1</td>\n",
              "      <td>1</td>\n",
              "      <td>1</td>\n",
              "      <td>79084.10</td>\n",
              "      <td>0</td>\n",
              "      <td>0</td>\n",
              "      <td>1</td>\n",
              "      <td>0</td>\n",
              "    </tr>\n",
              "  </tbody>\n",
              "</table>\n",
              "</div>"
            ],
            "text/plain": [
              "   CreditScore  Age  Tenure    Balance  ...  France  Germany  Spain  Male\n",
              "0          619   42       2       0.00  ...       1        0      0     0\n",
              "1          608   41       1   83807.86  ...       0        0      1     0\n",
              "2          502   42       8  159660.80  ...       1        0      0     0\n",
              "3          699   39       1       0.00  ...       1        0      0     0\n",
              "4          850   43       2  125510.82  ...       0        0      1     0\n",
              "\n",
              "[5 rows x 12 columns]"
            ]
          },
          "metadata": {
            "tags": []
          },
          "execution_count": 12
        }
      ]
    },
    {
      "cell_type": "code",
      "metadata": {
        "id": "i6e0jUwyBtDd"
      },
      "source": [
        "\n",
        "# Splitting the dataset into the Training set and Test set\n",
        "from sklearn.model_selection import train_test_split\n",
        "X_train, X_test, y_train, y_test = train_test_split(x, y, test_size = 0.2, random_state = 0)"
      ],
      "execution_count": 13,
      "outputs": []
    },
    {
      "cell_type": "code",
      "metadata": {
        "id": "3LPJjUeXB1Uw"
      },
      "source": [
        "# now we do feature scaling because , to reudce computation \n",
        "# the feature value are higher and so we reduvce to one commone scale \n",
        "# Feature Scaling\n",
        "from sklearn.preprocessing import StandardScaler\n",
        "sc = StandardScaler()\n",
        "X_train = sc.fit_transform(X_train)\n",
        "X_test = sc.transform(X_test)"
      ],
      "execution_count": 14,
      "outputs": []
    },
    {
      "cell_type": "code",
      "metadata": {
        "id": "11prMi4uCVkM"
      },
      "source": [
        "# Initialising the ANN\n",
        "classifier = Sequential()# this is empty NN currently"
      ],
      "execution_count": 65,
      "outputs": []
    },
    {
      "cell_type": "code",
      "metadata": {
        "id": "dbUu1OfCGpUd"
      },
      "source": [
        "# Adding the input layer and the first hidden layer\n",
        "classifier.add(Dense(units=10, kernel_initializer = 'he_uniform',activation='relu',input_dim = 12))\n",
        "## first hidden layer \n",
        "# units=10 is the no of hidden unit in first hidden layer \n",
        "#kernel_initializer= 'he_uniform' it is the weight initialization - root of 6/fan_in\n",
        "# no of input_dim = 12 ie 12 features \n"
      ],
      "execution_count": 66,
      "outputs": []
    },
    {
      "cell_type": "code",
      "metadata": {
        "id": "hYiwDA8SHdZZ"
      },
      "source": [
        "# Adding the second and third hidden layer\n",
        "classifier.add(Dense(units=15, kernel_initializer='he_uniform',activation='relu'))\n",
        "classifier.add(Dense(units=15, kernel_initializer='he_uniform',activation='relu'))\n",
        "# no of hidden unit in 2nd and 3rd layer is 15"
      ],
      "execution_count": 67,
      "outputs": []
    },
    {
      "cell_type": "code",
      "metadata": {
        "id": "lhOZAUYSH612"
      },
      "source": [
        "# Adding the output layer\n",
        "classifier.add(Dense(1, kernel_initializer='glorot_uniform', activation = 'sigmoid'))\n",
        "# so here the weight initilization changes to glorotuniform or xavier ie init= 'he_uniform' it is the weight initialization - root of 6/fan_in+fan_out\n",
        "#no of output unit is 1 \n"
      ],
      "execution_count": 68,
      "outputs": []
    },
    {
      "cell_type": "code",
      "metadata": {
        "id": "UUFgRR4AISRq",
        "colab": {
          "base_uri": "https://localhost:8080/"
        },
        "outputId": "dc8fb1d3-77af-45ed-deda-56359608d7e7"
      },
      "source": [
        "#summary \n",
        "classifier.summary()"
      ],
      "execution_count": 69,
      "outputs": [
        {
          "output_type": "stream",
          "text": [
            "Model: \"sequential_4\"\n",
            "_________________________________________________________________\n",
            "Layer (type)                 Output Shape              Param #   \n",
            "=================================================================\n",
            "dense_16 (Dense)             (None, 10)                130       \n",
            "_________________________________________________________________\n",
            "dense_17 (Dense)             (None, 15)                165       \n",
            "_________________________________________________________________\n",
            "dense_18 (Dense)             (None, 15)                240       \n",
            "_________________________________________________________________\n",
            "dense_19 (Dense)             (None, 1)                 16        \n",
            "=================================================================\n",
            "Total params: 551\n",
            "Trainable params: 551\n",
            "Non-trainable params: 0\n",
            "_________________________________________________________________\n"
          ],
          "name": "stdout"
        }
      ]
    },
    {
      "cell_type": "code",
      "metadata": {
        "id": "5offa9rbJSH_"
      },
      "source": [
        ""
      ],
      "execution_count": null,
      "outputs": []
    },
    {
      "cell_type": "code",
      "metadata": {
        "id": "VwYXIt9NKA4p"
      },
      "source": [
        "# Compiling the ANN\n",
        "classifier.compile(optimizer = 'Adam', loss = 'binary_crossentropy', metrics = ['accuracy'])"
      ],
      "execution_count": 70,
      "outputs": []
    },
    {
      "cell_type": "code",
      "metadata": {
        "id": "J5r9UcOMKKgv"
      },
      "source": [
        "#prefer using binary_crossentropy if you use sigmoid in o/p unit oor if hte o/p is binary categorical \n",
        "# if u have more than one category then prefer using \" CATEGORICAL_CROSSENTROPY\""
      ],
      "execution_count": null,
      "outputs": []
    },
    {
      "cell_type": "code",
      "metadata": {
        "id": "Jm1tm7GEKi-E",
        "colab": {
          "base_uri": "https://localhost:8080/"
        },
        "outputId": "74deb219-38b9-4485-c3b7-0e6911ff9816"
      },
      "source": [
        "#Fitting the ANN to the Training set\n",
        "model_history=classifier.fit(X_train, y_train,validation_split=0.33, batch_size = 10, epochs = 70)"
      ],
      "execution_count": 71,
      "outputs": [
        {
          "output_type": "stream",
          "text": [
            "Epoch 1/70\n",
            "536/536 [==============================] - 1s 2ms/step - loss: 0.5162 - accuracy: 0.7677 - val_loss: 0.4645 - val_accuracy: 0.7970\n",
            "Epoch 2/70\n",
            "536/536 [==============================] - 1s 1ms/step - loss: 0.4375 - accuracy: 0.8084 - val_loss: 0.4424 - val_accuracy: 0.7997\n",
            "Epoch 3/70\n",
            "536/536 [==============================] - 1s 1ms/step - loss: 0.4182 - accuracy: 0.8108 - val_loss: 0.4231 - val_accuracy: 0.8073\n",
            "Epoch 4/70\n",
            "536/536 [==============================] - 1s 2ms/step - loss: 0.4015 - accuracy: 0.8188 - val_loss: 0.4093 - val_accuracy: 0.8126\n",
            "Epoch 5/70\n",
            "536/536 [==============================] - 1s 1ms/step - loss: 0.3881 - accuracy: 0.8265 - val_loss: 0.3999 - val_accuracy: 0.8183\n",
            "Epoch 6/70\n",
            "536/536 [==============================] - 1s 1ms/step - loss: 0.3789 - accuracy: 0.8358 - val_loss: 0.3961 - val_accuracy: 0.8209\n",
            "Epoch 7/70\n",
            "536/536 [==============================] - 1s 1ms/step - loss: 0.3714 - accuracy: 0.8369 - val_loss: 0.3915 - val_accuracy: 0.8258\n",
            "Epoch 8/70\n",
            "536/536 [==============================] - 1s 1ms/step - loss: 0.3647 - accuracy: 0.8416 - val_loss: 0.3870 - val_accuracy: 0.8296\n",
            "Epoch 9/70\n",
            "536/536 [==============================] - 1s 2ms/step - loss: 0.3602 - accuracy: 0.8449 - val_loss: 0.3799 - val_accuracy: 0.8304\n",
            "Epoch 10/70\n",
            "536/536 [==============================] - 1s 1ms/step - loss: 0.3549 - accuracy: 0.8500 - val_loss: 0.3791 - val_accuracy: 0.8372\n",
            "Epoch 11/70\n",
            "536/536 [==============================] - 1s 1ms/step - loss: 0.3487 - accuracy: 0.8552 - val_loss: 0.3749 - val_accuracy: 0.8379\n",
            "Epoch 12/70\n",
            "536/536 [==============================] - 1s 1ms/step - loss: 0.3460 - accuracy: 0.8556 - val_loss: 0.3757 - val_accuracy: 0.8421\n",
            "Epoch 13/70\n",
            "536/536 [==============================] - 1s 1ms/step - loss: 0.3431 - accuracy: 0.8569 - val_loss: 0.3728 - val_accuracy: 0.8410\n",
            "Epoch 14/70\n",
            "536/536 [==============================] - 1s 1ms/step - loss: 0.3398 - accuracy: 0.8595 - val_loss: 0.3740 - val_accuracy: 0.8425\n",
            "Epoch 15/70\n",
            "536/536 [==============================] - 1s 1ms/step - loss: 0.3379 - accuracy: 0.8599 - val_loss: 0.3751 - val_accuracy: 0.8398\n",
            "Epoch 16/70\n",
            "536/536 [==============================] - 1s 2ms/step - loss: 0.3359 - accuracy: 0.8619 - val_loss: 0.3718 - val_accuracy: 0.8451\n",
            "Epoch 17/70\n",
            "536/536 [==============================] - 1s 2ms/step - loss: 0.3342 - accuracy: 0.8599 - val_loss: 0.3706 - val_accuracy: 0.8436\n",
            "Epoch 18/70\n",
            "536/536 [==============================] - 1s 2ms/step - loss: 0.3331 - accuracy: 0.8621 - val_loss: 0.3715 - val_accuracy: 0.8444\n",
            "Epoch 19/70\n",
            "536/536 [==============================] - 1s 1ms/step - loss: 0.3324 - accuracy: 0.8645 - val_loss: 0.3718 - val_accuracy: 0.8470\n",
            "Epoch 20/70\n",
            "536/536 [==============================] - 1s 1ms/step - loss: 0.3306 - accuracy: 0.8655 - val_loss: 0.3712 - val_accuracy: 0.8474\n",
            "Epoch 21/70\n",
            "536/536 [==============================] - 1s 2ms/step - loss: 0.3294 - accuracy: 0.8673 - val_loss: 0.3705 - val_accuracy: 0.8504\n",
            "Epoch 22/70\n",
            "536/536 [==============================] - 1s 1ms/step - loss: 0.3280 - accuracy: 0.8656 - val_loss: 0.3699 - val_accuracy: 0.8485\n",
            "Epoch 23/70\n",
            "536/536 [==============================] - 1s 2ms/step - loss: 0.3277 - accuracy: 0.8649 - val_loss: 0.3725 - val_accuracy: 0.8474\n",
            "Epoch 24/70\n",
            "536/536 [==============================] - 1s 2ms/step - loss: 0.3271 - accuracy: 0.8681 - val_loss: 0.3682 - val_accuracy: 0.8482\n",
            "Epoch 25/70\n",
            "536/536 [==============================] - 1s 2ms/step - loss: 0.3247 - accuracy: 0.8707 - val_loss: 0.3711 - val_accuracy: 0.8474\n",
            "Epoch 26/70\n",
            "536/536 [==============================] - 1s 1ms/step - loss: 0.3257 - accuracy: 0.8656 - val_loss: 0.3737 - val_accuracy: 0.8448\n",
            "Epoch 27/70\n",
            "536/536 [==============================] - 1s 1ms/step - loss: 0.3242 - accuracy: 0.8683 - val_loss: 0.3746 - val_accuracy: 0.8497\n",
            "Epoch 28/70\n",
            "536/536 [==============================] - 1s 1ms/step - loss: 0.3242 - accuracy: 0.8698 - val_loss: 0.3709 - val_accuracy: 0.8516\n",
            "Epoch 29/70\n",
            "536/536 [==============================] - 1s 1ms/step - loss: 0.3210 - accuracy: 0.8707 - val_loss: 0.3742 - val_accuracy: 0.8455\n",
            "Epoch 30/70\n",
            "536/536 [==============================] - 1s 1ms/step - loss: 0.3227 - accuracy: 0.8677 - val_loss: 0.3718 - val_accuracy: 0.8429\n",
            "Epoch 31/70\n",
            "536/536 [==============================] - 1s 1ms/step - loss: 0.3206 - accuracy: 0.8711 - val_loss: 0.3749 - val_accuracy: 0.8493\n",
            "Epoch 32/70\n",
            "536/536 [==============================] - 1s 2ms/step - loss: 0.3202 - accuracy: 0.8716 - val_loss: 0.3696 - val_accuracy: 0.8485\n",
            "Epoch 33/70\n",
            "536/536 [==============================] - 1s 1ms/step - loss: 0.3197 - accuracy: 0.8688 - val_loss: 0.3699 - val_accuracy: 0.8470\n",
            "Epoch 34/70\n",
            "536/536 [==============================] - 1s 1ms/step - loss: 0.3200 - accuracy: 0.8727 - val_loss: 0.3754 - val_accuracy: 0.8440\n",
            "Epoch 35/70\n",
            "536/536 [==============================] - 1s 2ms/step - loss: 0.3191 - accuracy: 0.8718 - val_loss: 0.3700 - val_accuracy: 0.8493\n",
            "Epoch 36/70\n",
            "536/536 [==============================] - 1s 2ms/step - loss: 0.3182 - accuracy: 0.8718 - val_loss: 0.3719 - val_accuracy: 0.8451\n",
            "Epoch 37/70\n",
            "536/536 [==============================] - 1s 2ms/step - loss: 0.3180 - accuracy: 0.8694 - val_loss: 0.3762 - val_accuracy: 0.8470\n",
            "Epoch 38/70\n",
            "536/536 [==============================] - 1s 2ms/step - loss: 0.3176 - accuracy: 0.8705 - val_loss: 0.3705 - val_accuracy: 0.8489\n",
            "Epoch 39/70\n",
            "536/536 [==============================] - 1s 2ms/step - loss: 0.3182 - accuracy: 0.8707 - val_loss: 0.3695 - val_accuracy: 0.8516\n",
            "Epoch 40/70\n",
            "536/536 [==============================] - 1s 2ms/step - loss: 0.3171 - accuracy: 0.8711 - val_loss: 0.3719 - val_accuracy: 0.8463\n",
            "Epoch 41/70\n",
            "536/536 [==============================] - 1s 2ms/step - loss: 0.3162 - accuracy: 0.8712 - val_loss: 0.3705 - val_accuracy: 0.8448\n",
            "Epoch 42/70\n",
            "536/536 [==============================] - 1s 2ms/step - loss: 0.3160 - accuracy: 0.8726 - val_loss: 0.3736 - val_accuracy: 0.8448\n",
            "Epoch 43/70\n",
            "536/536 [==============================] - 1s 2ms/step - loss: 0.3154 - accuracy: 0.8707 - val_loss: 0.3752 - val_accuracy: 0.8448\n",
            "Epoch 44/70\n",
            "536/536 [==============================] - 1s 2ms/step - loss: 0.3147 - accuracy: 0.8724 - val_loss: 0.3719 - val_accuracy: 0.8451\n",
            "Epoch 45/70\n",
            "536/536 [==============================] - 1s 2ms/step - loss: 0.3151 - accuracy: 0.8709 - val_loss: 0.3760 - val_accuracy: 0.8485\n",
            "Epoch 46/70\n",
            "536/536 [==============================] - 1s 2ms/step - loss: 0.3151 - accuracy: 0.8729 - val_loss: 0.3731 - val_accuracy: 0.8508\n",
            "Epoch 47/70\n",
            "536/536 [==============================] - 1s 2ms/step - loss: 0.3149 - accuracy: 0.8716 - val_loss: 0.3707 - val_accuracy: 0.8497\n",
            "Epoch 48/70\n",
            "536/536 [==============================] - 1s 2ms/step - loss: 0.3146 - accuracy: 0.8709 - val_loss: 0.3706 - val_accuracy: 0.8554\n",
            "Epoch 49/70\n",
            "536/536 [==============================] - 1s 2ms/step - loss: 0.3150 - accuracy: 0.8718 - val_loss: 0.3683 - val_accuracy: 0.8512\n",
            "Epoch 50/70\n",
            "536/536 [==============================] - 1s 2ms/step - loss: 0.3135 - accuracy: 0.8696 - val_loss: 0.3711 - val_accuracy: 0.8485\n",
            "Epoch 51/70\n",
            "536/536 [==============================] - 1s 2ms/step - loss: 0.3143 - accuracy: 0.8694 - val_loss: 0.3707 - val_accuracy: 0.8459\n",
            "Epoch 52/70\n",
            "536/536 [==============================] - 1s 2ms/step - loss: 0.3134 - accuracy: 0.8733 - val_loss: 0.3754 - val_accuracy: 0.8448\n",
            "Epoch 53/70\n",
            "536/536 [==============================] - 1s 2ms/step - loss: 0.3130 - accuracy: 0.8703 - val_loss: 0.3719 - val_accuracy: 0.8538\n",
            "Epoch 54/70\n",
            "536/536 [==============================] - 1s 2ms/step - loss: 0.3133 - accuracy: 0.8742 - val_loss: 0.3711 - val_accuracy: 0.8466\n",
            "Epoch 55/70\n",
            "536/536 [==============================] - 1s 2ms/step - loss: 0.3133 - accuracy: 0.8716 - val_loss: 0.3729 - val_accuracy: 0.8463\n",
            "Epoch 56/70\n",
            "536/536 [==============================] - 1s 2ms/step - loss: 0.3129 - accuracy: 0.8724 - val_loss: 0.3750 - val_accuracy: 0.8470\n",
            "Epoch 57/70\n",
            "536/536 [==============================] - 1s 2ms/step - loss: 0.3118 - accuracy: 0.8716 - val_loss: 0.3715 - val_accuracy: 0.8504\n",
            "Epoch 58/70\n",
            "536/536 [==============================] - 1s 2ms/step - loss: 0.3117 - accuracy: 0.8724 - val_loss: 0.3718 - val_accuracy: 0.8501\n",
            "Epoch 59/70\n",
            "536/536 [==============================] - 1s 2ms/step - loss: 0.3112 - accuracy: 0.8740 - val_loss: 0.3769 - val_accuracy: 0.8501\n",
            "Epoch 60/70\n",
            "536/536 [==============================] - 1s 2ms/step - loss: 0.3114 - accuracy: 0.8733 - val_loss: 0.3681 - val_accuracy: 0.8497\n",
            "Epoch 61/70\n",
            "536/536 [==============================] - 1s 2ms/step - loss: 0.3108 - accuracy: 0.8731 - val_loss: 0.3729 - val_accuracy: 0.8519\n",
            "Epoch 62/70\n",
            "536/536 [==============================] - 1s 2ms/step - loss: 0.3116 - accuracy: 0.8737 - val_loss: 0.3740 - val_accuracy: 0.8501\n",
            "Epoch 63/70\n",
            "536/536 [==============================] - 1s 2ms/step - loss: 0.3107 - accuracy: 0.8731 - val_loss: 0.3734 - val_accuracy: 0.8508\n",
            "Epoch 64/70\n",
            "536/536 [==============================] - 1s 2ms/step - loss: 0.3105 - accuracy: 0.8727 - val_loss: 0.3696 - val_accuracy: 0.8493\n",
            "Epoch 65/70\n",
            "536/536 [==============================] - 1s 2ms/step - loss: 0.3100 - accuracy: 0.8737 - val_loss: 0.3739 - val_accuracy: 0.8470\n",
            "Epoch 66/70\n",
            "536/536 [==============================] - 1s 2ms/step - loss: 0.3099 - accuracy: 0.8739 - val_loss: 0.3771 - val_accuracy: 0.8466\n",
            "Epoch 67/70\n",
            "536/536 [==============================] - 1s 2ms/step - loss: 0.3090 - accuracy: 0.8737 - val_loss: 0.3714 - val_accuracy: 0.8485\n",
            "Epoch 68/70\n",
            "536/536 [==============================] - 1s 2ms/step - loss: 0.3094 - accuracy: 0.8737 - val_loss: 0.3689 - val_accuracy: 0.8474\n",
            "Epoch 69/70\n",
            "536/536 [==============================] - 1s 2ms/step - loss: 0.3095 - accuracy: 0.8750 - val_loss: 0.3708 - val_accuracy: 0.8508\n",
            "Epoch 70/70\n",
            "536/536 [==============================] - 1s 2ms/step - loss: 0.3087 - accuracy: 0.8748 - val_loss: 0.3718 - val_accuracy: 0.8478\n"
          ],
          "name": "stdout"
        }
      ]
    },
    {
      "cell_type": "markdown",
      "metadata": {
        "id": "dxnW5wcRKyUB"
      },
      "source": [
        "ONE EPOCH IS ONE FULL ACCESS TO DATA POINTS \n",
        "SO \n",
        "IN ONE EPOCH , 10 DATA POINTS ARE SELECTED AND COMPUTED LOSS AND BACKPROB TO REDUCE THEN ANOTHER 10 IS SELECTED COMPUTED LOSS AND REDUCE IT \n",
        "UNTILL ALL THE DATA POINT ARE ACCESSED "
      ]
    },
    {
      "cell_type": "code",
      "metadata": {
        "id": "a7A1ZzL-LkJH"
      },
      "source": [
        "# HERE YOU CAN SEE IT HAS LOW BIAS AND HIGH VARIANCE \n",
        "# BIAS = ERROR IS TRAIN DATA \n",
        "# VARIANCE = ERROR IN TEST DATA \n",
        "# SO BY SEEING THE VAL_LOSS AND LOSS , WE CAN SAY THE MODEL IS OVER FITTING , \n",
        "# SINCE IT DOESN'T PERFORM WELL IN OUR TEST DATA\n"
      ],
      "execution_count": null,
      "outputs": []
    },
    {
      "cell_type": "code",
      "metadata": {
        "id": "DVRwZ8FYMXWq"
      },
      "source": [
        "# Predicting the Test set results\n",
        "y_pred = classifier.predict(X_test)\n",
        "#y_pred = (y_pred > 0.5)"
      ],
      "execution_count": 86,
      "outputs": []
    },
    {
      "cell_type": "code",
      "metadata": {
        "id": "0JTa1Tp8Mh0E",
        "colab": {
          "base_uri": "https://localhost:8080/"
        },
        "outputId": "cc2b8414-aa04-43bb-f2b0-3daa8681c529"
      },
      "source": [
        "y_pred"
      ],
      "execution_count": 87,
      "outputs": [
        {
          "output_type": "execute_result",
          "data": {
            "text/plain": [
              "array([[0.24279138],\n",
              "       [0.20511547],\n",
              "       [0.1515708 ],\n",
              "       ...,\n",
              "       [0.0975309 ],\n",
              "       [0.31092882],\n",
              "       [0.17894769]], dtype=float32)"
            ]
          },
          "metadata": {
            "tags": []
          },
          "execution_count": 87
        }
      ]
    },
    {
      "cell_type": "code",
      "metadata": {
        "id": "J_P7FmtSMkU-"
      },
      "source": [
        "# so we use sigmoid the y_pred will be 0 - 1 \n",
        "# i use one condition to know it is 0 or 1 \n",
        "y_pred=y_pred>0.5 # true if > 0.5 else false \n",
        "# so true means 1 false means 0 \n"
      ],
      "execution_count": 88,
      "outputs": []
    },
    {
      "cell_type": "code",
      "metadata": {
        "id": "uPB2kfMbNPaD",
        "colab": {
          "base_uri": "https://localhost:8080/"
        },
        "outputId": "88eccfd4-9117-4562-f434-884951dcca2b"
      },
      "source": [
        "y_pred"
      ],
      "execution_count": 89,
      "outputs": [
        {
          "output_type": "execute_result",
          "data": {
            "text/plain": [
              "array([[False],\n",
              "       [False],\n",
              "       [False],\n",
              "       ...,\n",
              "       [False],\n",
              "       [False],\n",
              "       [False]])"
            ]
          },
          "metadata": {
            "tags": []
          },
          "execution_count": 89
        }
      ]
    },
    {
      "cell_type": "code",
      "metadata": {
        "id": "MAx9myEsNW1_"
      },
      "source": [
        "# Calculate the Accuracy\n",
        "from sklearn.metrics import accuracy_score\n",
        "score=accuracy_score(y_pred,y_test)"
      ],
      "execution_count": 90,
      "outputs": []
    },
    {
      "cell_type": "code",
      "metadata": {
        "id": "YyrM3v-jNceH",
        "colab": {
          "base_uri": "https://localhost:8080/"
        },
        "outputId": "545c9485-f634-40e9-cc2d-827ef3ba5762"
      },
      "source": [
        "score  # the accuracy is 0.85 but we can try to increase it "
      ],
      "execution_count": 91,
      "outputs": [
        {
          "output_type": "execute_result",
          "data": {
            "text/plain": [
              "0.85"
            ]
          },
          "metadata": {
            "tags": []
          },
          "execution_count": 91
        }
      ]
    },
    {
      "cell_type": "code",
      "metadata": {
        "id": "-XFcXjrUTTRj",
        "colab": {
          "base_uri": "https://localhost:8080/",
          "height": 590
        },
        "outputId": "8d3f7b0a-a1ce-4366-e810-50f49e0ceccc"
      },
      "source": [
        "# list all data in history\n",
        "\n",
        "print(model_history.history.keys())\n",
        "# summarize history for accuracy\n",
        "plt.plot(model_history.history['accuracy'])\n",
        "plt.plot(model_history.history['val_accuracy'])\n",
        "plt.title('model accuracy')\n",
        "plt.ylabel('accuracy')\n",
        "plt.xlabel('epoch')\n",
        "plt.legend(['train', 'test'], loc='upper left')\n",
        "plt.show()\n",
        "\n",
        "# summarize history for loss\n",
        "plt.plot(model_history.history['loss'])\n",
        "plt.plot(model_history.history['val_loss'])\n",
        "plt.title('model loss')\n",
        "plt.ylabel('loss')\n",
        "plt.xlabel('epoch')\n",
        "plt.legend(['train', 'test'], loc='upper left')\n",
        "plt.show()"
      ],
      "execution_count": 92,
      "outputs": [
        {
          "output_type": "stream",
          "text": [
            "dict_keys(['loss', 'accuracy', 'val_loss', 'val_accuracy'])\n"
          ],
          "name": "stdout"
        },
        {
          "output_type": "display_data",
          "data": {
            "image/png": "[encoded data removed]",
            "text/plain": [
              "<Figure size 432x288 with 1 Axes>"
            ]
          },
          "metadata": {
            "tags": [],
            "needs_background": "light"
          }
        },
        {
          "output_type": "display_data",
          "data": {
            "image/png": "[encoded data removed]",
            "text/plain": [
              "<Figure size 432x288 with 1 Axes>"
            ]
          },
          "metadata": {
            "tags": [],
            "needs_background": "light"
          }
        }
      ]
    },
    {
      "cell_type": "markdown",
      "metadata": {
        "id": "jVNVFSkZJQ0q"
      },
      "source": [
        "**Trying To Reduce Overfitting**\n",
        "\n",
        "I used Dropouts"
      ]
    },
    {
      "cell_type": "code",
      "metadata": {
        "id": "1QTBZiJ_Nd3i"
      },
      "source": [
        "# INCREASING THE ACCURACY IF POSSIBLE \n",
        "# Initialising the ANN\n",
        "classifier_new = Sequential()# this is empty NN currently\n",
        "classifier_new.add(Dense(units=20, kernel_initializer = 'he_normal',activation='relu',input_dim = 12))\n",
        "classifier_new.add(Dropout(0.3))\n",
        "classifier_new.add(Dense(units=20, kernel_initializer='he_normal',activation='relu'))\n",
        "classifier_new.add(Dropout(0.2))\n",
        "classifier_new.add(Dense(units=15, kernel_initializer='he_normal',activation='relu'))\n",
        "classifier_new.add(Dropout(0.3))\n",
        "classifier_new.add(Dense(units=10, kernel_initializer='he_normal',activation='relu'))\n",
        "classifier_new.add(Dropout(0.1))\n",
        "classifier_new.add(Dense(units=1, kernel_initializer='glorot_normal',activation='sigmoid'))"
      ],
      "execution_count": 94,
      "outputs": []
    },
    {
      "cell_type": "code",
      "metadata": {
        "id": "aRaQE627N1V9"
      },
      "source": [
        ""
      ],
      "execution_count": 80,
      "outputs": []
    },
    {
      "cell_type": "code",
      "metadata": {
        "id": "wAycNkF5Oi71"
      },
      "source": [
        "# Compiling the ANN\n",
        "classifier_new.compile(optimizer = 'Adam', loss = 'binary_crossentropy', metrics = ['accuracy'])"
      ],
      "execution_count": 95,
      "outputs": []
    },
    {
      "cell_type": "code",
      "metadata": {
        "id": "cH-CovINO1YK",
        "colab": {
          "base_uri": "https://localhost:8080/"
        },
        "outputId": "5b873776-e786-489d-efe6-a78d430d9b4d"
      },
      "source": [
        "#Fitting the ANN to the Training set\n",
        "model_history_new=classifier_new.fit(X_train, y_train,validation_split=0.33, batch_size = 30, epochs= 50)"
      ],
      "execution_count": 96,
      "outputs": [
        {
          "output_type": "stream",
          "text": [
            "Epoch 1/50\n",
            "179/179 [==============================] - 0s 2ms/step - loss: 0.5772 - accuracy: 0.7570 - val_loss: 0.5259 - val_accuracy: 0.7955\n",
            "Epoch 2/50\n",
            "179/179 [==============================] - 0s 2ms/step - loss: 0.5256 - accuracy: 0.7927 - val_loss: 0.5000 - val_accuracy: 0.7955\n",
            "Epoch 3/50\n",
            "179/179 [==============================] - 0s 2ms/step - loss: 0.5050 - accuracy: 0.7949 - val_loss: 0.4816 - val_accuracy: 0.7955\n",
            "Epoch 4/50\n",
            "179/179 [==============================] - 0s 2ms/step - loss: 0.4918 - accuracy: 0.7949 - val_loss: 0.4753 - val_accuracy: 0.7955\n",
            "Epoch 5/50\n",
            "179/179 [==============================] - 0s 2ms/step - loss: 0.4803 - accuracy: 0.7959 - val_loss: 0.4643 - val_accuracy: 0.7955\n",
            "Epoch 6/50\n",
            "179/179 [==============================] - 0s 2ms/step - loss: 0.4756 - accuracy: 0.7957 - val_loss: 0.4592 - val_accuracy: 0.7955\n",
            "Epoch 7/50\n",
            "179/179 [==============================] - 0s 2ms/step - loss: 0.4715 - accuracy: 0.7962 - val_loss: 0.4563 - val_accuracy: 0.7955\n",
            "Epoch 8/50\n",
            "179/179 [==============================] - 0s 2ms/step - loss: 0.4692 - accuracy: 0.7964 - val_loss: 0.4538 - val_accuracy: 0.7955\n",
            "Epoch 9/50\n",
            "179/179 [==============================] - 0s 2ms/step - loss: 0.4622 - accuracy: 0.7970 - val_loss: 0.4517 - val_accuracy: 0.7955\n",
            "Epoch 10/50\n",
            "179/179 [==============================] - 0s 2ms/step - loss: 0.4569 - accuracy: 0.7975 - val_loss: 0.4537 - val_accuracy: 0.7955\n",
            "Epoch 11/50\n",
            "179/179 [==============================] - 0s 2ms/step - loss: 0.4518 - accuracy: 0.7992 - val_loss: 0.4517 - val_accuracy: 0.7955\n",
            "Epoch 12/50\n",
            "179/179 [==============================] - 0s 2ms/step - loss: 0.4513 - accuracy: 0.7987 - val_loss: 0.4480 - val_accuracy: 0.7959\n",
            "Epoch 13/50\n",
            "179/179 [==============================] - 0s 2ms/step - loss: 0.4468 - accuracy: 0.8011 - val_loss: 0.4370 - val_accuracy: 0.7959\n",
            "Epoch 14/50\n",
            "179/179 [==============================] - 0s 2ms/step - loss: 0.4450 - accuracy: 0.8026 - val_loss: 0.4387 - val_accuracy: 0.8001\n",
            "Epoch 15/50\n",
            "179/179 [==============================] - 0s 2ms/step - loss: 0.4414 - accuracy: 0.8085 - val_loss: 0.4338 - val_accuracy: 0.8069\n",
            "Epoch 16/50\n",
            "179/179 [==============================] - 0s 2ms/step - loss: 0.4385 - accuracy: 0.8085 - val_loss: 0.4354 - val_accuracy: 0.8103\n",
            "Epoch 17/50\n",
            "179/179 [==============================] - 0s 2ms/step - loss: 0.4317 - accuracy: 0.8061 - val_loss: 0.4278 - val_accuracy: 0.8111\n",
            "Epoch 18/50\n",
            "179/179 [==============================] - 0s 2ms/step - loss: 0.4357 - accuracy: 0.8078 - val_loss: 0.4308 - val_accuracy: 0.8133\n",
            "Epoch 19/50\n",
            "179/179 [==============================] - 0s 2ms/step - loss: 0.4321 - accuracy: 0.8095 - val_loss: 0.4256 - val_accuracy: 0.8160\n",
            "Epoch 20/50\n",
            "179/179 [==============================] - 0s 2ms/step - loss: 0.4214 - accuracy: 0.8138 - val_loss: 0.4262 - val_accuracy: 0.8201\n",
            "Epoch 21/50\n",
            "179/179 [==============================] - 0s 2ms/step - loss: 0.4200 - accuracy: 0.8125 - val_loss: 0.4134 - val_accuracy: 0.8220\n",
            "Epoch 22/50\n",
            "179/179 [==============================] - 0s 2ms/step - loss: 0.4154 - accuracy: 0.8196 - val_loss: 0.4095 - val_accuracy: 0.8281\n",
            "Epoch 23/50\n",
            "179/179 [==============================] - 0s 2ms/step - loss: 0.4123 - accuracy: 0.8181 - val_loss: 0.4131 - val_accuracy: 0.8300\n",
            "Epoch 24/50\n",
            "179/179 [==============================] - 0s 2ms/step - loss: 0.4125 - accuracy: 0.8190 - val_loss: 0.4075 - val_accuracy: 0.8304\n",
            "Epoch 25/50\n",
            "179/179 [==============================] - 0s 2ms/step - loss: 0.4104 - accuracy: 0.8203 - val_loss: 0.4002 - val_accuracy: 0.8334\n",
            "Epoch 26/50\n",
            "179/179 [==============================] - 0s 2ms/step - loss: 0.4068 - accuracy: 0.8259 - val_loss: 0.3972 - val_accuracy: 0.8326\n",
            "Epoch 27/50\n",
            "179/179 [==============================] - 0s 2ms/step - loss: 0.4074 - accuracy: 0.8227 - val_loss: 0.3978 - val_accuracy: 0.8345\n",
            "Epoch 28/50\n",
            "179/179 [==============================] - 0s 2ms/step - loss: 0.4080 - accuracy: 0.8250 - val_loss: 0.3967 - val_accuracy: 0.8334\n",
            "Epoch 29/50\n",
            "179/179 [==============================] - 0s 2ms/step - loss: 0.4009 - accuracy: 0.8270 - val_loss: 0.3908 - val_accuracy: 0.8364\n",
            "Epoch 30/50\n",
            "179/179 [==============================] - 0s 2ms/step - loss: 0.3963 - accuracy: 0.8304 - val_loss: 0.3918 - val_accuracy: 0.8383\n",
            "Epoch 31/50\n",
            "179/179 [==============================] - 0s 2ms/step - loss: 0.3986 - accuracy: 0.8278 - val_loss: 0.3987 - val_accuracy: 0.8406\n",
            "Epoch 32/50\n",
            "179/179 [==============================] - 0s 2ms/step - loss: 0.3985 - accuracy: 0.8352 - val_loss: 0.3933 - val_accuracy: 0.8391\n",
            "Epoch 33/50\n",
            "179/179 [==============================] - 0s 2ms/step - loss: 0.4007 - accuracy: 0.8287 - val_loss: 0.3886 - val_accuracy: 0.8429\n",
            "Epoch 34/50\n",
            "179/179 [==============================] - 0s 2ms/step - loss: 0.3956 - accuracy: 0.8352 - val_loss: 0.3826 - val_accuracy: 0.8436\n",
            "Epoch 35/50\n",
            "179/179 [==============================] - 0s 2ms/step - loss: 0.3905 - accuracy: 0.8364 - val_loss: 0.3797 - val_accuracy: 0.8436\n",
            "Epoch 36/50\n",
            "179/179 [==============================] - 0s 2ms/step - loss: 0.3906 - accuracy: 0.8347 - val_loss: 0.3862 - val_accuracy: 0.8455\n",
            "Epoch 37/50\n",
            "179/179 [==============================] - 0s 2ms/step - loss: 0.3904 - accuracy: 0.8362 - val_loss: 0.3774 - val_accuracy: 0.8440\n",
            "Epoch 38/50\n",
            "179/179 [==============================] - 0s 2ms/step - loss: 0.3867 - accuracy: 0.8399 - val_loss: 0.3785 - val_accuracy: 0.8451\n",
            "Epoch 39/50\n",
            "179/179 [==============================] - 0s 2ms/step - loss: 0.3855 - accuracy: 0.8360 - val_loss: 0.3855 - val_accuracy: 0.8444\n",
            "Epoch 40/50\n",
            "179/179 [==============================] - 0s 2ms/step - loss: 0.3872 - accuracy: 0.8349 - val_loss: 0.3770 - val_accuracy: 0.8436\n",
            "Epoch 41/50\n",
            "179/179 [==============================] - 0s 2ms/step - loss: 0.3888 - accuracy: 0.8367 - val_loss: 0.3785 - val_accuracy: 0.8436\n",
            "Epoch 42/50\n",
            "179/179 [==============================] - 0s 2ms/step - loss: 0.3811 - accuracy: 0.8423 - val_loss: 0.3777 - val_accuracy: 0.8444\n",
            "Epoch 43/50\n",
            "179/179 [==============================] - 0s 2ms/step - loss: 0.3814 - accuracy: 0.8382 - val_loss: 0.3733 - val_accuracy: 0.8448\n",
            "Epoch 44/50\n",
            "179/179 [==============================] - 0s 2ms/step - loss: 0.3836 - accuracy: 0.8380 - val_loss: 0.3764 - val_accuracy: 0.8444\n",
            "Epoch 45/50\n",
            "179/179 [==============================] - 0s 2ms/step - loss: 0.3812 - accuracy: 0.8399 - val_loss: 0.3814 - val_accuracy: 0.8455\n",
            "Epoch 46/50\n",
            "179/179 [==============================] - 0s 2ms/step - loss: 0.3809 - accuracy: 0.8391 - val_loss: 0.3753 - val_accuracy: 0.8455\n",
            "Epoch 47/50\n",
            "179/179 [==============================] - 0s 2ms/step - loss: 0.3796 - accuracy: 0.8438 - val_loss: 0.3702 - val_accuracy: 0.8485\n",
            "Epoch 48/50\n",
            "179/179 [==============================] - 0s 2ms/step - loss: 0.3781 - accuracy: 0.8438 - val_loss: 0.3758 - val_accuracy: 0.8501\n",
            "Epoch 49/50\n",
            "179/179 [==============================] - 0s 2ms/step - loss: 0.3773 - accuracy: 0.8365 - val_loss: 0.3721 - val_accuracy: 0.8489\n",
            "Epoch 50/50\n",
            "179/179 [==============================] - 0s 2ms/step - loss: 0.3769 - accuracy: 0.8419 - val_loss: 0.3726 - val_accuracy: 0.8523\n"
          ],
          "name": "stdout"
        }
      ]
    },
    {
      "cell_type": "code",
      "metadata": {
        "id": "i91x851lSJmq",
        "colab": {
          "base_uri": "https://localhost:8080/"
        },
        "outputId": "687b662a-f7f3-47da-943b-a1e9842fdeb8"
      },
      "source": [
        "from sklearn.metrics import accuracy_score\n",
        "y_pred = classifier_new.predict(X_test)\n",
        "y_pred=y_pred>0.5\n",
        "acc=accuracy_score(y_test,y_pred)\n",
        "acc"
      ],
      "execution_count": 97,
      "outputs": [
        {
          "output_type": "execute_result",
          "data": {
            "text/plain": [
              "0.8625"
            ]
          },
          "metadata": {
            "tags": []
          },
          "execution_count": 97
        }
      ]
    },
    {
      "cell_type": "code",
      "metadata": {
        "id": "cLZ1DQH3GkyA",
        "outputId": "94351b4e-d4a6-41d1-9155-1bbf62d843d6",
        "colab": {
          "base_uri": "https://localhost:8080/"
        }
      },
      "source": [
        "from sklearn.metrics import confusion_matrix\n",
        "cm=confusion_matrix(y_test,y_pred)\n",
        "cm"
      ],
      "execution_count": 98,
      "outputs": [
        {
          "output_type": "execute_result",
          "data": {
            "text/plain": [
              "array([[1539,   56],\n",
              "       [ 219,  186]])"
            ]
          },
          "metadata": {
            "tags": []
          },
          "execution_count": 98
        }
      ]
    },
    {
      "cell_type": "code",
      "metadata": {
        "id": "hCTpr3nHSW9E",
        "colab": {
          "base_uri": "https://localhost:8080/",
          "height": 590
        },
        "outputId": "28a3104d-8831-4749-dc84-e1b4cc1357b1"
      },
      "source": [
        "# list all data in history\n",
        "\n",
        "print(model_history_new.history.keys())\n",
        "\n",
        "#print(model_history_new.history)\n",
        "# summarize history for accuracy\n",
        "plt.plot(model_history_new.history['accuracy'])\n",
        "plt.plot(model_history_new.history['val_accuracy'])\n",
        "plt.title('model accuracy')\n",
        "plt.ylabel('accuracy')\n",
        "plt.xlabel('epoch')\n",
        "plt.legend(['train', 'test'], loc='upper left')\n",
        "plt.show()\n",
        "\n",
        "# summarize history for loss\n",
        "plt.plot(model_history_new.history['loss'])\n",
        "plt.plot(model_history_new.history['val_loss'])\n",
        "plt.title('model loss')\n",
        "plt.ylabel('loss')\n",
        "plt.xlabel('epoch')\n",
        "plt.legend(['train', 'test'], loc='upper left')\n",
        "plt.show()"
      ],
      "execution_count": 100,
      "outputs": [
        {
          "output_type": "stream",
          "text": [
            "dict_keys(['loss', 'accuracy', 'val_loss', 'val_accuracy'])\n"
          ],
          "name": "stdout"
        },
        {
          "output_type": "display_data",
          "data": {
            "image/png": "[encoded data removed]",
            "text/plain": [
              "<Figure size 432x288 with 1 Axes>"
            ]
          },
          "metadata": {
            "tags": [],
            "needs_background": "light"
          }
        },
        {
          "output_type": "display_data",
          "data": {
            "image/png": "[encoded data removed]",
            "text/plain": [
              "<Figure size 432x288 with 1 Axes>"
            ]
          },
          "metadata": {
            "tags": [],
            "needs_background": "light"
          }
        }
      ]
    },
    {
      "cell_type": "code",
      "metadata": {
        "id": "7mJfmsCcS5je"
      },
      "source": [
        ""
      ],
      "execution_count": null,
      "outputs": []
    }
  ]
}