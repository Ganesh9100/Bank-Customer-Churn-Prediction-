{
  "nbformat": 4,
  "nbformat_minor": 0,
  "metadata": {
    "colab": {
      "name": "Untitled46.ipynb",
      "provenance": [],
      "collapsed_sections": [],
      "authorship_tag": "ABX9TyORtkUPmrU3sK4V4aPxCn2c",
      "include_colab_link": true
    },
    "kernelspec": {
      "name": "python3",
      "display_name": "Python 3"
    }
  },
  "cells": [
    {
      "cell_type": "markdown",
      "metadata": {
        "id": "view-in-github",
        "colab_type": "text"
      },
      "source": [
        "<a href=\"https://colab.research.google.com/github/Ganesh9100/deep_learning_raj/blob/master/ANN_PART_01.ipynb\" target=\"_parent\"><img src=\"https://colab.research.google.com/assets/colab-badge.svg\" alt=\"Open In Colab\"/></a>"
      ]
    },
    {
      "cell_type": "code",
      "metadata": {
        "id": "OGCKSK459__Q",
        "colab_type": "code",
        "colab": {
          "base_uri": "https://localhost:8080/",
          "height": 34
        },
        "outputId": "4f10aac4-5176-400b-8830-8d745a40923d"
      },
      "source": [
        "import keras \n",
        "from keras.models import Sequential #whether you create ann,cnn,nn,rnn u have to import this because it is responsible for creating nn\n",
        "from keras.layers import Dense # \n",
        "from keras.layers import LeakyReLU,PReLU,ELU\n",
        "from keras.layers import Dropout#regulariztion aparameter\n",
        "import matplotlib.pyplot as plt\n",
        "\n",
        "import numpy as np\n",
        "import pandas as pd \n"
      ],
      "execution_count": 1,
      "outputs": [
        {
          "output_type": "stream",
          "text": [
            "Using TensorFlow backend.\n"
          ],
          "name": "stderr"
        }
      ]
    },
    {
      "cell_type": "markdown",
      "metadata": {
        "id": "W5SToKiG_hOF",
        "colab_type": "text"
      },
      "source": [
        "**This is the dataset from bank , to predict whether the customer will exit the bank in future or not , so that the bank can not leave them they can hold by providing some benefitial**"
      ]
    },
    {
      "cell_type": "code",
      "metadata": {
        "id": "RTHRvKwU-34E",
        "colab_type": "code",
        "colab": {
          "base_uri": "https://localhost:8080/",
          "height": 224
        },
        "outputId": "b9a23840-fc2f-410b-c83f-da7c10ea0579"
      },
      "source": [
        "df=pd.read_csv('/content/Churn_Modelling.csv')\n",
        "df.head()"
      ],
      "execution_count": 2,
      "outputs": [
        {
          "output_type": "execute_result",
          "data": {
            "text/html": [
              "<div>\n",
              "<style scoped>\n",
              "    .dataframe tbody tr th:only-of-type {\n",
              "        vertical-align: middle;\n",
              "    }\n",
              "\n",
              "    .dataframe tbody tr th {\n",
              "        vertical-align: top;\n",
              "    }\n",
              "\n",
              "    .dataframe thead th {\n",
              "        text-align: right;\n",
              "    }\n",
              "</style>\n",
              "<table border=\"1\" class=\"dataframe\">\n",
              "  <thead>\n",
              "    <tr style=\"text-align: right;\">\n",
              "      <th></th>\n",
              "      <th>RowNumber</th>\n",
              "      <th>CustomerId</th>\n",
              "      <th>Surname</th>\n",
              "      <th>CreditScore</th>\n",
              "      <th>Geography</th>\n",
              "      <th>Gender</th>\n",
              "      <th>Age</th>\n",
              "      <th>Tenure</th>\n",
              "      <th>Balance</th>\n",
              "      <th>NumOfProducts</th>\n",
              "      <th>HasCrCard</th>\n",
              "      <th>IsActiveMember</th>\n",
              "      <th>EstimatedSalary</th>\n",
              "      <th>Exited</th>\n",
              "    </tr>\n",
              "  </thead>\n",
              "  <tbody>\n",
              "    <tr>\n",
              "      <th>0</th>\n",
              "      <td>1</td>\n",
              "      <td>15634602</td>\n",
              "      <td>Hargrave</td>\n",
              "      <td>619</td>\n",
              "      <td>France</td>\n",
              "      <td>Female</td>\n",
              "      <td>42</td>\n",
              "      <td>2</td>\n",
              "      <td>0.00</td>\n",
              "      <td>1</td>\n",
              "      <td>1</td>\n",
              "      <td>1</td>\n",
              "      <td>101348.88</td>\n",
              "      <td>1</td>\n",
              "    </tr>\n",
              "    <tr>\n",
              "      <th>1</th>\n",
              "      <td>2</td>\n",
              "      <td>15647311</td>\n",
              "      <td>Hill</td>\n",
              "      <td>608</td>\n",
              "      <td>Spain</td>\n",
              "      <td>Female</td>\n",
              "      <td>41</td>\n",
              "      <td>1</td>\n",
              "      <td>83807.86</td>\n",
              "      <td>1</td>\n",
              "      <td>0</td>\n",
              "      <td>1</td>\n",
              "      <td>112542.58</td>\n",
              "      <td>0</td>\n",
              "    </tr>\n",
              "    <tr>\n",
              "      <th>2</th>\n",
              "      <td>3</td>\n",
              "      <td>15619304</td>\n",
              "      <td>Onio</td>\n",
              "      <td>502</td>\n",
              "      <td>France</td>\n",
              "      <td>Female</td>\n",
              "      <td>42</td>\n",
              "      <td>8</td>\n",
              "      <td>159660.80</td>\n",
              "      <td>3</td>\n",
              "      <td>1</td>\n",
              "      <td>0</td>\n",
              "      <td>113931.57</td>\n",
              "      <td>1</td>\n",
              "    </tr>\n",
              "    <tr>\n",
              "      <th>3</th>\n",
              "      <td>4</td>\n",
              "      <td>15701354</td>\n",
              "      <td>Boni</td>\n",
              "      <td>699</td>\n",
              "      <td>France</td>\n",
              "      <td>Female</td>\n",
              "      <td>39</td>\n",
              "      <td>1</td>\n",
              "      <td>0.00</td>\n",
              "      <td>2</td>\n",
              "      <td>0</td>\n",
              "      <td>0</td>\n",
              "      <td>93826.63</td>\n",
              "      <td>0</td>\n",
              "    </tr>\n",
              "    <tr>\n",
              "      <th>4</th>\n",
              "      <td>5</td>\n",
              "      <td>15737888</td>\n",
              "      <td>Mitchell</td>\n",
              "      <td>850</td>\n",
              "      <td>Spain</td>\n",
              "      <td>Female</td>\n",
              "      <td>43</td>\n",
              "      <td>2</td>\n",
              "      <td>125510.82</td>\n",
              "      <td>1</td>\n",
              "      <td>1</td>\n",
              "      <td>1</td>\n",
              "      <td>79084.10</td>\n",
              "      <td>0</td>\n",
              "    </tr>\n",
              "  </tbody>\n",
              "</table>\n",
              "</div>"
            ],
            "text/plain": [
              "   RowNumber  CustomerId   Surname  ...  IsActiveMember EstimatedSalary Exited\n",
              "0          1    15634602  Hargrave  ...               1       101348.88      1\n",
              "1          2    15647311      Hill  ...               1       112542.58      0\n",
              "2          3    15619304      Onio  ...               0       113931.57      1\n",
              "3          4    15701354      Boni  ...               0        93826.63      0\n",
              "4          5    15737888  Mitchell  ...               1        79084.10      0\n",
              "\n",
              "[5 rows x 14 columns]"
            ]
          },
          "metadata": {
            "tags": []
          },
          "execution_count": 2
        }
      ]
    },
    {
      "cell_type": "code",
      "metadata": {
        "id": "4eCh2e8x-_pG",
        "colab_type": "code",
        "colab": {}
      },
      "source": [
        "# I dont want row no cust ID and sur name bcz they are not going to play a role , here \n",
        "x=df.iloc[:,3:-1]\n",
        "y=df.iloc[:,-1]"
      ],
      "execution_count": 0,
      "outputs": []
    },
    {
      "cell_type": "code",
      "metadata": {
        "id": "GQphosXyAY1c",
        "colab_type": "code",
        "colab": {
          "base_uri": "https://localhost:8080/",
          "height": 224
        },
        "outputId": "94dcee34-8443-4f63-dcbc-98edff29d917"
      },
      "source": [
        "x.head()"
      ],
      "execution_count": 4,
      "outputs": [
        {
          "output_type": "execute_result",
          "data": {
            "text/html": [
              "<div>\n",
              "<style scoped>\n",
              "    .dataframe tbody tr th:only-of-type {\n",
              "        vertical-align: middle;\n",
              "    }\n",
              "\n",
              "    .dataframe tbody tr th {\n",
              "        vertical-align: top;\n",
              "    }\n",
              "\n",
              "    .dataframe thead th {\n",
              "        text-align: right;\n",
              "    }\n",
              "</style>\n",
              "<table border=\"1\" class=\"dataframe\">\n",
              "  <thead>\n",
              "    <tr style=\"text-align: right;\">\n",
              "      <th></th>\n",
              "      <th>CreditScore</th>\n",
              "      <th>Geography</th>\n",
              "      <th>Gender</th>\n",
              "      <th>Age</th>\n",
              "      <th>Tenure</th>\n",
              "      <th>Balance</th>\n",
              "      <th>NumOfProducts</th>\n",
              "      <th>HasCrCard</th>\n",
              "      <th>IsActiveMember</th>\n",
              "      <th>EstimatedSalary</th>\n",
              "    </tr>\n",
              "  </thead>\n",
              "  <tbody>\n",
              "    <tr>\n",
              "      <th>0</th>\n",
              "      <td>619</td>\n",
              "      <td>France</td>\n",
              "      <td>Female</td>\n",
              "      <td>42</td>\n",
              "      <td>2</td>\n",
              "      <td>0.00</td>\n",
              "      <td>1</td>\n",
              "      <td>1</td>\n",
              "      <td>1</td>\n",
              "      <td>101348.88</td>\n",
              "    </tr>\n",
              "    <tr>\n",
              "      <th>1</th>\n",
              "      <td>608</td>\n",
              "      <td>Spain</td>\n",
              "      <td>Female</td>\n",
              "      <td>41</td>\n",
              "      <td>1</td>\n",
              "      <td>83807.86</td>\n",
              "      <td>1</td>\n",
              "      <td>0</td>\n",
              "      <td>1</td>\n",
              "      <td>112542.58</td>\n",
              "    </tr>\n",
              "    <tr>\n",
              "      <th>2</th>\n",
              "      <td>502</td>\n",
              "      <td>France</td>\n",
              "      <td>Female</td>\n",
              "      <td>42</td>\n",
              "      <td>8</td>\n",
              "      <td>159660.80</td>\n",
              "      <td>3</td>\n",
              "      <td>1</td>\n",
              "      <td>0</td>\n",
              "      <td>113931.57</td>\n",
              "    </tr>\n",
              "    <tr>\n",
              "      <th>3</th>\n",
              "      <td>699</td>\n",
              "      <td>France</td>\n",
              "      <td>Female</td>\n",
              "      <td>39</td>\n",
              "      <td>1</td>\n",
              "      <td>0.00</td>\n",
              "      <td>2</td>\n",
              "      <td>0</td>\n",
              "      <td>0</td>\n",
              "      <td>93826.63</td>\n",
              "    </tr>\n",
              "    <tr>\n",
              "      <th>4</th>\n",
              "      <td>850</td>\n",
              "      <td>Spain</td>\n",
              "      <td>Female</td>\n",
              "      <td>43</td>\n",
              "      <td>2</td>\n",
              "      <td>125510.82</td>\n",
              "      <td>1</td>\n",
              "      <td>1</td>\n",
              "      <td>1</td>\n",
              "      <td>79084.10</td>\n",
              "    </tr>\n",
              "  </tbody>\n",
              "</table>\n",
              "</div>"
            ],
            "text/plain": [
              "   CreditScore Geography  Gender  ...  HasCrCard  IsActiveMember  EstimatedSalary\n",
              "0          619    France  Female  ...          1               1        101348.88\n",
              "1          608     Spain  Female  ...          0               1        112542.58\n",
              "2          502    France  Female  ...          1               0        113931.57\n",
              "3          699    France  Female  ...          0               0         93826.63\n",
              "4          850     Spain  Female  ...          1               1         79084.10\n",
              "\n",
              "[5 rows x 10 columns]"
            ]
          },
          "metadata": {
            "tags": []
          },
          "execution_count": 4
        }
      ]
    },
    {
      "cell_type": "code",
      "metadata": {
        "id": "kr8pvCCWAZvc",
        "colab_type": "code",
        "colab": {
          "base_uri": "https://localhost:8080/",
          "height": 119
        },
        "outputId": "f7d7e785-8ba7-40c0-d933-8160e6c83450"
      },
      "source": [
        "y.head()"
      ],
      "execution_count": 5,
      "outputs": [
        {
          "output_type": "execute_result",
          "data": {
            "text/plain": [
              "0    1\n",
              "1    0\n",
              "2    1\n",
              "3    0\n",
              "4    0\n",
              "Name: Exited, dtype: int64"
            ]
          },
          "metadata": {
            "tags": []
          },
          "execution_count": 5
        }
      ]
    },
    {
      "cell_type": "code",
      "metadata": {
        "id": "LAW0aUNpArfT",
        "colab_type": "code",
        "colab": {}
      },
      "source": [
        "#Create dummy variables\n",
        "geography=pd.get_dummies(x[\"Geography\"],drop_first=False)#drop first is the no of columns u want , if it is false , it will take column= no of categories , if it is true it will take column= no of categories - 1\n",
        "gender=pd.get_dummies(x['Gender'],drop_first=True)# her ewe have m / f , so turning to 1 column , this drop_first true means it will reduce the column ie 2 categories to 1 "
      ],
      "execution_count": 0,
      "outputs": []
    },
    {
      "cell_type": "code",
      "metadata": {
        "id": "45T3YkkZA_OV",
        "colab_type": "code",
        "colab": {
          "base_uri": "https://localhost:8080/",
          "height": 204
        },
        "outputId": "1177d166-6b16-4b74-a8eb-5a163ad7f994"
      },
      "source": [
        "geography.head()"
      ],
      "execution_count": 7,
      "outputs": [
        {
          "output_type": "execute_result",
          "data": {
            "text/html": [
              "<div>\n",
              "<style scoped>\n",
              "    .dataframe tbody tr th:only-of-type {\n",
              "        vertical-align: middle;\n",
              "    }\n",
              "\n",
              "    .dataframe tbody tr th {\n",
              "        vertical-align: top;\n",
              "    }\n",
              "\n",
              "    .dataframe thead th {\n",
              "        text-align: right;\n",
              "    }\n",
              "</style>\n",
              "<table border=\"1\" class=\"dataframe\">\n",
              "  <thead>\n",
              "    <tr style=\"text-align: right;\">\n",
              "      <th></th>\n",
              "      <th>France</th>\n",
              "      <th>Germany</th>\n",
              "      <th>Spain</th>\n",
              "    </tr>\n",
              "  </thead>\n",
              "  <tbody>\n",
              "    <tr>\n",
              "      <th>0</th>\n",
              "      <td>1</td>\n",
              "      <td>0</td>\n",
              "      <td>0</td>\n",
              "    </tr>\n",
              "    <tr>\n",
              "      <th>1</th>\n",
              "      <td>0</td>\n",
              "      <td>0</td>\n",
              "      <td>1</td>\n",
              "    </tr>\n",
              "    <tr>\n",
              "      <th>2</th>\n",
              "      <td>1</td>\n",
              "      <td>0</td>\n",
              "      <td>0</td>\n",
              "    </tr>\n",
              "    <tr>\n",
              "      <th>3</th>\n",
              "      <td>1</td>\n",
              "      <td>0</td>\n",
              "      <td>0</td>\n",
              "    </tr>\n",
              "    <tr>\n",
              "      <th>4</th>\n",
              "      <td>0</td>\n",
              "      <td>0</td>\n",
              "      <td>1</td>\n",
              "    </tr>\n",
              "  </tbody>\n",
              "</table>\n",
              "</div>"
            ],
            "text/plain": [
              "   France  Germany  Spain\n",
              "0       1        0      0\n",
              "1       0        0      1\n",
              "2       1        0      0\n",
              "3       1        0      0\n",
              "4       0        0      1"
            ]
          },
          "metadata": {
            "tags": []
          },
          "execution_count": 7
        }
      ]
    },
    {
      "cell_type": "code",
      "metadata": {
        "id": "YK4CMyW7BCZ1",
        "colab_type": "code",
        "colab": {
          "base_uri": "https://localhost:8080/",
          "height": 204
        },
        "outputId": "3ea5ea50-453d-49d2-ec71-e1d6309662fd"
      },
      "source": [
        "gender.head()"
      ],
      "execution_count": 8,
      "outputs": [
        {
          "output_type": "execute_result",
          "data": {
            "text/html": [
              "<div>\n",
              "<style scoped>\n",
              "    .dataframe tbody tr th:only-of-type {\n",
              "        vertical-align: middle;\n",
              "    }\n",
              "\n",
              "    .dataframe tbody tr th {\n",
              "        vertical-align: top;\n",
              "    }\n",
              "\n",
              "    .dataframe thead th {\n",
              "        text-align: right;\n",
              "    }\n",
              "</style>\n",
              "<table border=\"1\" class=\"dataframe\">\n",
              "  <thead>\n",
              "    <tr style=\"text-align: right;\">\n",
              "      <th></th>\n",
              "      <th>Male</th>\n",
              "    </tr>\n",
              "  </thead>\n",
              "  <tbody>\n",
              "    <tr>\n",
              "      <th>0</th>\n",
              "      <td>0</td>\n",
              "    </tr>\n",
              "    <tr>\n",
              "      <th>1</th>\n",
              "      <td>0</td>\n",
              "    </tr>\n",
              "    <tr>\n",
              "      <th>2</th>\n",
              "      <td>0</td>\n",
              "    </tr>\n",
              "    <tr>\n",
              "      <th>3</th>\n",
              "      <td>0</td>\n",
              "    </tr>\n",
              "    <tr>\n",
              "      <th>4</th>\n",
              "      <td>0</td>\n",
              "    </tr>\n",
              "  </tbody>\n",
              "</table>\n",
              "</div>"
            ],
            "text/plain": [
              "   Male\n",
              "0     0\n",
              "1     0\n",
              "2     0\n",
              "3     0\n",
              "4     0"
            ]
          },
          "metadata": {
            "tags": []
          },
          "execution_count": 8
        }
      ]
    },
    {
      "cell_type": "code",
      "metadata": {
        "id": "dXnGtnHzBFUQ",
        "colab_type": "code",
        "colab": {}
      },
      "source": [
        "## Concatenate the Data Frames\n",
        "x=pd.concat([x,geography,gender],axis=1)\n"
      ],
      "execution_count": 0,
      "outputs": []
    },
    {
      "cell_type": "code",
      "metadata": {
        "id": "_3L3UxGxBQQ7",
        "colab_type": "code",
        "colab": {
          "base_uri": "https://localhost:8080/",
          "height": 224
        },
        "outputId": "46ffe1ab-dff7-4d6e-ed2c-7613ec3a582c"
      },
      "source": [
        "x.head()"
      ],
      "execution_count": 10,
      "outputs": [
        {
          "output_type": "execute_result",
          "data": {
            "text/html": [
              "<div>\n",
              "<style scoped>\n",
              "    .dataframe tbody tr th:only-of-type {\n",
              "        vertical-align: middle;\n",
              "    }\n",
              "\n",
              "    .dataframe tbody tr th {\n",
              "        vertical-align: top;\n",
              "    }\n",
              "\n",
              "    .dataframe thead th {\n",
              "        text-align: right;\n",
              "    }\n",
              "</style>\n",
              "<table border=\"1\" class=\"dataframe\">\n",
              "  <thead>\n",
              "    <tr style=\"text-align: right;\">\n",
              "      <th></th>\n",
              "      <th>CreditScore</th>\n",
              "      <th>Geography</th>\n",
              "      <th>Gender</th>\n",
              "      <th>Age</th>\n",
              "      <th>Tenure</th>\n",
              "      <th>Balance</th>\n",
              "      <th>NumOfProducts</th>\n",
              "      <th>HasCrCard</th>\n",
              "      <th>IsActiveMember</th>\n",
              "      <th>EstimatedSalary</th>\n",
              "      <th>France</th>\n",
              "      <th>Germany</th>\n",
              "      <th>Spain</th>\n",
              "      <th>Male</th>\n",
              "    </tr>\n",
              "  </thead>\n",
              "  <tbody>\n",
              "    <tr>\n",
              "      <th>0</th>\n",
              "      <td>619</td>\n",
              "      <td>France</td>\n",
              "      <td>Female</td>\n",
              "      <td>42</td>\n",
              "      <td>2</td>\n",
              "      <td>0.00</td>\n",
              "      <td>1</td>\n",
              "      <td>1</td>\n",
              "      <td>1</td>\n",
              "      <td>101348.88</td>\n",
              "      <td>1</td>\n",
              "      <td>0</td>\n",
              "      <td>0</td>\n",
              "      <td>0</td>\n",
              "    </tr>\n",
              "    <tr>\n",
              "      <th>1</th>\n",
              "      <td>608</td>\n",
              "      <td>Spain</td>\n",
              "      <td>Female</td>\n",
              "      <td>41</td>\n",
              "      <td>1</td>\n",
              "      <td>83807.86</td>\n",
              "      <td>1</td>\n",
              "      <td>0</td>\n",
              "      <td>1</td>\n",
              "      <td>112542.58</td>\n",
              "      <td>0</td>\n",
              "      <td>0</td>\n",
              "      <td>1</td>\n",
              "      <td>0</td>\n",
              "    </tr>\n",
              "    <tr>\n",
              "      <th>2</th>\n",
              "      <td>502</td>\n",
              "      <td>France</td>\n",
              "      <td>Female</td>\n",
              "      <td>42</td>\n",
              "      <td>8</td>\n",
              "      <td>159660.80</td>\n",
              "      <td>3</td>\n",
              "      <td>1</td>\n",
              "      <td>0</td>\n",
              "      <td>113931.57</td>\n",
              "      <td>1</td>\n",
              "      <td>0</td>\n",
              "      <td>0</td>\n",
              "      <td>0</td>\n",
              "    </tr>\n",
              "    <tr>\n",
              "      <th>3</th>\n",
              "      <td>699</td>\n",
              "      <td>France</td>\n",
              "      <td>Female</td>\n",
              "      <td>39</td>\n",
              "      <td>1</td>\n",
              "      <td>0.00</td>\n",
              "      <td>2</td>\n",
              "      <td>0</td>\n",
              "      <td>0</td>\n",
              "      <td>93826.63</td>\n",
              "      <td>1</td>\n",
              "      <td>0</td>\n",
              "      <td>0</td>\n",
              "      <td>0</td>\n",
              "    </tr>\n",
              "    <tr>\n",
              "      <th>4</th>\n",
              "      <td>850</td>\n",
              "      <td>Spain</td>\n",
              "      <td>Female</td>\n",
              "      <td>43</td>\n",
              "      <td>2</td>\n",
              "      <td>125510.82</td>\n",
              "      <td>1</td>\n",
              "      <td>1</td>\n",
              "      <td>1</td>\n",
              "      <td>79084.10</td>\n",
              "      <td>0</td>\n",
              "      <td>0</td>\n",
              "      <td>1</td>\n",
              "      <td>0</td>\n",
              "    </tr>\n",
              "  </tbody>\n",
              "</table>\n",
              "</div>"
            ],
            "text/plain": [
              "   CreditScore Geography  Gender  Age  ...  France  Germany  Spain  Male\n",
              "0          619    France  Female   42  ...       1        0      0     0\n",
              "1          608     Spain  Female   41  ...       0        0      1     0\n",
              "2          502    France  Female   42  ...       1        0      0     0\n",
              "3          699    France  Female   39  ...       1        0      0     0\n",
              "4          850     Spain  Female   43  ...       0        0      1     0\n",
              "\n",
              "[5 rows x 14 columns]"
            ]
          },
          "metadata": {
            "tags": []
          },
          "execution_count": 10
        }
      ]
    },
    {
      "cell_type": "code",
      "metadata": {
        "id": "2b1mUfXtBTzJ",
        "colab_type": "code",
        "colab": {}
      },
      "source": [
        "## Drop Unnecessary columns\n",
        "x=x.drop(['Geography','Gender'],axis=1)"
      ],
      "execution_count": 0,
      "outputs": []
    },
    {
      "cell_type": "code",
      "metadata": {
        "id": "ifVZrhrPBpS6",
        "colab_type": "code",
        "colab": {
          "base_uri": "https://localhost:8080/",
          "height": 224
        },
        "outputId": "bd4836b8-4dd1-4e71-a59c-647eb22bd44d"
      },
      "source": [
        "x.head()"
      ],
      "execution_count": 12,
      "outputs": [
        {
          "output_type": "execute_result",
          "data": {
            "text/html": [
              "<div>\n",
              "<style scoped>\n",
              "    .dataframe tbody tr th:only-of-type {\n",
              "        vertical-align: middle;\n",
              "    }\n",
              "\n",
              "    .dataframe tbody tr th {\n",
              "        vertical-align: top;\n",
              "    }\n",
              "\n",
              "    .dataframe thead th {\n",
              "        text-align: right;\n",
              "    }\n",
              "</style>\n",
              "<table border=\"1\" class=\"dataframe\">\n",
              "  <thead>\n",
              "    <tr style=\"text-align: right;\">\n",
              "      <th></th>\n",
              "      <th>CreditScore</th>\n",
              "      <th>Age</th>\n",
              "      <th>Tenure</th>\n",
              "      <th>Balance</th>\n",
              "      <th>NumOfProducts</th>\n",
              "      <th>HasCrCard</th>\n",
              "      <th>IsActiveMember</th>\n",
              "      <th>EstimatedSalary</th>\n",
              "      <th>France</th>\n",
              "      <th>Germany</th>\n",
              "      <th>Spain</th>\n",
              "      <th>Male</th>\n",
              "    </tr>\n",
              "  </thead>\n",
              "  <tbody>\n",
              "    <tr>\n",
              "      <th>0</th>\n",
              "      <td>619</td>\n",
              "      <td>42</td>\n",
              "      <td>2</td>\n",
              "      <td>0.00</td>\n",
              "      <td>1</td>\n",
              "      <td>1</td>\n",
              "      <td>1</td>\n",
              "      <td>101348.88</td>\n",
              "      <td>1</td>\n",
              "      <td>0</td>\n",
              "      <td>0</td>\n",
              "      <td>0</td>\n",
              "    </tr>\n",
              "    <tr>\n",
              "      <th>1</th>\n",
              "      <td>608</td>\n",
              "      <td>41</td>\n",
              "      <td>1</td>\n",
              "      <td>83807.86</td>\n",
              "      <td>1</td>\n",
              "      <td>0</td>\n",
              "      <td>1</td>\n",
              "      <td>112542.58</td>\n",
              "      <td>0</td>\n",
              "      <td>0</td>\n",
              "      <td>1</td>\n",
              "      <td>0</td>\n",
              "    </tr>\n",
              "    <tr>\n",
              "      <th>2</th>\n",
              "      <td>502</td>\n",
              "      <td>42</td>\n",
              "      <td>8</td>\n",
              "      <td>159660.80</td>\n",
              "      <td>3</td>\n",
              "      <td>1</td>\n",
              "      <td>0</td>\n",
              "      <td>113931.57</td>\n",
              "      <td>1</td>\n",
              "      <td>0</td>\n",
              "      <td>0</td>\n",
              "      <td>0</td>\n",
              "    </tr>\n",
              "    <tr>\n",
              "      <th>3</th>\n",
              "      <td>699</td>\n",
              "      <td>39</td>\n",
              "      <td>1</td>\n",
              "      <td>0.00</td>\n",
              "      <td>2</td>\n",
              "      <td>0</td>\n",
              "      <td>0</td>\n",
              "      <td>93826.63</td>\n",
              "      <td>1</td>\n",
              "      <td>0</td>\n",
              "      <td>0</td>\n",
              "      <td>0</td>\n",
              "    </tr>\n",
              "    <tr>\n",
              "      <th>4</th>\n",
              "      <td>850</td>\n",
              "      <td>43</td>\n",
              "      <td>2</td>\n",
              "      <td>125510.82</td>\n",
              "      <td>1</td>\n",
              "      <td>1</td>\n",
              "      <td>1</td>\n",
              "      <td>79084.10</td>\n",
              "      <td>0</td>\n",
              "      <td>0</td>\n",
              "      <td>1</td>\n",
              "      <td>0</td>\n",
              "    </tr>\n",
              "  </tbody>\n",
              "</table>\n",
              "</div>"
            ],
            "text/plain": [
              "   CreditScore  Age  Tenure    Balance  ...  France  Germany  Spain  Male\n",
              "0          619   42       2       0.00  ...       1        0      0     0\n",
              "1          608   41       1   83807.86  ...       0        0      1     0\n",
              "2          502   42       8  159660.80  ...       1        0      0     0\n",
              "3          699   39       1       0.00  ...       1        0      0     0\n",
              "4          850   43       2  125510.82  ...       0        0      1     0\n",
              "\n",
              "[5 rows x 12 columns]"
            ]
          },
          "metadata": {
            "tags": []
          },
          "execution_count": 12
        }
      ]
    },
    {
      "cell_type": "code",
      "metadata": {
        "id": "i6e0jUwyBtDd",
        "colab_type": "code",
        "colab": {}
      },
      "source": [
        "\n",
        "# Splitting the dataset into the Training set and Test set\n",
        "from sklearn.model_selection import train_test_split\n",
        "X_train, X_test, y_train, y_test = train_test_split(x, y, test_size = 0.2, random_state = 0)"
      ],
      "execution_count": 0,
      "outputs": []
    },
    {
      "cell_type": "code",
      "metadata": {
        "id": "3LPJjUeXB1Uw",
        "colab_type": "code",
        "colab": {}
      },
      "source": [
        "# now we do feature scaling because , to reudce computation \n",
        "# the feature value are higher and so we reduvce to one commone scale \n",
        "# Feature Scaling\n",
        "from sklearn.preprocessing import StandardScaler\n",
        "sc = StandardScaler()\n",
        "X_train = sc.fit_transform(X_train)\n",
        "X_test = sc.transform(X_test)"
      ],
      "execution_count": 0,
      "outputs": []
    },
    {
      "cell_type": "code",
      "metadata": {
        "id": "11prMi4uCVkM",
        "colab_type": "code",
        "colab": {}
      },
      "source": [
        "# Initialising the ANN\n",
        "classifier = Sequential()# this is empty NN currently"
      ],
      "execution_count": 0,
      "outputs": []
    },
    {
      "cell_type": "code",
      "metadata": {
        "id": "dbUu1OfCGpUd",
        "colab_type": "code",
        "colab": {}
      },
      "source": [
        "# Adding the input layer and the first hidden layer\n",
        "classifier.add(Dense(units=6, kernel_initializer = 'he_uniform',activation='relu',input_dim = 12))\n",
        "## first hidden layer \n",
        "# units=6 is the no of hidden unit in first hidden layer \n",
        "#kernel_initializer= 'he_uniform' it is the weight initialization - root of 6/fan_in\n",
        "# no of input_dim = 12 ie 12 features \n"
      ],
      "execution_count": 0,
      "outputs": []
    },
    {
      "cell_type": "code",
      "metadata": {
        "id": "hYiwDA8SHdZZ",
        "colab_type": "code",
        "colab": {}
      },
      "source": [
        "# Adding the second hidden layer\n",
        "classifier.add(Dense(units=6, kernel_initializer='he_uniform',activation='relu'))\n",
        "# no of hidden unit in 2nd layer is 6 "
      ],
      "execution_count": 0,
      "outputs": []
    },
    {
      "cell_type": "code",
      "metadata": {
        "id": "lhOZAUYSH612",
        "colab_type": "code",
        "colab": {}
      },
      "source": [
        "# Adding the output layer\n",
        "classifier.add(Dense(1, kernel_initializer='glorot_uniform', activation = 'sigmoid'))\n",
        "# so here the waight initilization changes to glorotuniform or xavier ie init= 'he_uniform' it is the weight initialization - root of 6/fan_in+fan_out\n",
        "#no of output unit is 1 \n"
      ],
      "execution_count": 0,
      "outputs": []
    },
    {
      "cell_type": "code",
      "metadata": {
        "id": "UUFgRR4AISRq",
        "colab_type": "code",
        "colab": {
          "base_uri": "https://localhost:8080/",
          "height": 255
        },
        "outputId": "6105e42c-3e1d-44cf-dc1f-df3c45be4058"
      },
      "source": [
        "#summary \n",
        "classifier.summary()"
      ],
      "execution_count": 19,
      "outputs": [
        {
          "output_type": "stream",
          "text": [
            "Model: \"sequential_1\"\n",
            "_________________________________________________________________\n",
            "Layer (type)                 Output Shape              Param #   \n",
            "=================================================================\n",
            "dense_1 (Dense)              (None, 6)                 78        \n",
            "_________________________________________________________________\n",
            "dense_2 (Dense)              (None, 6)                 42        \n",
            "_________________________________________________________________\n",
            "dense_3 (Dense)              (None, 1)                 7         \n",
            "=================================================================\n",
            "Total params: 127\n",
            "Trainable params: 127\n",
            "Non-trainable params: 0\n",
            "_________________________________________________________________\n"
          ],
          "name": "stdout"
        }
      ]
    },
    {
      "cell_type": "code",
      "metadata": {
        "id": "5offa9rbJSH_",
        "colab_type": "code",
        "colab": {}
      },
      "source": [
        "# no of parameter 78 \n",
        "#bcz , 6 x 12 + 6=78\n",
        "#( no of hidden unit x no of input unit + no of hidden unit ( bias))"
      ],
      "execution_count": 0,
      "outputs": []
    },
    {
      "cell_type": "code",
      "metadata": {
        "id": "VwYXIt9NKA4p",
        "colab_type": "code",
        "colab": {}
      },
      "source": [
        "# Compiling the ANN\n",
        "classifier.compile(optimizer = 'Adam', loss = 'binary_crossentropy', metrics = ['accuracy'])"
      ],
      "execution_count": 0,
      "outputs": []
    },
    {
      "cell_type": "code",
      "metadata": {
        "id": "J5r9UcOMKKgv",
        "colab_type": "code",
        "colab": {}
      },
      "source": [
        "#prefer using binary_crossentropy if you use sigmoid in o/p unit oor if hte o/p is binary categorical \n",
        "# if u have more than one category then prefer using \" CATEGORICAL_CROSSENTROPY\""
      ],
      "execution_count": 0,
      "outputs": []
    },
    {
      "cell_type": "code",
      "metadata": {
        "id": "Jm1tm7GEKi-E",
        "colab_type": "code",
        "colab": {
          "base_uri": "https://localhost:8080/",
          "height": 1000
        },
        "outputId": "1f09d0f0-0acb-45bb-e304-4664a3814b22"
      },
      "source": [
        "#Fitting the ANN to the Training set\n",
        "model_history=classifier.fit(X_train, y_train,validation_split=0.33, batch_size = 10, nb_epoch = 100)"
      ],
      "execution_count": 25,
      "outputs": [
        {
          "output_type": "stream",
          "text": [
            "/usr/local/lib/python3.6/dist-packages/ipykernel_launcher.py:2: UserWarning: The `nb_epoch` argument in `fit` has been renamed `epochs`.\n",
            "  \n"
          ],
          "name": "stderr"
        },
        {
          "output_type": "stream",
          "text": [
            "Train on 5359 samples, validate on 2641 samples\n",
            "Epoch 1/100\n",
            "5359/5359 [==============================] - 1s 194us/step - loss: 0.4753 - accuracy: 0.7960 - val_loss: 0.4588 - val_accuracy: 0.7955\n",
            "Epoch 2/100\n",
            "5359/5359 [==============================] - 1s 135us/step - loss: 0.4512 - accuracy: 0.7962 - val_loss: 0.4482 - val_accuracy: 0.7955\n",
            "Epoch 3/100\n",
            "5359/5359 [==============================] - 1s 133us/step - loss: 0.4417 - accuracy: 0.7962 - val_loss: 0.4431 - val_accuracy: 0.7955\n",
            "Epoch 4/100\n",
            "5359/5359 [==============================] - 1s 131us/step - loss: 0.4359 - accuracy: 0.7962 - val_loss: 0.4400 - val_accuracy: 0.7955\n",
            "Epoch 5/100\n",
            "5359/5359 [==============================] - 1s 134us/step - loss: 0.4320 - accuracy: 0.7962 - val_loss: 0.4371 - val_accuracy: 0.7955\n",
            "Epoch 6/100\n",
            "5359/5359 [==============================] - 1s 133us/step - loss: 0.4289 - accuracy: 0.8009 - val_loss: 0.4348 - val_accuracy: 0.7955\n",
            "Epoch 7/100\n",
            "5359/5359 [==============================] - 1s 135us/step - loss: 0.4263 - accuracy: 0.8072 - val_loss: 0.4324 - val_accuracy: 0.8095\n",
            "Epoch 8/100\n",
            "5359/5359 [==============================] - 1s 134us/step - loss: 0.4233 - accuracy: 0.8147 - val_loss: 0.4305 - val_accuracy: 0.8114\n",
            "Epoch 9/100\n",
            "5359/5359 [==============================] - 1s 135us/step - loss: 0.4202 - accuracy: 0.8173 - val_loss: 0.4295 - val_accuracy: 0.8152\n",
            "Epoch 10/100\n",
            "5359/5359 [==============================] - 1s 136us/step - loss: 0.4179 - accuracy: 0.8197 - val_loss: 0.4258 - val_accuracy: 0.8201\n",
            "Epoch 11/100\n",
            "5359/5359 [==============================] - 1s 135us/step - loss: 0.4161 - accuracy: 0.8250 - val_loss: 0.4242 - val_accuracy: 0.8217\n",
            "Epoch 12/100\n",
            "5359/5359 [==============================] - 1s 137us/step - loss: 0.4142 - accuracy: 0.8274 - val_loss: 0.4234 - val_accuracy: 0.8217\n",
            "Epoch 13/100\n",
            "5359/5359 [==============================] - 1s 136us/step - loss: 0.4124 - accuracy: 0.8278 - val_loss: 0.4227 - val_accuracy: 0.8224\n",
            "Epoch 14/100\n",
            "5359/5359 [==============================] - 1s 140us/step - loss: 0.4114 - accuracy: 0.8293 - val_loss: 0.4209 - val_accuracy: 0.8243\n",
            "Epoch 15/100\n",
            "5359/5359 [==============================] - 1s 136us/step - loss: 0.4103 - accuracy: 0.8321 - val_loss: 0.4199 - val_accuracy: 0.8254\n",
            "Epoch 16/100\n",
            "5359/5359 [==============================] - 1s 135us/step - loss: 0.4092 - accuracy: 0.8317 - val_loss: 0.4196 - val_accuracy: 0.8243\n",
            "Epoch 17/100\n",
            "5359/5359 [==============================] - 1s 138us/step - loss: 0.4084 - accuracy: 0.8319 - val_loss: 0.4185 - val_accuracy: 0.8281\n",
            "Epoch 18/100\n",
            "5359/5359 [==============================] - 1s 134us/step - loss: 0.4075 - accuracy: 0.8313 - val_loss: 0.4168 - val_accuracy: 0.8273\n",
            "Epoch 19/100\n",
            "5359/5359 [==============================] - 1s 142us/step - loss: 0.4068 - accuracy: 0.8343 - val_loss: 0.4170 - val_accuracy: 0.8277\n",
            "Epoch 20/100\n",
            "5359/5359 [==============================] - 1s 136us/step - loss: 0.4062 - accuracy: 0.8336 - val_loss: 0.4159 - val_accuracy: 0.8277\n",
            "Epoch 21/100\n",
            "5359/5359 [==============================] - 1s 137us/step - loss: 0.4058 - accuracy: 0.8349 - val_loss: 0.4150 - val_accuracy: 0.8266\n",
            "Epoch 22/100\n",
            "5359/5359 [==============================] - 1s 136us/step - loss: 0.4046 - accuracy: 0.8339 - val_loss: 0.4148 - val_accuracy: 0.8262\n",
            "Epoch 23/100\n",
            "5359/5359 [==============================] - 1s 139us/step - loss: 0.4041 - accuracy: 0.8345 - val_loss: 0.4146 - val_accuracy: 0.8266\n",
            "Epoch 24/100\n",
            "5359/5359 [==============================] - 1s 136us/step - loss: 0.4040 - accuracy: 0.8358 - val_loss: 0.4139 - val_accuracy: 0.8270\n",
            "Epoch 25/100\n",
            "5359/5359 [==============================] - 1s 135us/step - loss: 0.4034 - accuracy: 0.8350 - val_loss: 0.4131 - val_accuracy: 0.8266\n",
            "Epoch 26/100\n",
            "5359/5359 [==============================] - 1s 136us/step - loss: 0.4024 - accuracy: 0.8354 - val_loss: 0.4128 - val_accuracy: 0.8281\n",
            "Epoch 27/100\n",
            "5359/5359 [==============================] - 1s 139us/step - loss: 0.4021 - accuracy: 0.8365 - val_loss: 0.4128 - val_accuracy: 0.8277\n",
            "Epoch 28/100\n",
            "5359/5359 [==============================] - 1s 137us/step - loss: 0.4018 - accuracy: 0.8362 - val_loss: 0.4124 - val_accuracy: 0.8254\n",
            "Epoch 29/100\n",
            "5359/5359 [==============================] - 1s 141us/step - loss: 0.4012 - accuracy: 0.8358 - val_loss: 0.4129 - val_accuracy: 0.8266\n",
            "Epoch 30/100\n",
            "5359/5359 [==============================] - 1s 136us/step - loss: 0.4012 - accuracy: 0.8365 - val_loss: 0.4123 - val_accuracy: 0.8247\n",
            "Epoch 31/100\n",
            "5359/5359 [==============================] - 1s 137us/step - loss: 0.4006 - accuracy: 0.8365 - val_loss: 0.4113 - val_accuracy: 0.8243\n",
            "Epoch 32/100\n",
            "5359/5359 [==============================] - 1s 139us/step - loss: 0.4005 - accuracy: 0.8360 - val_loss: 0.4106 - val_accuracy: 0.8285\n",
            "Epoch 33/100\n",
            "5359/5359 [==============================] - 1s 139us/step - loss: 0.3996 - accuracy: 0.8380 - val_loss: 0.4117 - val_accuracy: 0.8296\n",
            "Epoch 34/100\n",
            "5359/5359 [==============================] - 1s 136us/step - loss: 0.3989 - accuracy: 0.8377 - val_loss: 0.4116 - val_accuracy: 0.8262\n",
            "Epoch 35/100\n",
            "5359/5359 [==============================] - 1s 137us/step - loss: 0.3990 - accuracy: 0.8378 - val_loss: 0.4116 - val_accuracy: 0.8243\n",
            "Epoch 36/100\n",
            "5359/5359 [==============================] - 1s 139us/step - loss: 0.3986 - accuracy: 0.8378 - val_loss: 0.4107 - val_accuracy: 0.8273\n",
            "Epoch 37/100\n",
            "5359/5359 [==============================] - 1s 136us/step - loss: 0.3986 - accuracy: 0.8382 - val_loss: 0.4099 - val_accuracy: 0.8270\n",
            "Epoch 38/100\n",
            "5359/5359 [==============================] - 1s 138us/step - loss: 0.3979 - accuracy: 0.8373 - val_loss: 0.4098 - val_accuracy: 0.8258\n",
            "Epoch 39/100\n",
            "5359/5359 [==============================] - 1s 137us/step - loss: 0.3976 - accuracy: 0.8367 - val_loss: 0.4101 - val_accuracy: 0.8270\n",
            "Epoch 40/100\n",
            "5359/5359 [==============================] - 1s 137us/step - loss: 0.3978 - accuracy: 0.8362 - val_loss: 0.4086 - val_accuracy: 0.8277\n",
            "Epoch 41/100\n",
            "5359/5359 [==============================] - 1s 138us/step - loss: 0.3971 - accuracy: 0.8395 - val_loss: 0.4089 - val_accuracy: 0.8285\n",
            "Epoch 42/100\n",
            "5359/5359 [==============================] - 1s 136us/step - loss: 0.3971 - accuracy: 0.8377 - val_loss: 0.4094 - val_accuracy: 0.8258\n",
            "Epoch 43/100\n",
            "5359/5359 [==============================] - 1s 141us/step - loss: 0.3968 - accuracy: 0.8380 - val_loss: 0.4077 - val_accuracy: 0.8281\n",
            "Epoch 44/100\n",
            "5359/5359 [==============================] - 1s 137us/step - loss: 0.3963 - accuracy: 0.8384 - val_loss: 0.4081 - val_accuracy: 0.8266\n",
            "Epoch 45/100\n",
            "5359/5359 [==============================] - 1s 142us/step - loss: 0.3958 - accuracy: 0.8377 - val_loss: 0.4085 - val_accuracy: 0.8270\n",
            "Epoch 46/100\n",
            "5359/5359 [==============================] - 1s 147us/step - loss: 0.3957 - accuracy: 0.8386 - val_loss: 0.4080 - val_accuracy: 0.8296\n",
            "Epoch 47/100\n",
            "5359/5359 [==============================] - 1s 150us/step - loss: 0.3953 - accuracy: 0.8390 - val_loss: 0.4069 - val_accuracy: 0.8285\n",
            "Epoch 48/100\n",
            "5359/5359 [==============================] - 1s 149us/step - loss: 0.3951 - accuracy: 0.8401 - val_loss: 0.4068 - val_accuracy: 0.8281\n",
            "Epoch 49/100\n",
            "5359/5359 [==============================] - 1s 147us/step - loss: 0.3951 - accuracy: 0.8403 - val_loss: 0.4066 - val_accuracy: 0.8296\n",
            "Epoch 50/100\n",
            "5359/5359 [==============================] - 1s 146us/step - loss: 0.3948 - accuracy: 0.8390 - val_loss: 0.4062 - val_accuracy: 0.8315\n",
            "Epoch 51/100\n",
            "5359/5359 [==============================] - 1s 148us/step - loss: 0.3942 - accuracy: 0.8399 - val_loss: 0.4065 - val_accuracy: 0.8292\n",
            "Epoch 52/100\n",
            "5359/5359 [==============================] - 1s 147us/step - loss: 0.3937 - accuracy: 0.8410 - val_loss: 0.4068 - val_accuracy: 0.8307\n",
            "Epoch 53/100\n",
            "5359/5359 [==============================] - 1s 149us/step - loss: 0.3936 - accuracy: 0.8397 - val_loss: 0.4059 - val_accuracy: 0.8307\n",
            "Epoch 54/100\n",
            "5359/5359 [==============================] - 1s 146us/step - loss: 0.3932 - accuracy: 0.8405 - val_loss: 0.4056 - val_accuracy: 0.8307\n",
            "Epoch 55/100\n",
            "5359/5359 [==============================] - 1s 147us/step - loss: 0.3931 - accuracy: 0.8406 - val_loss: 0.4057 - val_accuracy: 0.8296\n",
            "Epoch 56/100\n",
            "5359/5359 [==============================] - 1s 148us/step - loss: 0.3931 - accuracy: 0.8390 - val_loss: 0.4051 - val_accuracy: 0.8307\n",
            "Epoch 57/100\n",
            "5359/5359 [==============================] - 1s 152us/step - loss: 0.3926 - accuracy: 0.8401 - val_loss: 0.4054 - val_accuracy: 0.8307\n",
            "Epoch 58/100\n",
            "5359/5359 [==============================] - 1s 144us/step - loss: 0.3926 - accuracy: 0.8390 - val_loss: 0.4042 - val_accuracy: 0.8289\n",
            "Epoch 59/100\n",
            "5359/5359 [==============================] - 1s 138us/step - loss: 0.3920 - accuracy: 0.8395 - val_loss: 0.4035 - val_accuracy: 0.8315\n",
            "Epoch 60/100\n",
            "5359/5359 [==============================] - 1s 138us/step - loss: 0.3918 - accuracy: 0.8401 - val_loss: 0.4046 - val_accuracy: 0.8285\n",
            "Epoch 61/100\n",
            "5359/5359 [==============================] - 1s 136us/step - loss: 0.3915 - accuracy: 0.8393 - val_loss: 0.4036 - val_accuracy: 0.8307\n",
            "Epoch 62/100\n",
            "5359/5359 [==============================] - 1s 135us/step - loss: 0.3916 - accuracy: 0.8380 - val_loss: 0.4034 - val_accuracy: 0.8319\n",
            "Epoch 63/100\n",
            "5359/5359 [==============================] - 1s 136us/step - loss: 0.3909 - accuracy: 0.8395 - val_loss: 0.4046 - val_accuracy: 0.8307\n",
            "Epoch 64/100\n",
            "5359/5359 [==============================] - 1s 136us/step - loss: 0.3917 - accuracy: 0.8418 - val_loss: 0.4028 - val_accuracy: 0.8307\n",
            "Epoch 65/100\n",
            "5359/5359 [==============================] - 1s 136us/step - loss: 0.3906 - accuracy: 0.8397 - val_loss: 0.4028 - val_accuracy: 0.8319\n",
            "Epoch 66/100\n",
            "5359/5359 [==============================] - 1s 137us/step - loss: 0.3902 - accuracy: 0.8388 - val_loss: 0.4032 - val_accuracy: 0.8334\n",
            "Epoch 67/100\n",
            "5359/5359 [==============================] - 1s 144us/step - loss: 0.3902 - accuracy: 0.8412 - val_loss: 0.4031 - val_accuracy: 0.8300\n",
            "Epoch 68/100\n",
            "5359/5359 [==============================] - 1s 152us/step - loss: 0.3898 - accuracy: 0.8388 - val_loss: 0.4018 - val_accuracy: 0.8326\n",
            "Epoch 69/100\n",
            "5359/5359 [==============================] - 1s 148us/step - loss: 0.3893 - accuracy: 0.8408 - val_loss: 0.4026 - val_accuracy: 0.8326\n",
            "Epoch 70/100\n",
            "5359/5359 [==============================] - 1s 145us/step - loss: 0.3890 - accuracy: 0.8382 - val_loss: 0.4009 - val_accuracy: 0.8315\n",
            "Epoch 71/100\n",
            "5359/5359 [==============================] - 1s 153us/step - loss: 0.3882 - accuracy: 0.8390 - val_loss: 0.4008 - val_accuracy: 0.8315\n",
            "Epoch 72/100\n",
            "5359/5359 [==============================] - 1s 149us/step - loss: 0.3874 - accuracy: 0.8380 - val_loss: 0.4003 - val_accuracy: 0.8323\n",
            "Epoch 73/100\n",
            "5359/5359 [==============================] - 1s 147us/step - loss: 0.3865 - accuracy: 0.8395 - val_loss: 0.3992 - val_accuracy: 0.8334\n",
            "Epoch 74/100\n",
            "5359/5359 [==============================] - 1s 143us/step - loss: 0.3861 - accuracy: 0.8418 - val_loss: 0.4004 - val_accuracy: 0.8338\n",
            "Epoch 75/100\n",
            "5359/5359 [==============================] - 1s 139us/step - loss: 0.3855 - accuracy: 0.8427 - val_loss: 0.3985 - val_accuracy: 0.8338\n",
            "Epoch 76/100\n",
            "5359/5359 [==============================] - 1s 136us/step - loss: 0.3842 - accuracy: 0.8444 - val_loss: 0.3979 - val_accuracy: 0.8353\n",
            "Epoch 77/100\n",
            "5359/5359 [==============================] - 1s 136us/step - loss: 0.3834 - accuracy: 0.8433 - val_loss: 0.3973 - val_accuracy: 0.8342\n",
            "Epoch 78/100\n",
            "5359/5359 [==============================] - 1s 134us/step - loss: 0.3826 - accuracy: 0.8447 - val_loss: 0.3953 - val_accuracy: 0.8349\n",
            "Epoch 79/100\n",
            "5359/5359 [==============================] - 1s 136us/step - loss: 0.3814 - accuracy: 0.8449 - val_loss: 0.3969 - val_accuracy: 0.8349\n",
            "Epoch 80/100\n",
            "5359/5359 [==============================] - 1s 136us/step - loss: 0.3801 - accuracy: 0.8447 - val_loss: 0.3959 - val_accuracy: 0.8353\n",
            "Epoch 81/100\n",
            "5359/5359 [==============================] - 1s 139us/step - loss: 0.3793 - accuracy: 0.8464 - val_loss: 0.3926 - val_accuracy: 0.8406\n",
            "Epoch 82/100\n",
            "5359/5359 [==============================] - 1s 136us/step - loss: 0.3785 - accuracy: 0.8461 - val_loss: 0.3917 - val_accuracy: 0.8417\n",
            "Epoch 83/100\n",
            "5359/5359 [==============================] - 1s 136us/step - loss: 0.3770 - accuracy: 0.8474 - val_loss: 0.3903 - val_accuracy: 0.8406\n",
            "Epoch 84/100\n",
            "5359/5359 [==============================] - 1s 136us/step - loss: 0.3749 - accuracy: 0.8474 - val_loss: 0.3916 - val_accuracy: 0.8395\n",
            "Epoch 85/100\n",
            "5359/5359 [==============================] - 1s 142us/step - loss: 0.3743 - accuracy: 0.8487 - val_loss: 0.3887 - val_accuracy: 0.8425\n",
            "Epoch 86/100\n",
            "5359/5359 [==============================] - 1s 136us/step - loss: 0.3727 - accuracy: 0.8489 - val_loss: 0.3859 - val_accuracy: 0.8432\n",
            "Epoch 87/100\n",
            "5359/5359 [==============================] - 1s 137us/step - loss: 0.3708 - accuracy: 0.8490 - val_loss: 0.3844 - val_accuracy: 0.8444\n",
            "Epoch 88/100\n",
            "5359/5359 [==============================] - 1s 136us/step - loss: 0.3672 - accuracy: 0.8487 - val_loss: 0.3819 - val_accuracy: 0.8432\n",
            "Epoch 89/100\n",
            "5359/5359 [==============================] - 1s 136us/step - loss: 0.3636 - accuracy: 0.8509 - val_loss: 0.3788 - val_accuracy: 0.8459\n",
            "Epoch 90/100\n",
            "5359/5359 [==============================] - 1s 135us/step - loss: 0.3608 - accuracy: 0.8492 - val_loss: 0.3735 - val_accuracy: 0.8485\n",
            "Epoch 91/100\n",
            "5359/5359 [==============================] - 1s 136us/step - loss: 0.3573 - accuracy: 0.8515 - val_loss: 0.3708 - val_accuracy: 0.8493\n",
            "Epoch 92/100\n",
            "5359/5359 [==============================] - 1s 136us/step - loss: 0.3534 - accuracy: 0.8522 - val_loss: 0.3690 - val_accuracy: 0.8523\n",
            "Epoch 93/100\n",
            "5359/5359 [==============================] - 1s 138us/step - loss: 0.3504 - accuracy: 0.8531 - val_loss: 0.3652 - val_accuracy: 0.8516\n",
            "Epoch 94/100\n",
            "5359/5359 [==============================] - 1s 142us/step - loss: 0.3472 - accuracy: 0.8537 - val_loss: 0.3620 - val_accuracy: 0.8497\n",
            "Epoch 95/100\n",
            "5359/5359 [==============================] - 1s 137us/step - loss: 0.3441 - accuracy: 0.8561 - val_loss: 0.3609 - val_accuracy: 0.8527\n",
            "Epoch 96/100\n",
            "5359/5359 [==============================] - 1s 136us/step - loss: 0.3425 - accuracy: 0.8586 - val_loss: 0.3582 - val_accuracy: 0.8550\n",
            "Epoch 97/100\n",
            "5359/5359 [==============================] - 1s 137us/step - loss: 0.3397 - accuracy: 0.8586 - val_loss: 0.3563 - val_accuracy: 0.8565\n",
            "Epoch 98/100\n",
            "5359/5359 [==============================] - 1s 135us/step - loss: 0.3376 - accuracy: 0.8582 - val_loss: 0.3562 - val_accuracy: 0.8557\n",
            "Epoch 99/100\n",
            "5359/5359 [==============================] - 1s 139us/step - loss: 0.3364 - accuracy: 0.8569 - val_loss: 0.3541 - val_accuracy: 0.8584\n",
            "Epoch 100/100\n",
            "5359/5359 [==============================] - 1s 137us/step - loss: 0.3349 - accuracy: 0.8584 - val_loss: 0.3519 - val_accuracy: 0.8607\n"
          ],
          "name": "stdout"
        }
      ]
    },
    {
      "cell_type": "markdown",
      "metadata": {
        "id": "dxnW5wcRKyUB",
        "colab_type": "text"
      },
      "source": [
        "ONE EPOCH IS ONE FULL ACCESS TO DATA POINTS \n",
        "SO \n",
        "IN ONE EPOCH , 10 DATA POINTS ARE SELECTED AND COMPUTED LOSS AND BACKPROB TO REDUCE THEN ANOTHER 10 IS SELECTED COMPUTED LOSS AND REDUCE IT \n",
        "UNTILL ALL THE DATA POINT ARE ACCESSED "
      ]
    },
    {
      "cell_type": "code",
      "metadata": {
        "id": "a7A1ZzL-LkJH",
        "colab_type": "code",
        "colab": {}
      },
      "source": [
        "# HERE YOU CAN SEE IT HAS LOW BIAS AND LOW VARIANCE \n",
        "# BIAS = ERROR IS TRAIN DATA \n",
        "# VARIANCE = ERROR IN TEST DATA \n",
        "# SO BY SEEING THE VAL_LOSS AND LOSS , BOTH ARE LOW \n",
        "\n",
        "# AND , WE GOT BOTH THE VAL AND ACC AS APPOX EQUAL \n",
        "\n",
        "# AND BY SELECTING CRT WEIGHT INIT , THE OPTIMIZER THIS IS THE GOOD RESULT \n"
      ],
      "execution_count": 0,
      "outputs": []
    },
    {
      "cell_type": "code",
      "metadata": {
        "id": "DVRwZ8FYMXWq",
        "colab_type": "code",
        "colab": {}
      },
      "source": [
        "# Predicting the Test set results\n",
        "y_pred = classifier.predict(X_test)\n",
        "#y_pred = (y_pred > 0.5)"
      ],
      "execution_count": 0,
      "outputs": []
    },
    {
      "cell_type": "code",
      "metadata": {
        "id": "0JTa1Tp8Mh0E",
        "colab_type": "code",
        "colab": {
          "base_uri": "https://localhost:8080/",
          "height": 136
        },
        "outputId": "e426470d-6bb3-46e5-a3ad-e198440cf2df"
      },
      "source": [
        "y_pred"
      ],
      "execution_count": 30,
      "outputs": [
        {
          "output_type": "execute_result",
          "data": {
            "text/plain": [
              "array([[0.3144279 ],\n",
              "       [0.28220296],\n",
              "       [0.19309878],\n",
              "       ...,\n",
              "       [0.3326072 ],\n",
              "       [0.24662223],\n",
              "       [0.1795983 ]], dtype=float32)"
            ]
          },
          "metadata": {
            "tags": []
          },
          "execution_count": 30
        }
      ]
    },
    {
      "cell_type": "code",
      "metadata": {
        "id": "J_P7FmtSMkU-",
        "colab_type": "code",
        "colab": {}
      },
      "source": [
        "# so we use sigmoid the y_pred will be 0 - 1 \n",
        "# i use one condition to know it is 0 or 1 \n",
        "y_pred=y_pred>0.5 # true if > 0.5 else false \n",
        "# so true means 1 false means 0 \n"
      ],
      "execution_count": 0,
      "outputs": []
    },
    {
      "cell_type": "code",
      "metadata": {
        "id": "uPB2kfMbNPaD",
        "colab_type": "code",
        "colab": {
          "base_uri": "https://localhost:8080/",
          "height": 136
        },
        "outputId": "db40ffbe-e68b-4a8f-e079-a7896de070be"
      },
      "source": [
        "y_pred"
      ],
      "execution_count": 32,
      "outputs": [
        {
          "output_type": "execute_result",
          "data": {
            "text/plain": [
              "array([[False],\n",
              "       [False],\n",
              "       [False],\n",
              "       ...,\n",
              "       [False],\n",
              "       [False],\n",
              "       [False]])"
            ]
          },
          "metadata": {
            "tags": []
          },
          "execution_count": 32
        }
      ]
    },
    {
      "cell_type": "code",
      "metadata": {
        "id": "qGgqKML8NRzS",
        "colab_type": "code",
        "colab": {}
      },
      "source": [
        "# Making the Confusion Matrix\n",
        "from sklearn.metrics import confusion_matrix\n",
        "cm = confusion_matrix(y_test, y_pred)"
      ],
      "execution_count": 0,
      "outputs": []
    },
    {
      "cell_type": "code",
      "metadata": {
        "id": "zCPXrOqiNWAm",
        "colab_type": "code",
        "colab": {
          "base_uri": "https://localhost:8080/",
          "height": 51
        },
        "outputId": "b2eb0b85-75c6-414b-9d49-eba3fb6da4bb"
      },
      "source": [
        "cm"
      ],
      "execution_count": 34,
      "outputs": [
        {
          "output_type": "execute_result",
          "data": {
            "text/plain": [
              "array([[1502,   93],\n",
              "       [ 190,  215]])"
            ]
          },
          "metadata": {
            "tags": []
          },
          "execution_count": 34
        }
      ]
    },
    {
      "cell_type": "code",
      "metadata": {
        "id": "MAx9myEsNW1_",
        "colab_type": "code",
        "colab": {}
      },
      "source": [
        "# Calculate the Accuracy\n",
        "from sklearn.metrics import accuracy_score\n",
        "score=accuracy_score(y_pred,y_test)"
      ],
      "execution_count": 0,
      "outputs": []
    },
    {
      "cell_type": "code",
      "metadata": {
        "id": "YyrM3v-jNceH",
        "colab_type": "code",
        "colab": {
          "base_uri": "https://localhost:8080/",
          "height": 34
        },
        "outputId": "2376f960-8645-4ff1-ec8b-a86f00aa16fe"
      },
      "source": [
        "score  # the accuracy is 0.85 but we can try to increase it "
      ],
      "execution_count": 36,
      "outputs": [
        {
          "output_type": "execute_result",
          "data": {
            "text/plain": [
              "0.8585"
            ]
          },
          "metadata": {
            "tags": []
          },
          "execution_count": 36
        }
      ]
    },
    {
      "cell_type": "code",
      "metadata": {
        "id": "-XFcXjrUTTRj",
        "colab_type": "code",
        "colab": {
          "base_uri": "https://localhost:8080/",
          "height": 590
        },
        "outputId": "7fd91415-23a3-46c8-cbf7-8baa3b5e7b1d"
      },
      "source": [
        "# list all data in history\n",
        "\n",
        "print(model_history.history.keys())\n",
        "# summarize history for accuracy\n",
        "plt.plot(model_history.history['accuracy'])\n",
        "plt.plot(model_history.history['val_accuracy'])\n",
        "plt.title('model accuracy')\n",
        "plt.ylabel('accuracy')\n",
        "plt.xlabel('epoch')\n",
        "plt.legend(['train', 'test'], loc='upper left')\n",
        "plt.show()\n",
        "\n",
        "# summarize history for loss\n",
        "plt.plot(model_history.history['loss'])\n",
        "plt.plot(model_history.history['val_loss'])\n",
        "plt.title('model loss')\n",
        "plt.ylabel('loss')\n",
        "plt.xlabel('epoch')\n",
        "plt.legend(['train', 'test'], loc='upper left')\n",
        "plt.show()"
      ],
      "execution_count": 72,
      "outputs": [
        {
          "output_type": "stream",
          "text": [
            "dict_keys(['val_loss', 'val_accuracy', 'loss', 'accuracy'])\n"
          ],
          "name": "stdout"
        },
        {
          "output_type": "display_data",
          "data": {
            "image/png": "[encoded data removed]",
            "text/plain": [
              "<Figure size 432x288 with 1 Axes>"
            ]
          },
          "metadata": {
            "tags": [],
            "needs_background": "light"
          }
        },
        {
          "output_type": "display_data",
          "data": {
            "image/png": "[encoded data removed]",
            "text/plain": [
              "<Figure size 432x288 with 1 Axes>"
            ]
          },
          "metadata": {
            "tags": [],
            "needs_background": "light"
          }
        }
      ]
    },
    {
      "cell_type": "code",
      "metadata": {
        "id": "1QTBZiJ_Nd3i",
        "colab_type": "code",
        "colab": {}
      },
      "source": [
        "# INCREASING THE ACCURACY IF POSSIBLE \n",
        "# Initialising the ANN\n",
        "classifier_new = Sequential()# this is empty NN currently"
      ],
      "execution_count": 0,
      "outputs": []
    },
    {
      "cell_type": "code",
      "metadata": {
        "id": "aRaQE627N1V9",
        "colab_type": "code",
        "colab": {}
      },
      "source": [
        "classifier_new.add(Dense(units=20, kernel_initializer = 'he_normal',activation='relu',input_dim = 12))\n",
        "classifier_new.add(Dropout(0.3))\n",
        "classifier_new.add(Dense(units=20, kernel_initializer='he_normal',activation='relu'))\n",
        "classifier_new.add(Dropout(0.2))\n",
        "classifier_new.add(Dense(units=15, kernel_initializer='he_normal',activation='relu'))\n",
        "classifier_new.add(Dropout(0.3))\n",
        "classifier_new.add(Dense(units=10, kernel_initializer='he_normal',activation='relu'))\n",
        "classifier_new.add(Dropout(0.1))\n",
        "classifier_new.add(Dense(units=1, kernel_initializer='glorot_normal',activation='sigmoid'))"
      ],
      "execution_count": 0,
      "outputs": []
    },
    {
      "cell_type": "code",
      "metadata": {
        "id": "13LlVzV1ObhZ",
        "colab_type": "code",
        "colab": {
          "base_uri": "https://localhost:8080/",
          "height": 459
        },
        "outputId": "11b3a05d-39d7-443c-ad07-4eb91f7847a3"
      },
      "source": [
        "classifier_new.summary()"
      ],
      "execution_count": 64,
      "outputs": [
        {
          "output_type": "stream",
          "text": [
            "Model: \"sequential_6\"\n",
            "_________________________________________________________________\n",
            "Layer (type)                 Output Shape              Param #   \n",
            "=================================================================\n",
            "dense_29 (Dense)             (None, 20)                260       \n",
            "_________________________________________________________________\n",
            "dropout_1 (Dropout)          (None, 20)                0         \n",
            "_________________________________________________________________\n",
            "dense_30 (Dense)             (None, 20)                420       \n",
            "_________________________________________________________________\n",
            "dropout_2 (Dropout)          (None, 20)                0         \n",
            "_________________________________________________________________\n",
            "dense_31 (Dense)             (None, 15)                315       \n",
            "_________________________________________________________________\n",
            "dropout_3 (Dropout)          (None, 15)                0         \n",
            "_________________________________________________________________\n",
            "dense_32 (Dense)             (None, 10)                160       \n",
            "_________________________________________________________________\n",
            "dropout_4 (Dropout)          (None, 10)                0         \n",
            "_________________________________________________________________\n",
            "dense_33 (Dense)             (None, 1)                 11        \n",
            "=================================================================\n",
            "Total params: 1,166\n",
            "Trainable params: 1,166\n",
            "Non-trainable params: 0\n",
            "_________________________________________________________________\n"
          ],
          "name": "stdout"
        }
      ]
    },
    {
      "cell_type": "code",
      "metadata": {
        "id": "wAycNkF5Oi71",
        "colab_type": "code",
        "colab": {}
      },
      "source": [
        "# Compiling the ANN\n",
        "classifier_new.compile(optimizer = 'Adam', loss = 'binary_crossentropy', metrics = ['accuracy'])"
      ],
      "execution_count": 0,
      "outputs": []
    },
    {
      "cell_type": "code",
      "metadata": {
        "id": "cH-CovINO1YK",
        "colab_type": "code",
        "colab": {
          "base_uri": "https://localhost:8080/",
          "height": 1000
        },
        "outputId": "926b1b83-9a52-47ad-b220-50868f397b0b"
      },
      "source": [
        "#Fitting the ANN to the Training set\n",
        "model_history_new=classifier_new.fit(X_train, y_train,validation_split=0.33, batch_size = 10, nb_epoch = 100)"
      ],
      "execution_count": 66,
      "outputs": [
        {
          "output_type": "stream",
          "text": [
            "/usr/local/lib/python3.6/dist-packages/ipykernel_launcher.py:2: UserWarning: The `nb_epoch` argument in `fit` has been renamed `epochs`.\n",
            "  \n"
          ],
          "name": "stderr"
        },
        {
          "output_type": "stream",
          "text": [
            "Train on 5359 samples, validate on 2641 samples\n",
            "Epoch 1/100\n",
            "5359/5359 [==============================] - 1s 213us/step - loss: 0.6100 - accuracy: 0.7313 - val_loss: 0.5104 - val_accuracy: 0.7955\n",
            "Epoch 2/100\n",
            "5359/5359 [==============================] - 1s 171us/step - loss: 0.5118 - accuracy: 0.7925 - val_loss: 0.4788 - val_accuracy: 0.7955\n",
            "Epoch 3/100\n",
            "5359/5359 [==============================] - 1s 169us/step - loss: 0.4884 - accuracy: 0.7981 - val_loss: 0.4560 - val_accuracy: 0.7974\n",
            "Epoch 4/100\n",
            "5359/5359 [==============================] - 1s 166us/step - loss: 0.4796 - accuracy: 0.7970 - val_loss: 0.4490 - val_accuracy: 0.7948\n",
            "Epoch 5/100\n",
            "5359/5359 [==============================] - 1s 171us/step - loss: 0.4615 - accuracy: 0.8054 - val_loss: 0.4361 - val_accuracy: 0.8027\n",
            "Epoch 6/100\n",
            "5359/5359 [==============================] - 1s 171us/step - loss: 0.4458 - accuracy: 0.8072 - val_loss: 0.4277 - val_accuracy: 0.8054\n",
            "Epoch 7/100\n",
            "5359/5359 [==============================] - 1s 173us/step - loss: 0.4492 - accuracy: 0.8052 - val_loss: 0.4269 - val_accuracy: 0.8058\n",
            "Epoch 8/100\n",
            "5359/5359 [==============================] - 1s 169us/step - loss: 0.4418 - accuracy: 0.8076 - val_loss: 0.4238 - val_accuracy: 0.8042\n",
            "Epoch 9/100\n",
            "5359/5359 [==============================] - 1s 172us/step - loss: 0.4306 - accuracy: 0.8153 - val_loss: 0.4181 - val_accuracy: 0.8141\n",
            "Epoch 10/100\n",
            "5359/5359 [==============================] - 1s 174us/step - loss: 0.4231 - accuracy: 0.8179 - val_loss: 0.4138 - val_accuracy: 0.8190\n",
            "Epoch 11/100\n",
            "5359/5359 [==============================] - 1s 171us/step - loss: 0.4242 - accuracy: 0.8169 - val_loss: 0.4165 - val_accuracy: 0.8080\n",
            "Epoch 12/100\n",
            "5359/5359 [==============================] - 1s 175us/step - loss: 0.4185 - accuracy: 0.8203 - val_loss: 0.4046 - val_accuracy: 0.8190\n",
            "Epoch 13/100\n",
            "5359/5359 [==============================] - 1s 174us/step - loss: 0.4124 - accuracy: 0.8227 - val_loss: 0.4013 - val_accuracy: 0.8254\n",
            "Epoch 14/100\n",
            "5359/5359 [==============================] - 1s 175us/step - loss: 0.4136 - accuracy: 0.8237 - val_loss: 0.4001 - val_accuracy: 0.8179\n",
            "Epoch 15/100\n",
            "5359/5359 [==============================] - 1s 173us/step - loss: 0.4013 - accuracy: 0.8304 - val_loss: 0.3920 - val_accuracy: 0.8349\n",
            "Epoch 16/100\n",
            "5359/5359 [==============================] - 1s 174us/step - loss: 0.3959 - accuracy: 0.8309 - val_loss: 0.3852 - val_accuracy: 0.8345\n",
            "Epoch 17/100\n",
            "5359/5359 [==============================] - 1s 171us/step - loss: 0.4010 - accuracy: 0.8326 - val_loss: 0.3849 - val_accuracy: 0.8330\n",
            "Epoch 18/100\n",
            "5359/5359 [==============================] - 1s 176us/step - loss: 0.3946 - accuracy: 0.8362 - val_loss: 0.3850 - val_accuracy: 0.8338\n",
            "Epoch 19/100\n",
            "5359/5359 [==============================] - 1s 171us/step - loss: 0.3900 - accuracy: 0.8349 - val_loss: 0.3799 - val_accuracy: 0.8315\n",
            "Epoch 20/100\n",
            "5359/5359 [==============================] - 1s 170us/step - loss: 0.3826 - accuracy: 0.8358 - val_loss: 0.3795 - val_accuracy: 0.8281\n",
            "Epoch 21/100\n",
            "5359/5359 [==============================] - 1s 172us/step - loss: 0.3817 - accuracy: 0.8416 - val_loss: 0.3790 - val_accuracy: 0.8334\n",
            "Epoch 22/100\n",
            "5359/5359 [==============================] - 1s 173us/step - loss: 0.3823 - accuracy: 0.8375 - val_loss: 0.3811 - val_accuracy: 0.8258\n",
            "Epoch 23/100\n",
            "5359/5359 [==============================] - 1s 176us/step - loss: 0.3848 - accuracy: 0.8343 - val_loss: 0.3824 - val_accuracy: 0.8224\n",
            "Epoch 24/100\n",
            "5359/5359 [==============================] - 1s 173us/step - loss: 0.3779 - accuracy: 0.8419 - val_loss: 0.3767 - val_accuracy: 0.8342\n",
            "Epoch 25/100\n",
            "5359/5359 [==============================] - 1s 174us/step - loss: 0.3747 - accuracy: 0.8477 - val_loss: 0.3742 - val_accuracy: 0.8417\n",
            "Epoch 26/100\n",
            "5359/5359 [==============================] - 1s 173us/step - loss: 0.3811 - accuracy: 0.8447 - val_loss: 0.3756 - val_accuracy: 0.8395\n",
            "Epoch 27/100\n",
            "5359/5359 [==============================] - 1s 173us/step - loss: 0.3804 - accuracy: 0.8412 - val_loss: 0.3780 - val_accuracy: 0.8383\n",
            "Epoch 28/100\n",
            "5359/5359 [==============================] - 1s 175us/step - loss: 0.3717 - accuracy: 0.8485 - val_loss: 0.3738 - val_accuracy: 0.8429\n",
            "Epoch 29/100\n",
            "5359/5359 [==============================] - 1s 177us/step - loss: 0.3708 - accuracy: 0.8451 - val_loss: 0.3694 - val_accuracy: 0.8459\n",
            "Epoch 30/100\n",
            "5359/5359 [==============================] - 1s 183us/step - loss: 0.3711 - accuracy: 0.8433 - val_loss: 0.3716 - val_accuracy: 0.8466\n",
            "Epoch 31/100\n",
            "5359/5359 [==============================] - 1s 180us/step - loss: 0.3655 - accuracy: 0.8470 - val_loss: 0.3726 - val_accuracy: 0.8436\n",
            "Epoch 32/100\n",
            "5359/5359 [==============================] - 1s 185us/step - loss: 0.3690 - accuracy: 0.8498 - val_loss: 0.3712 - val_accuracy: 0.8463\n",
            "Epoch 33/100\n",
            "5359/5359 [==============================] - 1s 182us/step - loss: 0.3669 - accuracy: 0.8479 - val_loss: 0.3768 - val_accuracy: 0.8357\n",
            "Epoch 34/100\n",
            "5359/5359 [==============================] - 1s 186us/step - loss: 0.3693 - accuracy: 0.8461 - val_loss: 0.3708 - val_accuracy: 0.8501\n",
            "Epoch 35/100\n",
            "5359/5359 [==============================] - 1s 176us/step - loss: 0.3724 - accuracy: 0.8436 - val_loss: 0.3736 - val_accuracy: 0.8421\n",
            "Epoch 36/100\n",
            "5359/5359 [==============================] - 1s 173us/step - loss: 0.3644 - accuracy: 0.8455 - val_loss: 0.3725 - val_accuracy: 0.8440\n",
            "Epoch 37/100\n",
            "5359/5359 [==============================] - 1s 186us/step - loss: 0.3611 - accuracy: 0.8489 - val_loss: 0.3720 - val_accuracy: 0.8432\n",
            "Epoch 38/100\n",
            "5359/5359 [==============================] - 1s 183us/step - loss: 0.3522 - accuracy: 0.8487 - val_loss: 0.3664 - val_accuracy: 0.8493\n",
            "Epoch 39/100\n",
            "5359/5359 [==============================] - 1s 183us/step - loss: 0.3601 - accuracy: 0.8496 - val_loss: 0.3688 - val_accuracy: 0.8432\n",
            "Epoch 40/100\n",
            "5359/5359 [==============================] - 1s 189us/step - loss: 0.3628 - accuracy: 0.8479 - val_loss: 0.3668 - val_accuracy: 0.8436\n",
            "Epoch 41/100\n",
            "5359/5359 [==============================] - 1s 185us/step - loss: 0.3604 - accuracy: 0.8474 - val_loss: 0.3720 - val_accuracy: 0.8432\n",
            "Epoch 42/100\n",
            "5359/5359 [==============================] - 1s 184us/step - loss: 0.3538 - accuracy: 0.8507 - val_loss: 0.3668 - val_accuracy: 0.8451\n",
            "Epoch 43/100\n",
            "5359/5359 [==============================] - 1s 184us/step - loss: 0.3567 - accuracy: 0.8477 - val_loss: 0.3709 - val_accuracy: 0.8429\n",
            "Epoch 44/100\n",
            "5359/5359 [==============================] - 1s 185us/step - loss: 0.3646 - accuracy: 0.8500 - val_loss: 0.3666 - val_accuracy: 0.8470\n",
            "Epoch 45/100\n",
            "5359/5359 [==============================] - 1s 185us/step - loss: 0.3600 - accuracy: 0.8515 - val_loss: 0.3730 - val_accuracy: 0.8395\n",
            "Epoch 46/100\n",
            "5359/5359 [==============================] - 1s 185us/step - loss: 0.3559 - accuracy: 0.8513 - val_loss: 0.3750 - val_accuracy: 0.8395\n",
            "Epoch 47/100\n",
            "5359/5359 [==============================] - 1s 189us/step - loss: 0.3632 - accuracy: 0.8522 - val_loss: 0.3692 - val_accuracy: 0.8466\n",
            "Epoch 48/100\n",
            "5359/5359 [==============================] - 1s 177us/step - loss: 0.3568 - accuracy: 0.8483 - val_loss: 0.3708 - val_accuracy: 0.8436\n",
            "Epoch 49/100\n",
            "5359/5359 [==============================] - 1s 173us/step - loss: 0.3605 - accuracy: 0.8492 - val_loss: 0.3736 - val_accuracy: 0.8398\n",
            "Epoch 50/100\n",
            "5359/5359 [==============================] - 1s 175us/step - loss: 0.3620 - accuracy: 0.8502 - val_loss: 0.3688 - val_accuracy: 0.8463\n",
            "Epoch 51/100\n",
            "5359/5359 [==============================] - 1s 173us/step - loss: 0.3560 - accuracy: 0.8513 - val_loss: 0.3728 - val_accuracy: 0.8417\n",
            "Epoch 52/100\n",
            "5359/5359 [==============================] - 1s 175us/step - loss: 0.3578 - accuracy: 0.8561 - val_loss: 0.3689 - val_accuracy: 0.8463\n",
            "Epoch 53/100\n",
            "5359/5359 [==============================] - 1s 174us/step - loss: 0.3592 - accuracy: 0.8545 - val_loss: 0.3722 - val_accuracy: 0.8429\n",
            "Epoch 54/100\n",
            "5359/5359 [==============================] - 1s 175us/step - loss: 0.3556 - accuracy: 0.8559 - val_loss: 0.3781 - val_accuracy: 0.8338\n",
            "Epoch 55/100\n",
            "5359/5359 [==============================] - 1s 172us/step - loss: 0.3589 - accuracy: 0.8457 - val_loss: 0.3706 - val_accuracy: 0.8402\n",
            "Epoch 56/100\n",
            "5359/5359 [==============================] - 1s 180us/step - loss: 0.3540 - accuracy: 0.8565 - val_loss: 0.3684 - val_accuracy: 0.8459\n",
            "Epoch 57/100\n",
            "5359/5359 [==============================] - 1s 173us/step - loss: 0.3535 - accuracy: 0.8552 - val_loss: 0.3707 - val_accuracy: 0.8417\n",
            "Epoch 58/100\n",
            "5359/5359 [==============================] - 1s 172us/step - loss: 0.3533 - accuracy: 0.8535 - val_loss: 0.3668 - val_accuracy: 0.8459\n",
            "Epoch 59/100\n",
            "5359/5359 [==============================] - 1s 178us/step - loss: 0.3539 - accuracy: 0.8528 - val_loss: 0.3695 - val_accuracy: 0.8421\n",
            "Epoch 60/100\n",
            "5359/5359 [==============================] - 1s 174us/step - loss: 0.3577 - accuracy: 0.8539 - val_loss: 0.3698 - val_accuracy: 0.8451\n",
            "Epoch 61/100\n",
            "5359/5359 [==============================] - 1s 175us/step - loss: 0.3513 - accuracy: 0.8565 - val_loss: 0.3725 - val_accuracy: 0.8387\n",
            "Epoch 62/100\n",
            "5359/5359 [==============================] - 1s 172us/step - loss: 0.3537 - accuracy: 0.8517 - val_loss: 0.3682 - val_accuracy: 0.8440\n",
            "Epoch 63/100\n",
            "5359/5359 [==============================] - 1s 175us/step - loss: 0.3527 - accuracy: 0.8543 - val_loss: 0.3721 - val_accuracy: 0.8383\n",
            "Epoch 64/100\n",
            "5359/5359 [==============================] - 1s 176us/step - loss: 0.3507 - accuracy: 0.8546 - val_loss: 0.3723 - val_accuracy: 0.8402\n",
            "Epoch 65/100\n",
            "5359/5359 [==============================] - 1s 175us/step - loss: 0.3489 - accuracy: 0.8572 - val_loss: 0.3685 - val_accuracy: 0.8436\n",
            "Epoch 66/100\n",
            "5359/5359 [==============================] - 1s 172us/step - loss: 0.3576 - accuracy: 0.8524 - val_loss: 0.3709 - val_accuracy: 0.8387\n",
            "Epoch 67/100\n",
            "5359/5359 [==============================] - 1s 173us/step - loss: 0.3535 - accuracy: 0.8522 - val_loss: 0.3710 - val_accuracy: 0.8395\n",
            "Epoch 68/100\n",
            "5359/5359 [==============================] - 1s 177us/step - loss: 0.3521 - accuracy: 0.8502 - val_loss: 0.3686 - val_accuracy: 0.8432\n",
            "Epoch 69/100\n",
            "5359/5359 [==============================] - 1s 173us/step - loss: 0.3496 - accuracy: 0.8539 - val_loss: 0.3627 - val_accuracy: 0.8478\n",
            "Epoch 70/100\n",
            "5359/5359 [==============================] - 1s 174us/step - loss: 0.3534 - accuracy: 0.8567 - val_loss: 0.3683 - val_accuracy: 0.8410\n",
            "Epoch 71/100\n",
            "5359/5359 [==============================] - 1s 174us/step - loss: 0.3489 - accuracy: 0.8569 - val_loss: 0.3670 - val_accuracy: 0.8459\n",
            "Epoch 72/100\n",
            "5359/5359 [==============================] - 1s 171us/step - loss: 0.3441 - accuracy: 0.8599 - val_loss: 0.3665 - val_accuracy: 0.8429\n",
            "Epoch 73/100\n",
            "5359/5359 [==============================] - 1s 174us/step - loss: 0.3494 - accuracy: 0.8511 - val_loss: 0.3671 - val_accuracy: 0.8436\n",
            "Epoch 74/100\n",
            "5359/5359 [==============================] - 1s 174us/step - loss: 0.3487 - accuracy: 0.8556 - val_loss: 0.3673 - val_accuracy: 0.8432\n",
            "Epoch 75/100\n",
            "5359/5359 [==============================] - 1s 174us/step - loss: 0.3486 - accuracy: 0.8572 - val_loss: 0.3640 - val_accuracy: 0.8463\n",
            "Epoch 76/100\n",
            "5359/5359 [==============================] - 1s 175us/step - loss: 0.3489 - accuracy: 0.8597 - val_loss: 0.3639 - val_accuracy: 0.8489\n",
            "Epoch 77/100\n",
            "5359/5359 [==============================] - 1s 173us/step - loss: 0.3471 - accuracy: 0.8569 - val_loss: 0.3628 - val_accuracy: 0.8535\n",
            "Epoch 78/100\n",
            "5359/5359 [==============================] - 1s 173us/step - loss: 0.3474 - accuracy: 0.8505 - val_loss: 0.3653 - val_accuracy: 0.8519\n",
            "Epoch 79/100\n",
            "5359/5359 [==============================] - 1s 176us/step - loss: 0.3454 - accuracy: 0.8545 - val_loss: 0.3664 - val_accuracy: 0.8478\n",
            "Epoch 80/100\n",
            "5359/5359 [==============================] - 1s 175us/step - loss: 0.3496 - accuracy: 0.8517 - val_loss: 0.3705 - val_accuracy: 0.8448\n",
            "Epoch 81/100\n",
            "5359/5359 [==============================] - 1s 173us/step - loss: 0.3536 - accuracy: 0.8561 - val_loss: 0.3686 - val_accuracy: 0.8432\n",
            "Epoch 82/100\n",
            "5359/5359 [==============================] - 1s 174us/step - loss: 0.3458 - accuracy: 0.8595 - val_loss: 0.3656 - val_accuracy: 0.8455\n",
            "Epoch 83/100\n",
            "5359/5359 [==============================] - 1s 172us/step - loss: 0.3499 - accuracy: 0.8559 - val_loss: 0.3630 - val_accuracy: 0.8504\n",
            "Epoch 84/100\n",
            "5359/5359 [==============================] - 1s 173us/step - loss: 0.3447 - accuracy: 0.8563 - val_loss: 0.3652 - val_accuracy: 0.8497\n",
            "Epoch 85/100\n",
            "5359/5359 [==============================] - 1s 175us/step - loss: 0.3490 - accuracy: 0.8531 - val_loss: 0.3665 - val_accuracy: 0.8429\n",
            "Epoch 86/100\n",
            "5359/5359 [==============================] - 1s 174us/step - loss: 0.3491 - accuracy: 0.8535 - val_loss: 0.3663 - val_accuracy: 0.8478\n",
            "Epoch 87/100\n",
            "5359/5359 [==============================] - 1s 174us/step - loss: 0.3520 - accuracy: 0.8541 - val_loss: 0.3652 - val_accuracy: 0.8489\n",
            "Epoch 88/100\n",
            "5359/5359 [==============================] - 1s 175us/step - loss: 0.3492 - accuracy: 0.8524 - val_loss: 0.3671 - val_accuracy: 0.8504\n",
            "Epoch 89/100\n",
            "5359/5359 [==============================] - 1s 178us/step - loss: 0.3502 - accuracy: 0.8517 - val_loss: 0.3654 - val_accuracy: 0.8501\n",
            "Epoch 90/100\n",
            "5359/5359 [==============================] - 1s 174us/step - loss: 0.3475 - accuracy: 0.8561 - val_loss: 0.3665 - val_accuracy: 0.8455\n",
            "Epoch 91/100\n",
            "5359/5359 [==============================] - 1s 177us/step - loss: 0.3454 - accuracy: 0.8582 - val_loss: 0.3669 - val_accuracy: 0.8470\n",
            "Epoch 92/100\n",
            "5359/5359 [==============================] - 1s 177us/step - loss: 0.3515 - accuracy: 0.8546 - val_loss: 0.3627 - val_accuracy: 0.8504\n",
            "Epoch 93/100\n",
            "5359/5359 [==============================] - 1s 174us/step - loss: 0.3436 - accuracy: 0.8578 - val_loss: 0.3655 - val_accuracy: 0.8440\n",
            "Epoch 94/100\n",
            "5359/5359 [==============================] - 1s 173us/step - loss: 0.3404 - accuracy: 0.8621 - val_loss: 0.3628 - val_accuracy: 0.8512\n",
            "Epoch 95/100\n",
            "5359/5359 [==============================] - 1s 174us/step - loss: 0.3423 - accuracy: 0.8606 - val_loss: 0.3634 - val_accuracy: 0.8519\n",
            "Epoch 96/100\n",
            "5359/5359 [==============================] - 1s 174us/step - loss: 0.3453 - accuracy: 0.8602 - val_loss: 0.3656 - val_accuracy: 0.8466\n",
            "Epoch 97/100\n",
            "5359/5359 [==============================] - 1s 176us/step - loss: 0.3478 - accuracy: 0.8582 - val_loss: 0.3637 - val_accuracy: 0.8512\n",
            "Epoch 98/100\n",
            "5359/5359 [==============================] - 1s 173us/step - loss: 0.3475 - accuracy: 0.8589 - val_loss: 0.3637 - val_accuracy: 0.8516\n",
            "Epoch 99/100\n",
            "5359/5359 [==============================] - 1s 174us/step - loss: 0.3431 - accuracy: 0.8600 - val_loss: 0.3634 - val_accuracy: 0.8516\n",
            "Epoch 100/100\n",
            "5359/5359 [==============================] - 1s 175us/step - loss: 0.3486 - accuracy: 0.8582 - val_loss: 0.3605 - val_accuracy: 0.8531\n"
          ],
          "name": "stdout"
        }
      ]
    },
    {
      "cell_type": "code",
      "metadata": {
        "id": "WP6B7ygdPB47",
        "colab_type": "code",
        "colab": {
          "base_uri": "https://localhost:8080/",
          "height": 360
        },
        "outputId": "47e86770-1ae0-409c-d946-745ecca8f74b"
      },
      "source": [
        "y_pred = classifier_new.predict(X_test)\n",
        "\n",
        "acc=accuracy_score(y_pred,y_test)"
      ],
      "execution_count": 67,
      "outputs": [
        {
          "output_type": "error",
          "ename": "ValueError",
          "evalue": "ignored",
          "traceback": [
            "\u001b[0;31m---------------------------------------------------------------------------\u001b[0m",
            "\u001b[0;31mValueError\u001b[0m                                Traceback (most recent call last)",
            "\u001b[0;32m<ipython-input-67-397bc700bf85>\u001b[0m in \u001b[0;36m<module>\u001b[0;34m()\u001b[0m\n\u001b[1;32m      1\u001b[0m \u001b[0my_pred\u001b[0m \u001b[0;34m=\u001b[0m \u001b[0mclassifier_new\u001b[0m\u001b[0;34m.\u001b[0m\u001b[0mpredict\u001b[0m\u001b[0;34m(\u001b[0m\u001b[0mX_test\u001b[0m\u001b[0;34m)\u001b[0m\u001b[0;34m\u001b[0m\u001b[0;34m\u001b[0m\u001b[0m\n\u001b[1;32m      2\u001b[0m \u001b[0;34m\u001b[0m\u001b[0m\n\u001b[0;32m----> 3\u001b[0;31m \u001b[0macc\u001b[0m\u001b[0;34m=\u001b[0m\u001b[0maccuracy_score\u001b[0m\u001b[0;34m(\u001b[0m\u001b[0my_pred\u001b[0m\u001b[0;34m,\u001b[0m\u001b[0my_test\u001b[0m\u001b[0;34m)\u001b[0m\u001b[0;34m\u001b[0m\u001b[0;34m\u001b[0m\u001b[0m\n\u001b[0m",
            "\u001b[0;32m/usr/local/lib/python3.6/dist-packages/sklearn/metrics/_classification.py\u001b[0m in \u001b[0;36maccuracy_score\u001b[0;34m(y_true, y_pred, normalize, sample_weight)\u001b[0m\n\u001b[1;32m    183\u001b[0m \u001b[0;34m\u001b[0m\u001b[0m\n\u001b[1;32m    184\u001b[0m     \u001b[0;31m# Compute accuracy for each possible representation\u001b[0m\u001b[0;34m\u001b[0m\u001b[0;34m\u001b[0m\u001b[0;34m\u001b[0m\u001b[0m\n\u001b[0;32m--> 185\u001b[0;31m     \u001b[0my_type\u001b[0m\u001b[0;34m,\u001b[0m \u001b[0my_true\u001b[0m\u001b[0;34m,\u001b[0m \u001b[0my_pred\u001b[0m \u001b[0;34m=\u001b[0m \u001b[0m_check_targets\u001b[0m\u001b[0;34m(\u001b[0m\u001b[0my_true\u001b[0m\u001b[0;34m,\u001b[0m \u001b[0my_pred\u001b[0m\u001b[0;34m)\u001b[0m\u001b[0;34m\u001b[0m\u001b[0;34m\u001b[0m\u001b[0m\n\u001b[0m\u001b[1;32m    186\u001b[0m     \u001b[0mcheck_consistent_length\u001b[0m\u001b[0;34m(\u001b[0m\u001b[0my_true\u001b[0m\u001b[0;34m,\u001b[0m \u001b[0my_pred\u001b[0m\u001b[0;34m,\u001b[0m \u001b[0msample_weight\u001b[0m\u001b[0;34m)\u001b[0m\u001b[0;34m\u001b[0m\u001b[0;34m\u001b[0m\u001b[0m\n\u001b[1;32m    187\u001b[0m     \u001b[0;32mif\u001b[0m \u001b[0my_type\u001b[0m\u001b[0;34m.\u001b[0m\u001b[0mstartswith\u001b[0m\u001b[0;34m(\u001b[0m\u001b[0;34m'multilabel'\u001b[0m\u001b[0;34m)\u001b[0m\u001b[0;34m:\u001b[0m\u001b[0;34m\u001b[0m\u001b[0;34m\u001b[0m\u001b[0m\n",
            "\u001b[0;32m/usr/local/lib/python3.6/dist-packages/sklearn/metrics/_classification.py\u001b[0m in \u001b[0;36m_check_targets\u001b[0;34m(y_true, y_pred)\u001b[0m\n\u001b[1;32m     88\u001b[0m     \u001b[0;32mif\u001b[0m \u001b[0mlen\u001b[0m\u001b[0;34m(\u001b[0m\u001b[0my_type\u001b[0m\u001b[0;34m)\u001b[0m \u001b[0;34m>\u001b[0m \u001b[0;36m1\u001b[0m\u001b[0;34m:\u001b[0m\u001b[0;34m\u001b[0m\u001b[0;34m\u001b[0m\u001b[0m\n\u001b[1;32m     89\u001b[0m         raise ValueError(\"Classification metrics can't handle a mix of {0} \"\n\u001b[0;32m---> 90\u001b[0;31m                          \"and {1} targets\".format(type_true, type_pred))\n\u001b[0m\u001b[1;32m     91\u001b[0m \u001b[0;34m\u001b[0m\u001b[0m\n\u001b[1;32m     92\u001b[0m     \u001b[0;31m# We can't have more than one value on y_type => The set is no more needed\u001b[0m\u001b[0;34m\u001b[0m\u001b[0;34m\u001b[0m\u001b[0;34m\u001b[0m\u001b[0m\n",
            "\u001b[0;31mValueError\u001b[0m: Classification metrics can't handle a mix of continuous and binary targets"
          ]
        }
      ]
    },
    {
      "cell_type": "code",
      "metadata": {
        "id": "i91x851lSJmq",
        "colab_type": "code",
        "colab": {}
      },
      "source": [
        "y_pred = classifier_new.predict(X_test)\n",
        "y_pred=y_pred>0.5\n",
        "acc=accuracy_score(y_pred,y_test)\n"
      ],
      "execution_count": 0,
      "outputs": []
    },
    {
      "cell_type": "code",
      "metadata": {
        "id": "6_bg9BWpSV3F",
        "colab_type": "code",
        "colab": {
          "base_uri": "https://localhost:8080/",
          "height": 34
        },
        "outputId": "d9d73709-2073-4f12-c24b-a263fb726c76"
      },
      "source": [
        "acc"
      ],
      "execution_count": 69,
      "outputs": [
        {
          "output_type": "execute_result",
          "data": {
            "text/plain": [
              "0.8665"
            ]
          },
          "metadata": {
            "tags": []
          },
          "execution_count": 69
        }
      ]
    },
    {
      "cell_type": "code",
      "metadata": {
        "id": "hCTpr3nHSW9E",
        "colab_type": "code",
        "colab": {
          "base_uri": "https://localhost:8080/",
          "height": 590
        },
        "outputId": "e76d7a6f-04f6-4e1d-fd0c-15910d520dca"
      },
      "source": [
        "# list all data in history\n",
        "\n",
        "print(model_history_new.history.keys())\n",
        "\n",
        "#print(model_history_new.history)\n",
        "# summarize history for accuracy\n",
        "plt.plot(model_history_new.history['accuracy'])\n",
        "plt.plot(model_history_new.history['val_accuracy'])\n",
        "plt.title('model accuracy')\n",
        "plt.ylabel('accuracy')\n",
        "plt.xlabel('epoch')\n",
        "plt.legend(['train', 'test'], loc='upper left')\n",
        "plt.show()\n",
        "\n",
        "# summarize history for loss\n",
        "plt.plot(model_history_new.history['loss'])\n",
        "plt.plot(model_history_new.history['val_loss'])\n",
        "plt.title('model loss')\n",
        "plt.ylabel('loss')\n",
        "plt.xlabel('epoch')\n",
        "plt.legend(['train', 'test'], loc='upper left')\n",
        "plt.show()"
      ],
      "execution_count": 76,
      "outputs": [
        {
          "output_type": "stream",
          "text": [
            "dict_keys(['val_loss', 'val_accuracy', 'loss', 'accuracy'])\n"
          ],
          "name": "stdout"
        },
        {
          "output_type": "display_data",
          "data": {
            "image/png": "[encoded data removed]",
            "text/plain": [
              "<Figure size 432x288 with 1 Axes>"
            ]
          },
          "metadata": {
            "tags": [],
            "needs_background": "light"
          }
        },
        {
          "output_type": "display_data",
          "data": {
            "image/png": "[encoded data removed]",
            "text/plain": [
              "<Figure size 432x288 with 1 Axes>"
            ]
          },
          "metadata": {
            "tags": [],
            "needs_background": "light"
          }
        }
      ]
    },
    {
      "cell_type": "code",
      "metadata": {
        "id": "7mJfmsCcS5je",
        "colab_type": "code",
        "colab": {}
      },
      "source": [
        ""
      ],
      "execution_count": 0,
      "outputs": []
    }
  ]
}