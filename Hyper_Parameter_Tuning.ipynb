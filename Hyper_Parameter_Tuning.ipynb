{
  "nbformat": 4,
  "nbformat_minor": 0,
  "metadata": {
    "accelerator": "GPU",
    "colab": {
      "name": "Hyper_Parameter_Tuning.ipynb",
      "provenance": []
    },
    "kernelspec": {
      "display_name": "Python 3",
      "name": "python3"
    }
  },
  "cells": [
    {
      "cell_type": "code",
      "metadata": {
        "id": "7VVzI9yL0bgn"
      },
      "source": [
        "import tensorflow \n",
        "print(tensorflow.__version__)"
      ],
      "execution_count": null,
      "outputs": []
    },
    {
      "cell_type": "code",
      "metadata": {
        "id": "WR25k2lI0oAZ"
      },
      "source": [
        "import keras \n",
        "from keras.models import Sequential #whether you create ann,cnn,nn,rnn u have to import this because it is responsible for creating nn\n",
        "from keras.layers import Dense # \n",
        "from keras.layers import LeakyReLU , ELU\n",
        "from keras.layers import Dropout #regulariztion aparameter\n",
        "import matplotlib.pyplot as plt\n",
        "\n",
        "import numpy as np\n",
        "import pandas as pd"
      ],
      "execution_count": 5,
      "outputs": []
    },
    {
      "cell_type": "code",
      "metadata": {
        "colab": {
          "base_uri": "https://localhost:8080/",
          "height": 224
        },
        "id": "4Q1EnTmY0qi4",
        "outputId": "f9f70f61-e131-4a14-9dbf-967942a376c3"
      },
      "source": [
        "\n",
        "df=pd.read_csv('/content/Churn_Modelling.csv')\n",
        "df.head()"
      ],
      "execution_count": 6,
      "outputs": [
        {
          "output_type": "execute_result",
          "data": {
            "text/html": [
              "<div>\n",
              "<style scoped>\n",
              "    .dataframe tbody tr th:only-of-type {\n",
              "        vertical-align: middle;\n",
              "    }\n",
              "\n",
              "    .dataframe tbody tr th {\n",
              "        vertical-align: top;\n",
              "    }\n",
              "\n",
              "    .dataframe thead th {\n",
              "        text-align: right;\n",
              "    }\n",
              "</style>\n",
              "<table border=\"1\" class=\"dataframe\">\n",
              "  <thead>\n",
              "    <tr style=\"text-align: right;\">\n",
              "      <th></th>\n",
              "      <th>RowNumber</th>\n",
              "      <th>CustomerId</th>\n",
              "      <th>Surname</th>\n",
              "      <th>CreditScore</th>\n",
              "      <th>Geography</th>\n",
              "      <th>Gender</th>\n",
              "      <th>Age</th>\n",
              "      <th>Tenure</th>\n",
              "      <th>Balance</th>\n",
              "      <th>NumOfProducts</th>\n",
              "      <th>HasCrCard</th>\n",
              "      <th>IsActiveMember</th>\n",
              "      <th>EstimatedSalary</th>\n",
              "      <th>Exited</th>\n",
              "    </tr>\n",
              "  </thead>\n",
              "  <tbody>\n",
              "    <tr>\n",
              "      <th>0</th>\n",
              "      <td>1</td>\n",
              "      <td>15634602</td>\n",
              "      <td>Hargrave</td>\n",
              "      <td>619</td>\n",
              "      <td>France</td>\n",
              "      <td>Female</td>\n",
              "      <td>42</td>\n",
              "      <td>2</td>\n",
              "      <td>0.00</td>\n",
              "      <td>1</td>\n",
              "      <td>1</td>\n",
              "      <td>1</td>\n",
              "      <td>101348.88</td>\n",
              "      <td>1</td>\n",
              "    </tr>\n",
              "    <tr>\n",
              "      <th>1</th>\n",
              "      <td>2</td>\n",
              "      <td>15647311</td>\n",
              "      <td>Hill</td>\n",
              "      <td>608</td>\n",
              "      <td>Spain</td>\n",
              "      <td>Female</td>\n",
              "      <td>41</td>\n",
              "      <td>1</td>\n",
              "      <td>83807.86</td>\n",
              "      <td>1</td>\n",
              "      <td>0</td>\n",
              "      <td>1</td>\n",
              "      <td>112542.58</td>\n",
              "      <td>0</td>\n",
              "    </tr>\n",
              "    <tr>\n",
              "      <th>2</th>\n",
              "      <td>3</td>\n",
              "      <td>15619304</td>\n",
              "      <td>Onio</td>\n",
              "      <td>502</td>\n",
              "      <td>France</td>\n",
              "      <td>Female</td>\n",
              "      <td>42</td>\n",
              "      <td>8</td>\n",
              "      <td>159660.80</td>\n",
              "      <td>3</td>\n",
              "      <td>1</td>\n",
              "      <td>0</td>\n",
              "      <td>113931.57</td>\n",
              "      <td>1</td>\n",
              "    </tr>\n",
              "    <tr>\n",
              "      <th>3</th>\n",
              "      <td>4</td>\n",
              "      <td>15701354</td>\n",
              "      <td>Boni</td>\n",
              "      <td>699</td>\n",
              "      <td>France</td>\n",
              "      <td>Female</td>\n",
              "      <td>39</td>\n",
              "      <td>1</td>\n",
              "      <td>0.00</td>\n",
              "      <td>2</td>\n",
              "      <td>0</td>\n",
              "      <td>0</td>\n",
              "      <td>93826.63</td>\n",
              "      <td>0</td>\n",
              "    </tr>\n",
              "    <tr>\n",
              "      <th>4</th>\n",
              "      <td>5</td>\n",
              "      <td>15737888</td>\n",
              "      <td>Mitchell</td>\n",
              "      <td>850</td>\n",
              "      <td>Spain</td>\n",
              "      <td>Female</td>\n",
              "      <td>43</td>\n",
              "      <td>2</td>\n",
              "      <td>125510.82</td>\n",
              "      <td>1</td>\n",
              "      <td>1</td>\n",
              "      <td>1</td>\n",
              "      <td>79084.10</td>\n",
              "      <td>0</td>\n",
              "    </tr>\n",
              "  </tbody>\n",
              "</table>\n",
              "</div>"
            ],
            "text/plain": [
              "   RowNumber  CustomerId   Surname  ...  IsActiveMember EstimatedSalary Exited\n",
              "0          1    15634602  Hargrave  ...               1       101348.88      1\n",
              "1          2    15647311      Hill  ...               1       112542.58      0\n",
              "2          3    15619304      Onio  ...               0       113931.57      1\n",
              "3          4    15701354      Boni  ...               0        93826.63      0\n",
              "4          5    15737888  Mitchell  ...               1        79084.10      0\n",
              "\n",
              "[5 rows x 14 columns]"
            ]
          },
          "metadata": {
            "tags": []
          },
          "execution_count": 6
        }
      ]
    },
    {
      "cell_type": "code",
      "metadata": {
        "id": "aoi3exv81HUs"
      },
      "source": [
        "x=df.iloc[:,3:-1]\n",
        "y=df.iloc[:,-1]"
      ],
      "execution_count": 7,
      "outputs": []
    },
    {
      "cell_type": "code",
      "metadata": {
        "colab": {
          "base_uri": "https://localhost:8080/"
        },
        "id": "aWAdzSkD7-ao",
        "outputId": "f9977b92-8b93-472d-a886-14f3b2df8494"
      },
      "source": [
        "df.Exited.value_counts()   # imbalance dataset \n"
      ],
      "execution_count": 8,
      "outputs": [
        {
          "output_type": "execute_result",
          "data": {
            "text/plain": [
              "0    7963\n",
              "1    2037\n",
              "Name: Exited, dtype: int64"
            ]
          },
          "metadata": {
            "tags": []
          },
          "execution_count": 8
        }
      ]
    },
    {
      "cell_type": "code",
      "metadata": {
        "id": "A80XRi3j1MKw"
      },
      "source": [
        "#Create dummy variables\n",
        "geography=pd.get_dummies(x[\"Geography\"],drop_first=False)#drop first is the no of columns u want , if it is false , it will take column= no of categories , if it is true it will take column= no of categories - 1\n",
        "gender=pd.get_dummies(x['Gender'],drop_first=True)# her ewe have m / f , so turning to 1 column , this drop_first true means it will reduce the column ie 2 categories to 1"
      ],
      "execution_count": 9,
      "outputs": []
    },
    {
      "cell_type": "code",
      "metadata": {
        "colab": {
          "base_uri": "https://localhost:8080/",
          "height": 204
        },
        "id": "ozJv8T5k1Os9",
        "outputId": "dc078518-745c-4a9e-d714-e6f78641856b"
      },
      "source": [
        "geography.head()"
      ],
      "execution_count": 10,
      "outputs": [
        {
          "output_type": "execute_result",
          "data": {
            "text/html": [
              "<div>\n",
              "<style scoped>\n",
              "    .dataframe tbody tr th:only-of-type {\n",
              "        vertical-align: middle;\n",
              "    }\n",
              "\n",
              "    .dataframe tbody tr th {\n",
              "        vertical-align: top;\n",
              "    }\n",
              "\n",
              "    .dataframe thead th {\n",
              "        text-align: right;\n",
              "    }\n",
              "</style>\n",
              "<table border=\"1\" class=\"dataframe\">\n",
              "  <thead>\n",
              "    <tr style=\"text-align: right;\">\n",
              "      <th></th>\n",
              "      <th>France</th>\n",
              "      <th>Germany</th>\n",
              "      <th>Spain</th>\n",
              "    </tr>\n",
              "  </thead>\n",
              "  <tbody>\n",
              "    <tr>\n",
              "      <th>0</th>\n",
              "      <td>1</td>\n",
              "      <td>0</td>\n",
              "      <td>0</td>\n",
              "    </tr>\n",
              "    <tr>\n",
              "      <th>1</th>\n",
              "      <td>0</td>\n",
              "      <td>0</td>\n",
              "      <td>1</td>\n",
              "    </tr>\n",
              "    <tr>\n",
              "      <th>2</th>\n",
              "      <td>1</td>\n",
              "      <td>0</td>\n",
              "      <td>0</td>\n",
              "    </tr>\n",
              "    <tr>\n",
              "      <th>3</th>\n",
              "      <td>1</td>\n",
              "      <td>0</td>\n",
              "      <td>0</td>\n",
              "    </tr>\n",
              "    <tr>\n",
              "      <th>4</th>\n",
              "      <td>0</td>\n",
              "      <td>0</td>\n",
              "      <td>1</td>\n",
              "    </tr>\n",
              "  </tbody>\n",
              "</table>\n",
              "</div>"
            ],
            "text/plain": [
              "   France  Germany  Spain\n",
              "0       1        0      0\n",
              "1       0        0      1\n",
              "2       1        0      0\n",
              "3       1        0      0\n",
              "4       0        0      1"
            ]
          },
          "metadata": {
            "tags": []
          },
          "execution_count": 10
        }
      ]
    },
    {
      "cell_type": "code",
      "metadata": {
        "colab": {
          "base_uri": "https://localhost:8080/",
          "height": 204
        },
        "id": "DK0Mvl491QbR",
        "outputId": "26162b4f-77a8-417d-dd79-8d65e18993b0"
      },
      "source": [
        "gender.head()"
      ],
      "execution_count": 11,
      "outputs": [
        {
          "output_type": "execute_result",
          "data": {
            "text/html": [
              "<div>\n",
              "<style scoped>\n",
              "    .dataframe tbody tr th:only-of-type {\n",
              "        vertical-align: middle;\n",
              "    }\n",
              "\n",
              "    .dataframe tbody tr th {\n",
              "        vertical-align: top;\n",
              "    }\n",
              "\n",
              "    .dataframe thead th {\n",
              "        text-align: right;\n",
              "    }\n",
              "</style>\n",
              "<table border=\"1\" class=\"dataframe\">\n",
              "  <thead>\n",
              "    <tr style=\"text-align: right;\">\n",
              "      <th></th>\n",
              "      <th>Male</th>\n",
              "    </tr>\n",
              "  </thead>\n",
              "  <tbody>\n",
              "    <tr>\n",
              "      <th>0</th>\n",
              "      <td>0</td>\n",
              "    </tr>\n",
              "    <tr>\n",
              "      <th>1</th>\n",
              "      <td>0</td>\n",
              "    </tr>\n",
              "    <tr>\n",
              "      <th>2</th>\n",
              "      <td>0</td>\n",
              "    </tr>\n",
              "    <tr>\n",
              "      <th>3</th>\n",
              "      <td>0</td>\n",
              "    </tr>\n",
              "    <tr>\n",
              "      <th>4</th>\n",
              "      <td>0</td>\n",
              "    </tr>\n",
              "  </tbody>\n",
              "</table>\n",
              "</div>"
            ],
            "text/plain": [
              "   Male\n",
              "0     0\n",
              "1     0\n",
              "2     0\n",
              "3     0\n",
              "4     0"
            ]
          },
          "metadata": {
            "tags": []
          },
          "execution_count": 11
        }
      ]
    },
    {
      "cell_type": "code",
      "metadata": {
        "id": "d5laxspE1TNj"
      },
      "source": [
        "\n",
        "## Concatenate the Data Frames\n",
        "x=pd.concat([x,geography,gender],axis=1)"
      ],
      "execution_count": 12,
      "outputs": []
    },
    {
      "cell_type": "code",
      "metadata": {
        "colab": {
          "base_uri": "https://localhost:8080/",
          "height": 224
        },
        "id": "JzYLBOb01VjP",
        "outputId": "774a40f4-8d8f-4f7e-a0ad-4ac0281c2d76"
      },
      "source": [
        "x.head()"
      ],
      "execution_count": 13,
      "outputs": [
        {
          "output_type": "execute_result",
          "data": {
            "text/html": [
              "<div>\n",
              "<style scoped>\n",
              "    .dataframe tbody tr th:only-of-type {\n",
              "        vertical-align: middle;\n",
              "    }\n",
              "\n",
              "    .dataframe tbody tr th {\n",
              "        vertical-align: top;\n",
              "    }\n",
              "\n",
              "    .dataframe thead th {\n",
              "        text-align: right;\n",
              "    }\n",
              "</style>\n",
              "<table border=\"1\" class=\"dataframe\">\n",
              "  <thead>\n",
              "    <tr style=\"text-align: right;\">\n",
              "      <th></th>\n",
              "      <th>CreditScore</th>\n",
              "      <th>Geography</th>\n",
              "      <th>Gender</th>\n",
              "      <th>Age</th>\n",
              "      <th>Tenure</th>\n",
              "      <th>Balance</th>\n",
              "      <th>NumOfProducts</th>\n",
              "      <th>HasCrCard</th>\n",
              "      <th>IsActiveMember</th>\n",
              "      <th>EstimatedSalary</th>\n",
              "      <th>France</th>\n",
              "      <th>Germany</th>\n",
              "      <th>Spain</th>\n",
              "      <th>Male</th>\n",
              "    </tr>\n",
              "  </thead>\n",
              "  <tbody>\n",
              "    <tr>\n",
              "      <th>0</th>\n",
              "      <td>619</td>\n",
              "      <td>France</td>\n",
              "      <td>Female</td>\n",
              "      <td>42</td>\n",
              "      <td>2</td>\n",
              "      <td>0.00</td>\n",
              "      <td>1</td>\n",
              "      <td>1</td>\n",
              "      <td>1</td>\n",
              "      <td>101348.88</td>\n",
              "      <td>1</td>\n",
              "      <td>0</td>\n",
              "      <td>0</td>\n",
              "      <td>0</td>\n",
              "    </tr>\n",
              "    <tr>\n",
              "      <th>1</th>\n",
              "      <td>608</td>\n",
              "      <td>Spain</td>\n",
              "      <td>Female</td>\n",
              "      <td>41</td>\n",
              "      <td>1</td>\n",
              "      <td>83807.86</td>\n",
              "      <td>1</td>\n",
              "      <td>0</td>\n",
              "      <td>1</td>\n",
              "      <td>112542.58</td>\n",
              "      <td>0</td>\n",
              "      <td>0</td>\n",
              "      <td>1</td>\n",
              "      <td>0</td>\n",
              "    </tr>\n",
              "    <tr>\n",
              "      <th>2</th>\n",
              "      <td>502</td>\n",
              "      <td>France</td>\n",
              "      <td>Female</td>\n",
              "      <td>42</td>\n",
              "      <td>8</td>\n",
              "      <td>159660.80</td>\n",
              "      <td>3</td>\n",
              "      <td>1</td>\n",
              "      <td>0</td>\n",
              "      <td>113931.57</td>\n",
              "      <td>1</td>\n",
              "      <td>0</td>\n",
              "      <td>0</td>\n",
              "      <td>0</td>\n",
              "    </tr>\n",
              "    <tr>\n",
              "      <th>3</th>\n",
              "      <td>699</td>\n",
              "      <td>France</td>\n",
              "      <td>Female</td>\n",
              "      <td>39</td>\n",
              "      <td>1</td>\n",
              "      <td>0.00</td>\n",
              "      <td>2</td>\n",
              "      <td>0</td>\n",
              "      <td>0</td>\n",
              "      <td>93826.63</td>\n",
              "      <td>1</td>\n",
              "      <td>0</td>\n",
              "      <td>0</td>\n",
              "      <td>0</td>\n",
              "    </tr>\n",
              "    <tr>\n",
              "      <th>4</th>\n",
              "      <td>850</td>\n",
              "      <td>Spain</td>\n",
              "      <td>Female</td>\n",
              "      <td>43</td>\n",
              "      <td>2</td>\n",
              "      <td>125510.82</td>\n",
              "      <td>1</td>\n",
              "      <td>1</td>\n",
              "      <td>1</td>\n",
              "      <td>79084.10</td>\n",
              "      <td>0</td>\n",
              "      <td>0</td>\n",
              "      <td>1</td>\n",
              "      <td>0</td>\n",
              "    </tr>\n",
              "  </tbody>\n",
              "</table>\n",
              "</div>"
            ],
            "text/plain": [
              "   CreditScore Geography  Gender  Age  ...  France  Germany  Spain  Male\n",
              "0          619    France  Female   42  ...       1        0      0     0\n",
              "1          608     Spain  Female   41  ...       0        0      1     0\n",
              "2          502    France  Female   42  ...       1        0      0     0\n",
              "3          699    France  Female   39  ...       1        0      0     0\n",
              "4          850     Spain  Female   43  ...       0        0      1     0\n",
              "\n",
              "[5 rows x 14 columns]"
            ]
          },
          "metadata": {
            "tags": []
          },
          "execution_count": 13
        }
      ]
    },
    {
      "cell_type": "code",
      "metadata": {
        "id": "RdbfS6mc1XM1"
      },
      "source": [
        "## Drop Unnecessary columns\n",
        "x=x.drop(['Geography','Gender'],axis=1)"
      ],
      "execution_count": 14,
      "outputs": []
    },
    {
      "cell_type": "code",
      "metadata": {
        "colab": {
          "base_uri": "https://localhost:8080/",
          "height": 204
        },
        "id": "FzlGEf9Q1ZDl",
        "outputId": "c26c82c6-3d36-4016-e540-eb9d69c3a8e3"
      },
      "source": [
        "x.head()"
      ],
      "execution_count": 15,
      "outputs": [
        {
          "output_type": "execute_result",
          "data": {
            "text/html": [
              "<div>\n",
              "<style scoped>\n",
              "    .dataframe tbody tr th:only-of-type {\n",
              "        vertical-align: middle;\n",
              "    }\n",
              "\n",
              "    .dataframe tbody tr th {\n",
              "        vertical-align: top;\n",
              "    }\n",
              "\n",
              "    .dataframe thead th {\n",
              "        text-align: right;\n",
              "    }\n",
              "</style>\n",
              "<table border=\"1\" class=\"dataframe\">\n",
              "  <thead>\n",
              "    <tr style=\"text-align: right;\">\n",
              "      <th></th>\n",
              "      <th>CreditScore</th>\n",
              "      <th>Age</th>\n",
              "      <th>Tenure</th>\n",
              "      <th>Balance</th>\n",
              "      <th>NumOfProducts</th>\n",
              "      <th>HasCrCard</th>\n",
              "      <th>IsActiveMember</th>\n",
              "      <th>EstimatedSalary</th>\n",
              "      <th>France</th>\n",
              "      <th>Germany</th>\n",
              "      <th>Spain</th>\n",
              "      <th>Male</th>\n",
              "    </tr>\n",
              "  </thead>\n",
              "  <tbody>\n",
              "    <tr>\n",
              "      <th>0</th>\n",
              "      <td>619</td>\n",
              "      <td>42</td>\n",
              "      <td>2</td>\n",
              "      <td>0.00</td>\n",
              "      <td>1</td>\n",
              "      <td>1</td>\n",
              "      <td>1</td>\n",
              "      <td>101348.88</td>\n",
              "      <td>1</td>\n",
              "      <td>0</td>\n",
              "      <td>0</td>\n",
              "      <td>0</td>\n",
              "    </tr>\n",
              "    <tr>\n",
              "      <th>1</th>\n",
              "      <td>608</td>\n",
              "      <td>41</td>\n",
              "      <td>1</td>\n",
              "      <td>83807.86</td>\n",
              "      <td>1</td>\n",
              "      <td>0</td>\n",
              "      <td>1</td>\n",
              "      <td>112542.58</td>\n",
              "      <td>0</td>\n",
              "      <td>0</td>\n",
              "      <td>1</td>\n",
              "      <td>0</td>\n",
              "    </tr>\n",
              "    <tr>\n",
              "      <th>2</th>\n",
              "      <td>502</td>\n",
              "      <td>42</td>\n",
              "      <td>8</td>\n",
              "      <td>159660.80</td>\n",
              "      <td>3</td>\n",
              "      <td>1</td>\n",
              "      <td>0</td>\n",
              "      <td>113931.57</td>\n",
              "      <td>1</td>\n",
              "      <td>0</td>\n",
              "      <td>0</td>\n",
              "      <td>0</td>\n",
              "    </tr>\n",
              "    <tr>\n",
              "      <th>3</th>\n",
              "      <td>699</td>\n",
              "      <td>39</td>\n",
              "      <td>1</td>\n",
              "      <td>0.00</td>\n",
              "      <td>2</td>\n",
              "      <td>0</td>\n",
              "      <td>0</td>\n",
              "      <td>93826.63</td>\n",
              "      <td>1</td>\n",
              "      <td>0</td>\n",
              "      <td>0</td>\n",
              "      <td>0</td>\n",
              "    </tr>\n",
              "    <tr>\n",
              "      <th>4</th>\n",
              "      <td>850</td>\n",
              "      <td>43</td>\n",
              "      <td>2</td>\n",
              "      <td>125510.82</td>\n",
              "      <td>1</td>\n",
              "      <td>1</td>\n",
              "      <td>1</td>\n",
              "      <td>79084.10</td>\n",
              "      <td>0</td>\n",
              "      <td>0</td>\n",
              "      <td>1</td>\n",
              "      <td>0</td>\n",
              "    </tr>\n",
              "  </tbody>\n",
              "</table>\n",
              "</div>"
            ],
            "text/plain": [
              "   CreditScore  Age  Tenure    Balance  ...  France  Germany  Spain  Male\n",
              "0          619   42       2       0.00  ...       1        0      0     0\n",
              "1          608   41       1   83807.86  ...       0        0      1     0\n",
              "2          502   42       8  159660.80  ...       1        0      0     0\n",
              "3          699   39       1       0.00  ...       1        0      0     0\n",
              "4          850   43       2  125510.82  ...       0        0      1     0\n",
              "\n",
              "[5 rows x 12 columns]"
            ]
          },
          "metadata": {
            "tags": []
          },
          "execution_count": 15
        }
      ]
    },
    {
      "cell_type": "code",
      "metadata": {
        "colab": {
          "base_uri": "https://localhost:8080/"
        },
        "id": "31Kije741hmv",
        "outputId": "e565efc5-8c83-4f8d-bae0-93771a9982d0"
      },
      "source": [
        "print(df.shape)\n",
        "print(x.shape)\n",
        "print(y.shape)"
      ],
      "execution_count": 16,
      "outputs": [
        {
          "output_type": "stream",
          "text": [
            "(10000, 14)\n",
            "(10000, 12)\n",
            "(10000,)\n"
          ],
          "name": "stdout"
        }
      ]
    },
    {
      "cell_type": "code",
      "metadata": {
        "colab": {
          "base_uri": "https://localhost:8080/"
        },
        "id": "ZLpAfBfo1ubs",
        "outputId": "b8eec352-c452-4b11-cf99-48cb28d6a138"
      },
      "source": [
        "y.head()"
      ],
      "execution_count": 17,
      "outputs": [
        {
          "output_type": "execute_result",
          "data": {
            "text/plain": [
              "0    1\n",
              "1    0\n",
              "2    1\n",
              "3    0\n",
              "4    0\n",
              "Name: Exited, dtype: int64"
            ]
          },
          "metadata": {
            "tags": []
          },
          "execution_count": 17
        }
      ]
    },
    {
      "cell_type": "code",
      "metadata": {
        "colab": {
          "base_uri": "https://localhost:8080/"
        },
        "id": "OpDj9-b2DU3F",
        "outputId": "42720151-be5a-4828-f60b-35ed1e9a1547"
      },
      "source": [
        "pip install scikit-learn==0.21.2 --upgrade"
      ],
      "execution_count": 18,
      "outputs": [
        {
          "output_type": "stream",
          "text": [
            "Requirement already up-to-date: scikit-learn==0.21.2 in /usr/local/lib/python3.6/dist-packages (0.21.2)\n",
            "Requirement already satisfied, skipping upgrade: numpy>=1.11.0 in /usr/local/lib/python3.6/dist-packages (from scikit-learn==0.21.2) (1.18.5)\n",
            "Requirement already satisfied, skipping upgrade: joblib>=0.11 in /usr/local/lib/python3.6/dist-packages (from scikit-learn==0.21.2) (0.17.0)\n",
            "Requirement already satisfied, skipping upgrade: scipy>=0.17.0 in /usr/local/lib/python3.6/dist-packages (from scikit-learn==0.21.2) (1.4.1)\n"
          ],
          "name": "stdout"
        }
      ]
    },
    {
      "cell_type": "code",
      "metadata": {
        "id": "bF-tTVBu1ueX"
      },
      "source": [
        "import numpy\n",
        "from sklearn.model_selection import GridSearchCV\n",
        "from keras.models import Sequential\n",
        "from keras.layers import Dense,Activation\n",
        "from keras.wrappers.scikit_learn import KerasClassifier\n",
        "import sklearn\n"
      ],
      "execution_count": 19,
      "outputs": []
    },
    {
      "cell_type": "code",
      "metadata": {
        "id": "IdBQ_SPR97Rn"
      },
      "source": [
        "from sklearn.model_selection import train_test_split\n",
        "X_train, X_test, y_train, y_test = train_test_split(x, y, test_size = 0.2, random_state = 0)\n",
        "\n",
        "# Feature Scaling\n",
        "from sklearn.preprocessing import StandardScaler\n",
        "sc = StandardScaler()\n",
        "X_train = sc.fit_transform(X_train)\n",
        "X_test = sc.transform(X_test)"
      ],
      "execution_count": 20,
      "outputs": []
    },
    {
      "cell_type": "code",
      "metadata": {
        "id": "n5aWKJUC-Lqo",
        "colab": {
          "base_uri": "https://localhost:8080/"
        },
        "outputId": "a2e3dc1d-c954-4c7d-a9b1-38374d1be730"
      },
      "source": [
        "print(sklearn.__version__)"
      ],
      "execution_count": 21,
      "outputs": [
        {
          "output_type": "stream",
          "text": [
            "0.21.2\n"
          ],
          "name": "stdout"
        }
      ]
    },
    {
      "cell_type": "code",
      "metadata": {
        "id": "gXxZQJdE1uiL"
      },
      "source": [
        "def create_model(layers, activation):\n",
        "    model = Sequential()\n",
        "    for i, nodes in enumerate(layers):\n",
        "        if i==0:\n",
        "            model.add(Dense(nodes,input_dim=x.shape[1]))\n",
        "            model.add(Activation(activation))\n",
        "            \n",
        "        else:\n",
        "            model.add(Dense(nodes))\n",
        "            model.add(Activation(activation))\n",
        "            model.add(Dropout(0.1))\n",
        "            \n",
        "    model.add(Dense(units = 1, kernel_initializer= 'glorot_uniform', activation = 'sigmoid')) # Note: no activation beyond this point\n",
        "    \n",
        "    model.compile(optimizer='adam', loss='binary_crossentropy',metrics=['accuracy'])\n",
        "    return model"
      ],
      "execution_count": 18,
      "outputs": []
    },
    {
      "cell_type": "code",
      "metadata": {
        "id": "lG9KdSbw1yk7"
      },
      "source": [
        "model = KerasClassifier(build_fn=create_model, verbose=0)\n",
        "# define the grid search parametrr\n",
        "#optimizer = ['SGD', 'RMSprop', 'Adagrad', 'Adadelta', 'Adam', 'Adamax']\n",
        "\n",
        "layers = [[6,6,8,10]]\n",
        "activations = ['relu']\n",
        "param_grid = dict(layers=layers, activation=activations, batch_size = [10,15,20], epochs=[10,25,50])\n",
        "grid = GridSearchCV(estimator=model, param_grid=param_grid,cv=3)\n",
        "\n"
      ],
      "execution_count": null,
      "outputs": []
    },
    {
      "cell_type": "code",
      "metadata": {
        "id": "rsqZaCG_9lRH"
      },
      "source": [
        "grid_result = grid.fit(X_train, y_train)\n",
        "\n"
      ],
      "execution_count": null,
      "outputs": []
    },
    {
      "cell_type": "code",
      "metadata": {
        "id": "NrgwiIb79pH0",
        "colab": {
          "base_uri": "https://localhost:8080/"
        },
        "outputId": "aebe0c2c-8cb7-42f3-b505-0638245e30f9"
      },
      "source": [
        "[grid_result.best_score_,grid_result.best_params_]"
      ],
      "execution_count": null,
      "outputs": [
        {
          "output_type": "execute_result",
          "data": {
            "text/plain": [
              "[0.8576250136196614,\n",
              " {'activation': 'relu',\n",
              "  'batch_size': 20,\n",
              "  'epochs': 50,\n",
              "  'layers': [6, 6, 8, 10]}]"
            ]
          },
          "metadata": {
            "tags": []
          },
          "execution_count": 107
        }
      ]
    },
    {
      "cell_type": "code",
      "metadata": {
        "id": "ejm3dBsRYr_c"
      },
      "source": [
        ""
      ],
      "execution_count": null,
      "outputs": []
    },
    {
      "cell_type": "code",
      "metadata": {
        "id": "SGfKMzjnYsCY"
      },
      "source": [
        ""
      ],
      "execution_count": null,
      "outputs": []
    },
    {
      "cell_type": "code",
      "metadata": {
        "id": "VhIqXe8mYdCS"
      },
      "source": [
        "pip install tensorflow==2.2.0"
      ],
      "execution_count": null,
      "outputs": []
    },
    {
      "cell_type": "code",
      "metadata": {
        "id": "xOB86tlkYej6"
      },
      "source": [
        "!pip install tensor-dash"
      ],
      "execution_count": null,
      "outputs": []
    },
    {
      "cell_type": "code",
      "metadata": {
        "id": "ZgQoTmaoYhtT"
      },
      "source": [
        "!git clone https://github.com/CleanPegasus/TensorDash.git"
      ],
      "execution_count": null,
      "outputs": []
    },
    {
      "cell_type": "code",
      "metadata": {
        "id": "flNamwEOYjoZ"
      },
      "source": [
        "%cd /content/TensorDash"
      ],
      "execution_count": null,
      "outputs": []
    },
    {
      "cell_type": "code",
      "metadata": {
        "id": "z8AKKwLuYlal"
      },
      "source": [
        "!python setup.py install"
      ],
      "execution_count": null,
      "outputs": []
    },
    {
      "cell_type": "code",
      "metadata": {
        "id": "6d6pEjBiYnQt"
      },
      "source": [
        "pip install Tensordash"
      ],
      "execution_count": null,
      "outputs": []
    },
    {
      "cell_type": "code",
      "metadata": {
        "id": "65gbLVW2Yo_0"
      },
      "source": [
        "!pip install firebasedata"
      ],
      "execution_count": null,
      "outputs": []
    },
    {
      "cell_type": "code",
      "metadata": {
        "id": "F4zBa8Se9pKS",
        "colab": {
          "base_uri": "https://localhost:8080/"
        },
        "outputId": "7ede04ab-81a8-4a21-f74a-f78893ca0dfa"
      },
      "source": [
        "from tensordash.tensordash import Tensordash\n",
        "histories = Tensordash(\n",
        "    ModelName = 'Remote Monitoring',\n",
        "    email = 'edugan28@gmail.com')\n",
        "\n"
      ],
      "execution_count": 26,
      "outputs": [
        {
          "output_type": "stream",
          "text": [
            "Enter Tensordash Password :··········\n"
          ],
          "name": "stdout"
        }
      ]
    },
    {
      "cell_type": "code",
      "metadata": {
        "id": "rAmNaYiF7Snz"
      },
      "source": [
        "classifier_new=Sequential()\n",
        "classifier_new.add(Dense(units=6, kernel_initializer = 'he_normal',activation='elu',input_dim = 12))\n",
        "#classifier_new.add(Dropout(0.1))\n",
        "classifier_new.add(Dense(units=6, kernel_initializer='he_normal',activation='elu'))\n",
        "#classifier_new.add(Dropout(0.2))\n",
        "classifier_new.add(Dense(units=8, kernel_initializer='he_normal',activation='elu'))\n",
        "classifier_new.add(Dropout(0.1))\n",
        "classifier_new.add(Dense(units=10, kernel_initializer='he_normal',activation='elu'))\n",
        "classifier_new.add(Dropout(0.1))\n",
        "classifier_new.add(Dense(units=1, kernel_initializer='glorot_normal',activation='sigmoid'))"
      ],
      "execution_count": 39,
      "outputs": []
    },
    {
      "cell_type": "code",
      "metadata": {
        "colab": {
          "base_uri": "https://localhost:8080/"
        },
        "id": "r-P_Zui_7Sw0",
        "outputId": "489c7734-1ed5-468b-c347-19e3d6c735ac"
      },
      "source": [
        "classifier_new.summary()"
      ],
      "execution_count": 40,
      "outputs": [
        {
          "output_type": "stream",
          "text": [
            "Model: \"sequential_2\"\n",
            "_________________________________________________________________\n",
            "Layer (type)                 Output Shape              Param #   \n",
            "=================================================================\n",
            "dense_10 (Dense)             (None, 6)                 78        \n",
            "_________________________________________________________________\n",
            "dense_11 (Dense)             (None, 6)                 42        \n",
            "_________________________________________________________________\n",
            "dense_12 (Dense)             (None, 8)                 56        \n",
            "_________________________________________________________________\n",
            "dropout_4 (Dropout)          (None, 8)                 0         \n",
            "_________________________________________________________________\n",
            "dense_13 (Dense)             (None, 10)                90        \n",
            "_________________________________________________________________\n",
            "dropout_5 (Dropout)          (None, 10)                0         \n",
            "_________________________________________________________________\n",
            "dense_14 (Dense)             (None, 1)                 11        \n",
            "=================================================================\n",
            "Total params: 277\n",
            "Trainable params: 277\n",
            "Non-trainable params: 0\n",
            "_________________________________________________________________\n"
          ],
          "name": "stdout"
        }
      ]
    },
    {
      "cell_type": "code",
      "metadata": {
        "id": "DjCFMKhI7SuN"
      },
      "source": [
        "classifier_new.compile(optimizer = 'Adam', loss = 'binary_crossentropy', metrics = ['accuracy'])"
      ],
      "execution_count": 41,
      "outputs": []
    },
    {
      "cell_type": "code",
      "metadata": {
        "colab": {
          "base_uri": "https://localhost:8080/"
        },
        "id": "mwIG9p9C7SlH",
        "outputId": "ee4fb922-c2a6-4f9d-d620-5c65ea16efbc"
      },
      "source": [
        "model_history_new=classifier_new.fit(X_train, y_train,validation_split=0.33, batch_size = 20, epochs=55,callbacks=[histories])"
      ],
      "execution_count": 42,
      "outputs": [
        {
          "output_type": "stream",
          "text": [
            "Epoch 1/55\n",
            "268/268 [==============================] - 1s 4ms/step - loss: 0.5424 - accuracy: 0.7464 - val_loss: 0.4720 - val_accuracy: 0.8061\n",
            "Epoch 2/55\n",
            "268/268 [==============================] - 1s 4ms/step - loss: 0.4651 - accuracy: 0.8000 - val_loss: 0.4377 - val_accuracy: 0.8145\n",
            "Epoch 3/55\n",
            "268/268 [==============================] - 1s 4ms/step - loss: 0.4236 - accuracy: 0.8222 - val_loss: 0.4158 - val_accuracy: 0.8194\n",
            "Epoch 4/55\n",
            "268/268 [==============================] - 1s 4ms/step - loss: 0.4050 - accuracy: 0.8259 - val_loss: 0.3991 - val_accuracy: 0.8270\n",
            "Epoch 5/55\n",
            "268/268 [==============================] - 1s 4ms/step - loss: 0.3866 - accuracy: 0.8397 - val_loss: 0.3896 - val_accuracy: 0.8296\n",
            "Epoch 6/55\n",
            "268/268 [==============================] - 1s 4ms/step - loss: 0.3849 - accuracy: 0.8425 - val_loss: 0.3850 - val_accuracy: 0.8338\n",
            "Epoch 7/55\n",
            "268/268 [==============================] - 1s 4ms/step - loss: 0.3774 - accuracy: 0.8418 - val_loss: 0.3796 - val_accuracy: 0.8379\n",
            "Epoch 8/55\n",
            "268/268 [==============================] - 1s 4ms/step - loss: 0.3693 - accuracy: 0.8464 - val_loss: 0.3794 - val_accuracy: 0.8379\n",
            "Epoch 9/55\n",
            "268/268 [==============================] - 1s 4ms/step - loss: 0.3667 - accuracy: 0.8481 - val_loss: 0.3751 - val_accuracy: 0.8398\n",
            "Epoch 10/55\n",
            "268/268 [==============================] - 1s 4ms/step - loss: 0.3673 - accuracy: 0.8477 - val_loss: 0.3741 - val_accuracy: 0.8417\n",
            "Epoch 11/55\n",
            "268/268 [==============================] - 1s 5ms/step - loss: 0.3635 - accuracy: 0.8502 - val_loss: 0.3733 - val_accuracy: 0.8444\n",
            "Epoch 12/55\n",
            "268/268 [==============================] - 1s 4ms/step - loss: 0.3584 - accuracy: 0.8513 - val_loss: 0.3739 - val_accuracy: 0.8413\n",
            "Epoch 13/55\n",
            "268/268 [==============================] - 1s 4ms/step - loss: 0.3571 - accuracy: 0.8520 - val_loss: 0.3723 - val_accuracy: 0.8429\n",
            "Epoch 14/55\n",
            "268/268 [==============================] - 1s 4ms/step - loss: 0.3571 - accuracy: 0.8552 - val_loss: 0.3714 - val_accuracy: 0.8474\n",
            "Epoch 15/55\n",
            "268/268 [==============================] - 1s 4ms/step - loss: 0.3585 - accuracy: 0.8537 - val_loss: 0.3713 - val_accuracy: 0.8466\n",
            "Epoch 16/55\n",
            "268/268 [==============================] - 1s 5ms/step - loss: 0.3587 - accuracy: 0.8539 - val_loss: 0.3699 - val_accuracy: 0.8493\n",
            "Epoch 17/55\n",
            "268/268 [==============================] - 1s 4ms/step - loss: 0.3558 - accuracy: 0.8541 - val_loss: 0.3684 - val_accuracy: 0.8478\n",
            "Epoch 18/55\n",
            "268/268 [==============================] - 2s 7ms/step - loss: 0.3566 - accuracy: 0.8522 - val_loss: 0.3694 - val_accuracy: 0.8493\n",
            "Epoch 19/55\n",
            "268/268 [==============================] - 1s 4ms/step - loss: 0.3531 - accuracy: 0.8546 - val_loss: 0.3677 - val_accuracy: 0.8501\n",
            "Epoch 20/55\n",
            "268/268 [==============================] - 1s 5ms/step - loss: 0.3508 - accuracy: 0.8578 - val_loss: 0.3680 - val_accuracy: 0.8451\n",
            "Epoch 21/55\n",
            "268/268 [==============================] - 1s 4ms/step - loss: 0.3527 - accuracy: 0.8537 - val_loss: 0.3691 - val_accuracy: 0.8466\n",
            "Epoch 22/55\n",
            "268/268 [==============================] - 1s 4ms/step - loss: 0.3500 - accuracy: 0.8576 - val_loss: 0.3661 - val_accuracy: 0.8519\n",
            "Epoch 23/55\n",
            "268/268 [==============================] - 1s 4ms/step - loss: 0.3513 - accuracy: 0.8572 - val_loss: 0.3669 - val_accuracy: 0.8459\n",
            "Epoch 24/55\n",
            "268/268 [==============================] - 1s 4ms/step - loss: 0.3494 - accuracy: 0.8574 - val_loss: 0.3666 - val_accuracy: 0.8474\n",
            "Epoch 25/55\n",
            "268/268 [==============================] - 1s 4ms/step - loss: 0.3512 - accuracy: 0.8576 - val_loss: 0.3666 - val_accuracy: 0.8497\n",
            "Epoch 26/55\n",
            "268/268 [==============================] - 1s 5ms/step - loss: 0.3468 - accuracy: 0.8561 - val_loss: 0.3656 - val_accuracy: 0.8482\n",
            "Epoch 27/55\n",
            "268/268 [==============================] - 1s 4ms/step - loss: 0.3460 - accuracy: 0.8619 - val_loss: 0.3630 - val_accuracy: 0.8501\n",
            "Epoch 28/55\n",
            "268/268 [==============================] - 1s 4ms/step - loss: 0.3482 - accuracy: 0.8589 - val_loss: 0.3644 - val_accuracy: 0.8516\n",
            "Epoch 29/55\n",
            "268/268 [==============================] - 1s 5ms/step - loss: 0.3463 - accuracy: 0.8591 - val_loss: 0.3639 - val_accuracy: 0.8512\n",
            "Epoch 30/55\n",
            "268/268 [==============================] - 1s 4ms/step - loss: 0.3464 - accuracy: 0.8572 - val_loss: 0.3653 - val_accuracy: 0.8523\n",
            "Epoch 31/55\n",
            "268/268 [==============================] - 1s 4ms/step - loss: 0.3435 - accuracy: 0.8584 - val_loss: 0.3636 - val_accuracy: 0.8508\n",
            "Epoch 32/55\n",
            "268/268 [==============================] - 1s 4ms/step - loss: 0.3434 - accuracy: 0.8602 - val_loss: 0.3637 - val_accuracy: 0.8550\n",
            "Epoch 33/55\n",
            "268/268 [==============================] - 1s 4ms/step - loss: 0.3439 - accuracy: 0.8604 - val_loss: 0.3657 - val_accuracy: 0.8497\n",
            "Epoch 34/55\n",
            "268/268 [==============================] - 1s 4ms/step - loss: 0.3437 - accuracy: 0.8580 - val_loss: 0.3632 - val_accuracy: 0.8523\n",
            "Epoch 35/55\n",
            "268/268 [==============================] - 1s 4ms/step - loss: 0.3416 - accuracy: 0.8610 - val_loss: 0.3638 - val_accuracy: 0.8538\n",
            "Epoch 36/55\n",
            "268/268 [==============================] - 1s 4ms/step - loss: 0.3460 - accuracy: 0.8599 - val_loss: 0.3614 - val_accuracy: 0.8512\n",
            "Epoch 37/55\n",
            "268/268 [==============================] - 1s 5ms/step - loss: 0.3446 - accuracy: 0.8582 - val_loss: 0.3618 - val_accuracy: 0.8535\n",
            "Epoch 38/55\n",
            "268/268 [==============================] - 1s 4ms/step - loss: 0.3407 - accuracy: 0.8615 - val_loss: 0.3626 - val_accuracy: 0.8527\n",
            "Epoch 39/55\n",
            "268/268 [==============================] - 1s 4ms/step - loss: 0.3413 - accuracy: 0.8589 - val_loss: 0.3616 - val_accuracy: 0.8538\n",
            "Epoch 40/55\n",
            "268/268 [==============================] - 1s 5ms/step - loss: 0.3443 - accuracy: 0.8606 - val_loss: 0.3607 - val_accuracy: 0.8538\n",
            "Epoch 41/55\n",
            "268/268 [==============================] - 1s 4ms/step - loss: 0.3407 - accuracy: 0.8621 - val_loss: 0.3620 - val_accuracy: 0.8531\n",
            "Epoch 42/55\n",
            "268/268 [==============================] - 1s 4ms/step - loss: 0.3429 - accuracy: 0.8617 - val_loss: 0.3605 - val_accuracy: 0.8531\n",
            "Epoch 43/55\n",
            "268/268 [==============================] - 1s 4ms/step - loss: 0.3409 - accuracy: 0.8614 - val_loss: 0.3597 - val_accuracy: 0.8504\n",
            "Epoch 44/55\n",
            "268/268 [==============================] - 1s 4ms/step - loss: 0.3406 - accuracy: 0.8606 - val_loss: 0.3603 - val_accuracy: 0.8538\n",
            "Epoch 45/55\n",
            "268/268 [==============================] - 1s 4ms/step - loss: 0.3380 - accuracy: 0.8632 - val_loss: 0.3612 - val_accuracy: 0.8508\n",
            "Epoch 46/55\n",
            "268/268 [==============================] - 1s 4ms/step - loss: 0.3420 - accuracy: 0.8610 - val_loss: 0.3593 - val_accuracy: 0.8531\n",
            "Epoch 47/55\n",
            "268/268 [==============================] - 1s 4ms/step - loss: 0.3409 - accuracy: 0.8621 - val_loss: 0.3599 - val_accuracy: 0.8501\n",
            "Epoch 48/55\n",
            "268/268 [==============================] - 1s 4ms/step - loss: 0.3417 - accuracy: 0.8604 - val_loss: 0.3602 - val_accuracy: 0.8519\n",
            "Epoch 49/55\n",
            "268/268 [==============================] - 1s 4ms/step - loss: 0.3394 - accuracy: 0.8602 - val_loss: 0.3610 - val_accuracy: 0.8538\n",
            "Epoch 50/55\n",
            "268/268 [==============================] - 1s 4ms/step - loss: 0.3386 - accuracy: 0.8610 - val_loss: 0.3594 - val_accuracy: 0.8535\n",
            "Epoch 51/55\n",
            "268/268 [==============================] - 1s 4ms/step - loss: 0.3397 - accuracy: 0.8606 - val_loss: 0.3587 - val_accuracy: 0.8535\n",
            "Epoch 52/55\n",
            "268/268 [==============================] - 1s 4ms/step - loss: 0.3377 - accuracy: 0.8625 - val_loss: 0.3614 - val_accuracy: 0.8546\n",
            "Epoch 53/55\n",
            "268/268 [==============================] - 1s 4ms/step - loss: 0.3399 - accuracy: 0.8614 - val_loss: 0.3584 - val_accuracy: 0.8554\n",
            "Epoch 54/55\n",
            "268/268 [==============================] - 1s 4ms/step - loss: 0.3383 - accuracy: 0.8630 - val_loss: 0.3587 - val_accuracy: 0.8569\n",
            "Epoch 55/55\n",
            "268/268 [==============================] - 1s 4ms/step - loss: 0.3395 - accuracy: 0.8604 - val_loss: 0.3573 - val_accuracy: 0.8531\n"
          ],
          "name": "stdout"
        }
      ]
    },
    {
      "cell_type": "code",
      "metadata": {
        "id": "cyOiyWMr9pMx"
      },
      "source": [
        "from sklearn.metrics import accuracy_score"
      ],
      "execution_count": 31,
      "outputs": []
    },
    {
      "cell_type": "code",
      "metadata": {
        "id": "EYnrpKLR4hRU",
        "colab": {
          "base_uri": "https://localhost:8080/"
        },
        "outputId": "bf3e2a8b-d28b-4c91-fec6-f70b59ca39b7"
      },
      "source": [
        "\n",
        "y_pred = classifier_new.predict(X_test)\n",
        "y_pred=y_pred>0.5\n",
        "acc=accuracy_score(y_test,y_pred)\n",
        "acc"
      ],
      "execution_count": 43,
      "outputs": [
        {
          "output_type": "execute_result",
          "data": {
            "text/plain": [
              "0.8675"
            ]
          },
          "metadata": {
            "tags": []
          },
          "execution_count": 43
        }
      ]
    },
    {
      "cell_type": "code",
      "metadata": {
        "id": "qsN_neVt4lSC",
        "colab": {
          "base_uri": "https://localhost:8080/",
          "height": 573
        },
        "outputId": "e8aa641c-2c5b-4e3a-82a8-329dd7063e1f"
      },
      "source": [
        "plt.plot(model_history_new.history['accuracy'])\n",
        "plt.plot(model_history_new.history['val_accuracy'])\n",
        "plt.title('model accuracy')\n",
        "plt.ylabel('accuracy')\n",
        "plt.xlabel('epoch')\n",
        "plt.legend(['train', 'test'], loc='upper left')\n",
        "plt.show()\n",
        "\n",
        "# summarize history for loss\n",
        "plt.plot(model_history_new.history['loss'])\n",
        "plt.plot(model_history_new.history['val_loss'])\n",
        "plt.title('model loss')\n",
        "plt.ylabel('loss')\n",
        "plt.xlabel('epoch')\n",
        "plt.legend(['train', 'test'], loc='upper left')\n",
        "plt.show()"
      ],
      "execution_count": 44,
      "outputs": [
        {
          "output_type": "display_data",
          "data": {
            "image/png": "[encoded data removed]",
            "text/plain": [
              "<Figure size 432x288 with 1 Axes>"
            ]
          },
          "metadata": {
            "tags": [],
            "needs_background": "light"
          }
        },
        {
          "output_type": "display_data",
          "data": {
            "image/png": "[encoded data removed]",
            "text/plain": [
              "<Figure size 432x288 with 1 Axes>"
            ]
          },
          "metadata": {
            "tags": [],
            "needs_background": "light"
          }
        }
      ]
    },
    {
      "cell_type": "code",
      "metadata": {
        "id": "rPkn_s244pXN"
      },
      "source": [
        "from sklearn.metrics import confusion_matrix\n",
        "cm = confusion_matrix(y_test, y_pred)"
      ],
      "execution_count": 45,
      "outputs": []
    },
    {
      "cell_type": "code",
      "metadata": {
        "colab": {
          "base_uri": "https://localhost:8080/"
        },
        "id": "NuLwwpBA72gz",
        "outputId": "644f5353-5e1d-4d0b-9109-976dafc9b14a"
      },
      "source": [
        "cm"
      ],
      "execution_count": 46,
      "outputs": [
        {
          "output_type": "execute_result",
          "data": {
            "text/plain": [
              "array([[1537,   58],\n",
              "       [ 207,  198]])"
            ]
          },
          "metadata": {
            "tags": []
          },
          "execution_count": 46
        }
      ]
    },
    {
      "cell_type": "code",
      "metadata": {
        "id": "1oros83O82GA",
        "colab": {
          "base_uri": "https://localhost:8080/"
        },
        "outputId": "3d26e47c-db61-47f0-ff1b-d8a36973fb0b"
      },
      "source": [
        "from sklearn.metrics import balanced_accuracy_score\n",
        "bal_acc=balanced_accuracy_score(y_test,y_pred)\n",
        "bal_acc"
      ],
      "execution_count": 48,
      "outputs": [
        {
          "output_type": "execute_result",
          "data": {
            "text/plain": [
              "0.7262626262626263"
            ]
          },
          "metadata": {
            "tags": []
          },
          "execution_count": 48
        }
      ]
    },
    {
      "cell_type": "code",
      "metadata": {
        "id": "N4ivAdijaWa_"
      },
      "source": [
        ""
      ],
      "execution_count": null,
      "outputs": []
    }
  ]
}