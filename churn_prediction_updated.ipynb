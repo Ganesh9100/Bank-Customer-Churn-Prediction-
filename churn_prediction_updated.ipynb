{
  "nbformat": 4,
  "nbformat_minor": 0,
  "metadata": {
    "colab": {
      "name": "Untitled46.ipynb",
      "provenance": [],
      "collapsed_sections": []
    },
    "kernelspec": {
      "name": "python3",
      "display_name": "Python 3"
    }
  },
  "cells": [
    {
      "cell_type": "code",
      "metadata": {
        "id": "OGCKSK459__Q"
      },
      "source": [
        "import keras \n",
        "from keras.models import Sequential #whether you create ann,cnn,nn,rnn u have to import this because it is responsible for creating nn\n",
        "from keras.layers import Dense # \n",
        "from keras.layers import LeakyReLU,PReLU,ELU\n",
        "from keras.layers import Dropout#regulariztion aparameter\n",
        "import matplotlib.pyplot as plt\n",
        "\n",
        "import numpy as np\n",
        "import pandas as pd \n"
      ],
      "execution_count": 2,
      "outputs": []
    },
    {
      "cell_type": "code",
      "metadata": {
        "id": "lmbUg2b-VYPj",
        "outputId": "bdce0172-e556-41b7-f21a-351eb7cc94b4",
        "colab": {
          "base_uri": "https://localhost:8080/"
        }
      },
      "source": [
        "!pip install tensor-dash"
      ],
      "execution_count": 3,
      "outputs": [
        {
          "output_type": "stream",
          "text": [
            "Requirement already satisfied: tensor-dash in /usr/local/lib/python3.6/dist-packages (1.8.1)\n",
            "Requirement already satisfied: requests in /usr/local/lib/python3.6/dist-packages (from tensor-dash) (2.23.0)\n",
            "Requirement already satisfied: idna<3,>=2.5 in /usr/local/lib/python3.6/dist-packages (from requests->tensor-dash) (2.10)\n",
            "Requirement already satisfied: urllib3!=1.25.0,!=1.25.1,<1.26,>=1.21.1 in /usr/local/lib/python3.6/dist-packages (from requests->tensor-dash) (1.24.3)\n",
            "Requirement already satisfied: certifi>=2017.4.17 in /usr/local/lib/python3.6/dist-packages (from requests->tensor-dash) (2020.6.20)\n",
            "Requirement already satisfied: chardet<4,>=3.0.2 in /usr/local/lib/python3.6/dist-packages (from requests->tensor-dash) (3.0.4)\n"
          ],
          "name": "stdout"
        }
      ]
    },
    {
      "cell_type": "code",
      "metadata": {
        "id": "To44Z6WyVmHs",
        "outputId": "74ae8de5-4c45-44e7-8690-665be0e18d1f",
        "colab": {
          "base_uri": "https://localhost:8080/"
        }
      },
      "source": [
        "!git clone https://github.com/CleanPegasus/TensorDash.git"
      ],
      "execution_count": 5,
      "outputs": [
        {
          "output_type": "stream",
          "text": [
            "Cloning into 'TensorDash'...\n",
            "remote: Enumerating objects: 140, done.\u001b[K\n",
            "remote: Counting objects: 100% (140/140), done.\u001b[K\n",
            "remote: Compressing objects: 100% (95/95), done.\u001b[K\n",
            "remote: Total 1332 (delta 68), reused 88 (delta 38), pack-reused 1192\u001b[K\n",
            "Receiving objects: 100% (1332/1332), 7.33 MiB | 5.19 MiB/s, done.\n",
            "Resolving deltas: 100% (606/606), done.\n"
          ],
          "name": "stdout"
        }
      ]
    },
    {
      "cell_type": "code",
      "metadata": {
        "id": "2AGeF909V3yr",
        "outputId": "b39bff5b-55e9-4ee4-e717-c9bc0a139916",
        "colab": {
          "base_uri": "https://localhost:8080/"
        }
      },
      "source": [
        "%cd /content/TensorDash"
      ],
      "execution_count": 6,
      "outputs": [
        {
          "output_type": "stream",
          "text": [
            "/content/TensorDash\n"
          ],
          "name": "stdout"
        }
      ]
    },
    {
      "cell_type": "code",
      "metadata": {
        "id": "EtA66j6BV9C2",
        "outputId": "ab76eb9b-039b-44e4-cd9d-85a4945a506e",
        "colab": {
          "base_uri": "https://localhost:8080/"
        }
      },
      "source": [
        "!python setup.py install"
      ],
      "execution_count": 8,
      "outputs": [
        {
          "output_type": "stream",
          "text": [
            "/usr/lib/python3.6/distutils/dist.py:261: UserWarning: Unknown distribution option: 'authors'\n",
            "  warnings.warn(msg)\n",
            "running install\n",
            "running bdist_egg\n",
            "running egg_info\n",
            "creating tensor_dash.egg-info\n",
            "writing tensor_dash.egg-info/PKG-INFO\n",
            "writing dependency_links to tensor_dash.egg-info/dependency_links.txt\n",
            "writing requirements to tensor_dash.egg-info/requires.txt\n",
            "writing top-level names to tensor_dash.egg-info/top_level.txt\n",
            "writing manifest file 'tensor_dash.egg-info/SOURCES.txt'\n",
            "package init file 'tensordash/__init__.py' not found (or not a regular file)\n",
            "writing manifest file 'tensor_dash.egg-info/SOURCES.txt'\n",
            "installing library code to build/bdist.linux-x86_64/egg\n",
            "running install_lib\n",
            "running build_py\n",
            "copying tensordash/firebasedata.py -> build/lib/tensordash\n",
            "creating build/lib/tensordash/__pycache__\n",
            "copying tensordash/__pycache__/fastdash.cpython-37.pyc -> build/lib/tensordash/__pycache__\n",
            "copying tensordash/__pycache__/firebase_data.cpython-38.pyc -> build/lib/tensordash/__pycache__\n",
            "copying tensordash/__pycache__/tensordash.cpython-36.pyc -> build/lib/tensordash/__pycache__\n",
            "copying tensordash/__pycache__/tensordash.cpython-37.pyc -> build/lib/tensordash/__pycache__\n",
            "copying tensordash/__pycache__/tensordash.cpython-38.pyc -> build/lib/tensordash/__pycache__\n",
            "copying tensordash/__pycache__/torchdash.cpython-37.pyc -> build/lib/tensordash/__pycache__\n",
            "creating build/bdist.linux-x86_64\n",
            "creating build/bdist.linux-x86_64/egg\n",
            "creating build/bdist.linux-x86_64/egg/tensordash\n",
            "copying build/lib/tensordash/torchdash.py -> build/bdist.linux-x86_64/egg/tensordash\n",
            "copying build/lib/tensordash/tensordash.py -> build/bdist.linux-x86_64/egg/tensordash\n",
            "copying build/lib/tensordash/firebasedata.py -> build/bdist.linux-x86_64/egg/tensordash\n",
            "copying build/lib/tensordash/Keras-MNIST.py -> build/bdist.linux-x86_64/egg/tensordash\n",
            "copying build/lib/tensordash/fastdash.py -> build/bdist.linux-x86_64/egg/tensordash\n",
            "creating build/bdist.linux-x86_64/egg/tensordash/__pycache__\n",
            "copying build/lib/tensordash/__pycache__/tensordash.cpython-38.pyc -> build/bdist.linux-x86_64/egg/tensordash/__pycache__\n",
            "copying build/lib/tensordash/__pycache__/tensordash.cpython-36.pyc -> build/bdist.linux-x86_64/egg/tensordash/__pycache__\n",
            "copying build/lib/tensordash/__pycache__/fastdash.cpython-37.pyc -> build/bdist.linux-x86_64/egg/tensordash/__pycache__\n",
            "copying build/lib/tensordash/__pycache__/firebase_data.cpython-38.pyc -> build/bdist.linux-x86_64/egg/tensordash/__pycache__\n",
            "copying build/lib/tensordash/__pycache__/tensordash.cpython-37.pyc -> build/bdist.linux-x86_64/egg/tensordash/__pycache__\n",
            "copying build/lib/tensordash/__pycache__/torchdash.cpython-37.pyc -> build/bdist.linux-x86_64/egg/tensordash/__pycache__\n",
            "byte-compiling build/bdist.linux-x86_64/egg/tensordash/torchdash.py to torchdash.cpython-36.pyc\n",
            "byte-compiling build/bdist.linux-x86_64/egg/tensordash/firebasedata.py to firebasedata.cpython-36.pyc\n",
            "byte-compiling build/bdist.linux-x86_64/egg/tensordash/Keras-MNIST.py to Keras-MNIST.cpython-36.pyc\n",
            "byte-compiling build/bdist.linux-x86_64/egg/tensordash/fastdash.py to fastdash.cpython-36.pyc\n",
            "creating build/bdist.linux-x86_64/egg/EGG-INFO\n",
            "copying tensor_dash.egg-info/PKG-INFO -> build/bdist.linux-x86_64/egg/EGG-INFO\n",
            "copying tensor_dash.egg-info/SOURCES.txt -> build/bdist.linux-x86_64/egg/EGG-INFO\n",
            "copying tensor_dash.egg-info/dependency_links.txt -> build/bdist.linux-x86_64/egg/EGG-INFO\n",
            "copying tensor_dash.egg-info/requires.txt -> build/bdist.linux-x86_64/egg/EGG-INFO\n",
            "copying tensor_dash.egg-info/top_level.txt -> build/bdist.linux-x86_64/egg/EGG-INFO\n",
            "zip_safe flag not set; analyzing archive contents...\n",
            "Traceback (most recent call last):\n",
            "  File \"setup.py\", line 26, in <module>\n",
            "    install_requires = [\"requests\"]\n",
            "  File \"/usr/local/lib/python3.6/dist-packages/setuptools/__init__.py\", line 153, in setup\n",
            "    return distutils.core.setup(**attrs)\n",
            "  File \"/usr/lib/python3.6/distutils/core.py\", line 148, in setup\n",
            "    dist.run_commands()\n",
            "  File \"/usr/lib/python3.6/distutils/dist.py\", line 955, in run_commands\n",
            "    self.run_command(cmd)\n",
            "  File \"/usr/lib/python3.6/distutils/dist.py\", line 974, in run_command\n",
            "    cmd_obj.run()\n",
            "  File \"/usr/local/lib/python3.6/dist-packages/setuptools/command/install.py\", line 67, in run\n",
            "    self.do_egg_install()\n",
            "  File \"/usr/local/lib/python3.6/dist-packages/setuptools/command/install.py\", line 109, in do_egg_install\n",
            "    self.run_command('bdist_egg')\n",
            "  File \"/usr/lib/python3.6/distutils/cmd.py\", line 313, in run_command\n",
            "    self.distribution.run_command(command)\n",
            "  File \"/usr/lib/python3.6/distutils/dist.py\", line 974, in run_command\n",
            "    cmd_obj.run()\n",
            "  File \"/usr/local/lib/python3.6/dist-packages/setuptools/command/bdist_egg.py\", line 215, in run\n",
            "    os.path.join(archive_root, 'EGG-INFO'), self.zip_safe()\n",
            "  File \"/usr/local/lib/python3.6/dist-packages/setuptools/command/bdist_egg.py\", line 268, in zip_safe\n",
            "    return analyze_egg(self.bdist_dir, self.stubs)\n",
            "  File \"/usr/local/lib/python3.6/dist-packages/setuptools/command/bdist_egg.py\", line 384, in analyze_egg\n",
            "    safe = scan_module(egg_dir, base, name, stubs) and safe\n",
            "  File \"/usr/local/lib/python3.6/dist-packages/setuptools/command/bdist_egg.py\", line 421, in scan_module\n",
            "    code = marshal.load(f)\n",
            "ValueError: bad marshal data (unknown type code)\n"
          ],
          "name": "stdout"
        }
      ]
    },
    {
      "cell_type": "code",
      "metadata": {
        "id": "ttZKPgFBYcuo",
        "outputId": "b370d493-31c6-4a7e-d7e1-d67312754400",
        "colab": {
          "base_uri": "https://localhost:8080/",
          "height": 207
        }
      },
      "source": [
        "\n",
        "!pip install firebasedata"
      ],
      "execution_count": 19,
      "outputs": [
        {
          "output_type": "stream",
          "text": [
            "Collecting firebasedata\n",
            "  Using cached https://files.pythonhosted.org/packages/27/c2/53ebd81be0205bbb2d86ffe87c5dcd810ec428e6c11558e4f28ff4ef4226/FirebaseData-0.6.1-py3-none-any.whl\n",
            "Requirement already satisfied: blinker>=1.4 in /usr/local/lib/python3.6/dist-packages (from firebasedata) (1.4)\n",
            "Installing collected packages: firebasedata\n",
            "Successfully installed firebasedata-0.6.1\n"
          ],
          "name": "stdout"
        },
        {
          "output_type": "display_data",
          "data": {
            "application/vnd.colab-display-data+json": {
              "pip_warning": {
                "packages": [
                  "firebasedata"
                ]
              }
            }
          },
          "metadata": {
            "tags": []
          }
        }
      ]
    },
    {
      "cell_type": "markdown",
      "metadata": {
        "id": "W5SToKiG_hOF"
      },
      "source": [
        "**This is the dataset from bank , to predict whether the customer will exit the bank in future or not , so that the bank can not leave them they can hold by providing some benefitial**"
      ]
    },
    {
      "cell_type": "code",
      "metadata": {
        "id": "krmsuFUPVkhT"
      },
      "source": [
        "!python /content/TensorDash/setup.py install"
      ],
      "execution_count": null,
      "outputs": []
    },
    {
      "cell_type": "code",
      "metadata": {
        "id": "TXx0yHoPXPg8",
        "outputId": "22c13273-0201-4dc2-9d30-fad41dafc1f2",
        "colab": {
          "base_uri": "https://localhost:8080/"
        }
      },
      "source": [
        "from tensordash.tensordash import Tensordash\n",
        "histories = Tensordash(\n",
        "    ModelName = 'Remote Monitoring',\n",
        "    email = 'edugan28@gmail.com')"
      ],
      "execution_count": 1,
      "outputs": [
        {
          "output_type": "stream",
          "text": [
            "Enter Tensordash Password :··········\n"
          ],
          "name": "stdout"
        }
      ]
    },
    {
      "cell_type": "code",
      "metadata": {
        "id": "RTHRvKwU-34E",
        "colab": {
          "base_uri": "https://localhost:8080/",
          "height": 224
        },
        "outputId": "f007be9b-de50-41ba-c4b7-ede9974cab12"
      },
      "source": [
        "df=pd.read_csv('/content/Churn_Modelling.csv')\n",
        "df.head()"
      ],
      "execution_count": 5,
      "outputs": [
        {
          "output_type": "execute_result",
          "data": {
            "text/html": [
              "<div>\n",
              "<style scoped>\n",
              "    .dataframe tbody tr th:only-of-type {\n",
              "        vertical-align: middle;\n",
              "    }\n",
              "\n",
              "    .dataframe tbody tr th {\n",
              "        vertical-align: top;\n",
              "    }\n",
              "\n",
              "    .dataframe thead th {\n",
              "        text-align: right;\n",
              "    }\n",
              "</style>\n",
              "<table border=\"1\" class=\"dataframe\">\n",
              "  <thead>\n",
              "    <tr style=\"text-align: right;\">\n",
              "      <th></th>\n",
              "      <th>RowNumber</th>\n",
              "      <th>CustomerId</th>\n",
              "      <th>Surname</th>\n",
              "      <th>CreditScore</th>\n",
              "      <th>Geography</th>\n",
              "      <th>Gender</th>\n",
              "      <th>Age</th>\n",
              "      <th>Tenure</th>\n",
              "      <th>Balance</th>\n",
              "      <th>NumOfProducts</th>\n",
              "      <th>HasCrCard</th>\n",
              "      <th>IsActiveMember</th>\n",
              "      <th>EstimatedSalary</th>\n",
              "      <th>Exited</th>\n",
              "    </tr>\n",
              "  </thead>\n",
              "  <tbody>\n",
              "    <tr>\n",
              "      <th>0</th>\n",
              "      <td>1</td>\n",
              "      <td>15634602</td>\n",
              "      <td>Hargrave</td>\n",
              "      <td>619</td>\n",
              "      <td>France</td>\n",
              "      <td>Female</td>\n",
              "      <td>42</td>\n",
              "      <td>2</td>\n",
              "      <td>0.00</td>\n",
              "      <td>1</td>\n",
              "      <td>1</td>\n",
              "      <td>1</td>\n",
              "      <td>101348.88</td>\n",
              "      <td>1</td>\n",
              "    </tr>\n",
              "    <tr>\n",
              "      <th>1</th>\n",
              "      <td>2</td>\n",
              "      <td>15647311</td>\n",
              "      <td>Hill</td>\n",
              "      <td>608</td>\n",
              "      <td>Spain</td>\n",
              "      <td>Female</td>\n",
              "      <td>41</td>\n",
              "      <td>1</td>\n",
              "      <td>83807.86</td>\n",
              "      <td>1</td>\n",
              "      <td>0</td>\n",
              "      <td>1</td>\n",
              "      <td>112542.58</td>\n",
              "      <td>0</td>\n",
              "    </tr>\n",
              "    <tr>\n",
              "      <th>2</th>\n",
              "      <td>3</td>\n",
              "      <td>15619304</td>\n",
              "      <td>Onio</td>\n",
              "      <td>502</td>\n",
              "      <td>France</td>\n",
              "      <td>Female</td>\n",
              "      <td>42</td>\n",
              "      <td>8</td>\n",
              "      <td>159660.80</td>\n",
              "      <td>3</td>\n",
              "      <td>1</td>\n",
              "      <td>0</td>\n",
              "      <td>113931.57</td>\n",
              "      <td>1</td>\n",
              "    </tr>\n",
              "    <tr>\n",
              "      <th>3</th>\n",
              "      <td>4</td>\n",
              "      <td>15701354</td>\n",
              "      <td>Boni</td>\n",
              "      <td>699</td>\n",
              "      <td>France</td>\n",
              "      <td>Female</td>\n",
              "      <td>39</td>\n",
              "      <td>1</td>\n",
              "      <td>0.00</td>\n",
              "      <td>2</td>\n",
              "      <td>0</td>\n",
              "      <td>0</td>\n",
              "      <td>93826.63</td>\n",
              "      <td>0</td>\n",
              "    </tr>\n",
              "    <tr>\n",
              "      <th>4</th>\n",
              "      <td>5</td>\n",
              "      <td>15737888</td>\n",
              "      <td>Mitchell</td>\n",
              "      <td>850</td>\n",
              "      <td>Spain</td>\n",
              "      <td>Female</td>\n",
              "      <td>43</td>\n",
              "      <td>2</td>\n",
              "      <td>125510.82</td>\n",
              "      <td>1</td>\n",
              "      <td>1</td>\n",
              "      <td>1</td>\n",
              "      <td>79084.10</td>\n",
              "      <td>0</td>\n",
              "    </tr>\n",
              "  </tbody>\n",
              "</table>\n",
              "</div>"
            ],
            "text/plain": [
              "   RowNumber  CustomerId   Surname  ...  IsActiveMember EstimatedSalary Exited\n",
              "0          1    15634602  Hargrave  ...               1       101348.88      1\n",
              "1          2    15647311      Hill  ...               1       112542.58      0\n",
              "2          3    15619304      Onio  ...               0       113931.57      1\n",
              "3          4    15701354      Boni  ...               0        93826.63      0\n",
              "4          5    15737888  Mitchell  ...               1        79084.10      0\n",
              "\n",
              "[5 rows x 14 columns]"
            ]
          },
          "metadata": {
            "tags": []
          },
          "execution_count": 5
        }
      ]
    },
    {
      "cell_type": "code",
      "metadata": {
        "id": "4eCh2e8x-_pG"
      },
      "source": [
        "# I dont want row no cust ID and sur name bcz they are not going to play a role , here \n",
        "x=df.iloc[:,3:-1]\n",
        "y=df.iloc[:,-1]"
      ],
      "execution_count": 6,
      "outputs": []
    },
    {
      "cell_type": "code",
      "metadata": {
        "id": "GQphosXyAY1c",
        "colab": {
          "base_uri": "https://localhost:8080/",
          "height": 204
        },
        "outputId": "eead5889-e6c7-40f4-efdf-ff9f64bea935"
      },
      "source": [
        "x.head()"
      ],
      "execution_count": 7,
      "outputs": [
        {
          "output_type": "execute_result",
          "data": {
            "text/html": [
              "<div>\n",
              "<style scoped>\n",
              "    .dataframe tbody tr th:only-of-type {\n",
              "        vertical-align: middle;\n",
              "    }\n",
              "\n",
              "    .dataframe tbody tr th {\n",
              "        vertical-align: top;\n",
              "    }\n",
              "\n",
              "    .dataframe thead th {\n",
              "        text-align: right;\n",
              "    }\n",
              "</style>\n",
              "<table border=\"1\" class=\"dataframe\">\n",
              "  <thead>\n",
              "    <tr style=\"text-align: right;\">\n",
              "      <th></th>\n",
              "      <th>CreditScore</th>\n",
              "      <th>Geography</th>\n",
              "      <th>Gender</th>\n",
              "      <th>Age</th>\n",
              "      <th>Tenure</th>\n",
              "      <th>Balance</th>\n",
              "      <th>NumOfProducts</th>\n",
              "      <th>HasCrCard</th>\n",
              "      <th>IsActiveMember</th>\n",
              "      <th>EstimatedSalary</th>\n",
              "    </tr>\n",
              "  </thead>\n",
              "  <tbody>\n",
              "    <tr>\n",
              "      <th>0</th>\n",
              "      <td>619</td>\n",
              "      <td>France</td>\n",
              "      <td>Female</td>\n",
              "      <td>42</td>\n",
              "      <td>2</td>\n",
              "      <td>0.00</td>\n",
              "      <td>1</td>\n",
              "      <td>1</td>\n",
              "      <td>1</td>\n",
              "      <td>101348.88</td>\n",
              "    </tr>\n",
              "    <tr>\n",
              "      <th>1</th>\n",
              "      <td>608</td>\n",
              "      <td>Spain</td>\n",
              "      <td>Female</td>\n",
              "      <td>41</td>\n",
              "      <td>1</td>\n",
              "      <td>83807.86</td>\n",
              "      <td>1</td>\n",
              "      <td>0</td>\n",
              "      <td>1</td>\n",
              "      <td>112542.58</td>\n",
              "    </tr>\n",
              "    <tr>\n",
              "      <th>2</th>\n",
              "      <td>502</td>\n",
              "      <td>France</td>\n",
              "      <td>Female</td>\n",
              "      <td>42</td>\n",
              "      <td>8</td>\n",
              "      <td>159660.80</td>\n",
              "      <td>3</td>\n",
              "      <td>1</td>\n",
              "      <td>0</td>\n",
              "      <td>113931.57</td>\n",
              "    </tr>\n",
              "    <tr>\n",
              "      <th>3</th>\n",
              "      <td>699</td>\n",
              "      <td>France</td>\n",
              "      <td>Female</td>\n",
              "      <td>39</td>\n",
              "      <td>1</td>\n",
              "      <td>0.00</td>\n",
              "      <td>2</td>\n",
              "      <td>0</td>\n",
              "      <td>0</td>\n",
              "      <td>93826.63</td>\n",
              "    </tr>\n",
              "    <tr>\n",
              "      <th>4</th>\n",
              "      <td>850</td>\n",
              "      <td>Spain</td>\n",
              "      <td>Female</td>\n",
              "      <td>43</td>\n",
              "      <td>2</td>\n",
              "      <td>125510.82</td>\n",
              "      <td>1</td>\n",
              "      <td>1</td>\n",
              "      <td>1</td>\n",
              "      <td>79084.10</td>\n",
              "    </tr>\n",
              "  </tbody>\n",
              "</table>\n",
              "</div>"
            ],
            "text/plain": [
              "   CreditScore Geography  Gender  ...  HasCrCard  IsActiveMember  EstimatedSalary\n",
              "0          619    France  Female  ...          1               1        101348.88\n",
              "1          608     Spain  Female  ...          0               1        112542.58\n",
              "2          502    France  Female  ...          1               0        113931.57\n",
              "3          699    France  Female  ...          0               0         93826.63\n",
              "4          850     Spain  Female  ...          1               1         79084.10\n",
              "\n",
              "[5 rows x 10 columns]"
            ]
          },
          "metadata": {
            "tags": []
          },
          "execution_count": 7
        }
      ]
    },
    {
      "cell_type": "code",
      "metadata": {
        "id": "kr8pvCCWAZvc",
        "colab": {
          "base_uri": "https://localhost:8080/"
        },
        "outputId": "55d3118f-37fe-4450-901c-22e347620a23"
      },
      "source": [
        "y.head()"
      ],
      "execution_count": 8,
      "outputs": [
        {
          "output_type": "execute_result",
          "data": {
            "text/plain": [
              "0    1\n",
              "1    0\n",
              "2    1\n",
              "3    0\n",
              "4    0\n",
              "Name: Exited, dtype: int64"
            ]
          },
          "metadata": {
            "tags": []
          },
          "execution_count": 8
        }
      ]
    },
    {
      "cell_type": "code",
      "metadata": {
        "id": "LAW0aUNpArfT"
      },
      "source": [
        "#Create dummy variables\n",
        "geography=pd.get_dummies(x[\"Geography\"],drop_first=False)#drop first is the no of columns u want , if it is false , it will take column= no of categories , if it is true it will take column= no of categories - 1\n",
        "gender=pd.get_dummies(x['Gender'],drop_first=True)# her ewe have m / f , so turning to 1 column , this drop_first true means it will reduce the column ie 2 categories to 1 "
      ],
      "execution_count": 9,
      "outputs": []
    },
    {
      "cell_type": "code",
      "metadata": {
        "id": "45T3YkkZA_OV",
        "colab": {
          "base_uri": "https://localhost:8080/",
          "height": 204
        },
        "outputId": "fd1d491c-1975-4b85-b74c-b0419b8eaf22"
      },
      "source": [
        "geography.head()"
      ],
      "execution_count": 10,
      "outputs": [
        {
          "output_type": "execute_result",
          "data": {
            "text/html": [
              "<div>\n",
              "<style scoped>\n",
              "    .dataframe tbody tr th:only-of-type {\n",
              "        vertical-align: middle;\n",
              "    }\n",
              "\n",
              "    .dataframe tbody tr th {\n",
              "        vertical-align: top;\n",
              "    }\n",
              "\n",
              "    .dataframe thead th {\n",
              "        text-align: right;\n",
              "    }\n",
              "</style>\n",
              "<table border=\"1\" class=\"dataframe\">\n",
              "  <thead>\n",
              "    <tr style=\"text-align: right;\">\n",
              "      <th></th>\n",
              "      <th>France</th>\n",
              "      <th>Germany</th>\n",
              "      <th>Spain</th>\n",
              "    </tr>\n",
              "  </thead>\n",
              "  <tbody>\n",
              "    <tr>\n",
              "      <th>0</th>\n",
              "      <td>1</td>\n",
              "      <td>0</td>\n",
              "      <td>0</td>\n",
              "    </tr>\n",
              "    <tr>\n",
              "      <th>1</th>\n",
              "      <td>0</td>\n",
              "      <td>0</td>\n",
              "      <td>1</td>\n",
              "    </tr>\n",
              "    <tr>\n",
              "      <th>2</th>\n",
              "      <td>1</td>\n",
              "      <td>0</td>\n",
              "      <td>0</td>\n",
              "    </tr>\n",
              "    <tr>\n",
              "      <th>3</th>\n",
              "      <td>1</td>\n",
              "      <td>0</td>\n",
              "      <td>0</td>\n",
              "    </tr>\n",
              "    <tr>\n",
              "      <th>4</th>\n",
              "      <td>0</td>\n",
              "      <td>0</td>\n",
              "      <td>1</td>\n",
              "    </tr>\n",
              "  </tbody>\n",
              "</table>\n",
              "</div>"
            ],
            "text/plain": [
              "   France  Germany  Spain\n",
              "0       1        0      0\n",
              "1       0        0      1\n",
              "2       1        0      0\n",
              "3       1        0      0\n",
              "4       0        0      1"
            ]
          },
          "metadata": {
            "tags": []
          },
          "execution_count": 10
        }
      ]
    },
    {
      "cell_type": "code",
      "metadata": {
        "id": "YK4CMyW7BCZ1",
        "colab": {
          "base_uri": "https://localhost:8080/",
          "height": 204
        },
        "outputId": "8371dd76-3865-45bb-cb8a-cca31089f79f"
      },
      "source": [
        "gender.head()"
      ],
      "execution_count": 11,
      "outputs": [
        {
          "output_type": "execute_result",
          "data": {
            "text/html": [
              "<div>\n",
              "<style scoped>\n",
              "    .dataframe tbody tr th:only-of-type {\n",
              "        vertical-align: middle;\n",
              "    }\n",
              "\n",
              "    .dataframe tbody tr th {\n",
              "        vertical-align: top;\n",
              "    }\n",
              "\n",
              "    .dataframe thead th {\n",
              "        text-align: right;\n",
              "    }\n",
              "</style>\n",
              "<table border=\"1\" class=\"dataframe\">\n",
              "  <thead>\n",
              "    <tr style=\"text-align: right;\">\n",
              "      <th></th>\n",
              "      <th>Male</th>\n",
              "    </tr>\n",
              "  </thead>\n",
              "  <tbody>\n",
              "    <tr>\n",
              "      <th>0</th>\n",
              "      <td>0</td>\n",
              "    </tr>\n",
              "    <tr>\n",
              "      <th>1</th>\n",
              "      <td>0</td>\n",
              "    </tr>\n",
              "    <tr>\n",
              "      <th>2</th>\n",
              "      <td>0</td>\n",
              "    </tr>\n",
              "    <tr>\n",
              "      <th>3</th>\n",
              "      <td>0</td>\n",
              "    </tr>\n",
              "    <tr>\n",
              "      <th>4</th>\n",
              "      <td>0</td>\n",
              "    </tr>\n",
              "  </tbody>\n",
              "</table>\n",
              "</div>"
            ],
            "text/plain": [
              "   Male\n",
              "0     0\n",
              "1     0\n",
              "2     0\n",
              "3     0\n",
              "4     0"
            ]
          },
          "metadata": {
            "tags": []
          },
          "execution_count": 11
        }
      ]
    },
    {
      "cell_type": "code",
      "metadata": {
        "id": "dXnGtnHzBFUQ"
      },
      "source": [
        "## Concatenate the Data Frames\n",
        "x=pd.concat([x,geography,gender],axis=1)\n"
      ],
      "execution_count": 12,
      "outputs": []
    },
    {
      "cell_type": "code",
      "metadata": {
        "id": "_3L3UxGxBQQ7",
        "colab": {
          "base_uri": "https://localhost:8080/",
          "height": 224
        },
        "outputId": "a2133199-801c-4ec6-f04a-d2b64ac73328"
      },
      "source": [
        "x.head()"
      ],
      "execution_count": 13,
      "outputs": [
        {
          "output_type": "execute_result",
          "data": {
            "text/html": [
              "<div>\n",
              "<style scoped>\n",
              "    .dataframe tbody tr th:only-of-type {\n",
              "        vertical-align: middle;\n",
              "    }\n",
              "\n",
              "    .dataframe tbody tr th {\n",
              "        vertical-align: top;\n",
              "    }\n",
              "\n",
              "    .dataframe thead th {\n",
              "        text-align: right;\n",
              "    }\n",
              "</style>\n",
              "<table border=\"1\" class=\"dataframe\">\n",
              "  <thead>\n",
              "    <tr style=\"text-align: right;\">\n",
              "      <th></th>\n",
              "      <th>CreditScore</th>\n",
              "      <th>Geography</th>\n",
              "      <th>Gender</th>\n",
              "      <th>Age</th>\n",
              "      <th>Tenure</th>\n",
              "      <th>Balance</th>\n",
              "      <th>NumOfProducts</th>\n",
              "      <th>HasCrCard</th>\n",
              "      <th>IsActiveMember</th>\n",
              "      <th>EstimatedSalary</th>\n",
              "      <th>France</th>\n",
              "      <th>Germany</th>\n",
              "      <th>Spain</th>\n",
              "      <th>Male</th>\n",
              "    </tr>\n",
              "  </thead>\n",
              "  <tbody>\n",
              "    <tr>\n",
              "      <th>0</th>\n",
              "      <td>619</td>\n",
              "      <td>France</td>\n",
              "      <td>Female</td>\n",
              "      <td>42</td>\n",
              "      <td>2</td>\n",
              "      <td>0.00</td>\n",
              "      <td>1</td>\n",
              "      <td>1</td>\n",
              "      <td>1</td>\n",
              "      <td>101348.88</td>\n",
              "      <td>1</td>\n",
              "      <td>0</td>\n",
              "      <td>0</td>\n",
              "      <td>0</td>\n",
              "    </tr>\n",
              "    <tr>\n",
              "      <th>1</th>\n",
              "      <td>608</td>\n",
              "      <td>Spain</td>\n",
              "      <td>Female</td>\n",
              "      <td>41</td>\n",
              "      <td>1</td>\n",
              "      <td>83807.86</td>\n",
              "      <td>1</td>\n",
              "      <td>0</td>\n",
              "      <td>1</td>\n",
              "      <td>112542.58</td>\n",
              "      <td>0</td>\n",
              "      <td>0</td>\n",
              "      <td>1</td>\n",
              "      <td>0</td>\n",
              "    </tr>\n",
              "    <tr>\n",
              "      <th>2</th>\n",
              "      <td>502</td>\n",
              "      <td>France</td>\n",
              "      <td>Female</td>\n",
              "      <td>42</td>\n",
              "      <td>8</td>\n",
              "      <td>159660.80</td>\n",
              "      <td>3</td>\n",
              "      <td>1</td>\n",
              "      <td>0</td>\n",
              "      <td>113931.57</td>\n",
              "      <td>1</td>\n",
              "      <td>0</td>\n",
              "      <td>0</td>\n",
              "      <td>0</td>\n",
              "    </tr>\n",
              "    <tr>\n",
              "      <th>3</th>\n",
              "      <td>699</td>\n",
              "      <td>France</td>\n",
              "      <td>Female</td>\n",
              "      <td>39</td>\n",
              "      <td>1</td>\n",
              "      <td>0.00</td>\n",
              "      <td>2</td>\n",
              "      <td>0</td>\n",
              "      <td>0</td>\n",
              "      <td>93826.63</td>\n",
              "      <td>1</td>\n",
              "      <td>0</td>\n",
              "      <td>0</td>\n",
              "      <td>0</td>\n",
              "    </tr>\n",
              "    <tr>\n",
              "      <th>4</th>\n",
              "      <td>850</td>\n",
              "      <td>Spain</td>\n",
              "      <td>Female</td>\n",
              "      <td>43</td>\n",
              "      <td>2</td>\n",
              "      <td>125510.82</td>\n",
              "      <td>1</td>\n",
              "      <td>1</td>\n",
              "      <td>1</td>\n",
              "      <td>79084.10</td>\n",
              "      <td>0</td>\n",
              "      <td>0</td>\n",
              "      <td>1</td>\n",
              "      <td>0</td>\n",
              "    </tr>\n",
              "  </tbody>\n",
              "</table>\n",
              "</div>"
            ],
            "text/plain": [
              "   CreditScore Geography  Gender  Age  ...  France  Germany  Spain  Male\n",
              "0          619    France  Female   42  ...       1        0      0     0\n",
              "1          608     Spain  Female   41  ...       0        0      1     0\n",
              "2          502    France  Female   42  ...       1        0      0     0\n",
              "3          699    France  Female   39  ...       1        0      0     0\n",
              "4          850     Spain  Female   43  ...       0        0      1     0\n",
              "\n",
              "[5 rows x 14 columns]"
            ]
          },
          "metadata": {
            "tags": []
          },
          "execution_count": 13
        }
      ]
    },
    {
      "cell_type": "code",
      "metadata": {
        "id": "2b1mUfXtBTzJ"
      },
      "source": [
        "## Drop Unnecessary columns\n",
        "x=x.drop(['Geography','Gender'],axis=1)"
      ],
      "execution_count": 14,
      "outputs": []
    },
    {
      "cell_type": "code",
      "metadata": {
        "id": "ifVZrhrPBpS6",
        "colab": {
          "base_uri": "https://localhost:8080/",
          "height": 204
        },
        "outputId": "caea5344-dd72-4061-8e49-5caf514fa873"
      },
      "source": [
        "x.head()"
      ],
      "execution_count": 15,
      "outputs": [
        {
          "output_type": "execute_result",
          "data": {
            "text/html": [
              "<div>\n",
              "<style scoped>\n",
              "    .dataframe tbody tr th:only-of-type {\n",
              "        vertical-align: middle;\n",
              "    }\n",
              "\n",
              "    .dataframe tbody tr th {\n",
              "        vertical-align: top;\n",
              "    }\n",
              "\n",
              "    .dataframe thead th {\n",
              "        text-align: right;\n",
              "    }\n",
              "</style>\n",
              "<table border=\"1\" class=\"dataframe\">\n",
              "  <thead>\n",
              "    <tr style=\"text-align: right;\">\n",
              "      <th></th>\n",
              "      <th>CreditScore</th>\n",
              "      <th>Age</th>\n",
              "      <th>Tenure</th>\n",
              "      <th>Balance</th>\n",
              "      <th>NumOfProducts</th>\n",
              "      <th>HasCrCard</th>\n",
              "      <th>IsActiveMember</th>\n",
              "      <th>EstimatedSalary</th>\n",
              "      <th>France</th>\n",
              "      <th>Germany</th>\n",
              "      <th>Spain</th>\n",
              "      <th>Male</th>\n",
              "    </tr>\n",
              "  </thead>\n",
              "  <tbody>\n",
              "    <tr>\n",
              "      <th>0</th>\n",
              "      <td>619</td>\n",
              "      <td>42</td>\n",
              "      <td>2</td>\n",
              "      <td>0.00</td>\n",
              "      <td>1</td>\n",
              "      <td>1</td>\n",
              "      <td>1</td>\n",
              "      <td>101348.88</td>\n",
              "      <td>1</td>\n",
              "      <td>0</td>\n",
              "      <td>0</td>\n",
              "      <td>0</td>\n",
              "    </tr>\n",
              "    <tr>\n",
              "      <th>1</th>\n",
              "      <td>608</td>\n",
              "      <td>41</td>\n",
              "      <td>1</td>\n",
              "      <td>83807.86</td>\n",
              "      <td>1</td>\n",
              "      <td>0</td>\n",
              "      <td>1</td>\n",
              "      <td>112542.58</td>\n",
              "      <td>0</td>\n",
              "      <td>0</td>\n",
              "      <td>1</td>\n",
              "      <td>0</td>\n",
              "    </tr>\n",
              "    <tr>\n",
              "      <th>2</th>\n",
              "      <td>502</td>\n",
              "      <td>42</td>\n",
              "      <td>8</td>\n",
              "      <td>159660.80</td>\n",
              "      <td>3</td>\n",
              "      <td>1</td>\n",
              "      <td>0</td>\n",
              "      <td>113931.57</td>\n",
              "      <td>1</td>\n",
              "      <td>0</td>\n",
              "      <td>0</td>\n",
              "      <td>0</td>\n",
              "    </tr>\n",
              "    <tr>\n",
              "      <th>3</th>\n",
              "      <td>699</td>\n",
              "      <td>39</td>\n",
              "      <td>1</td>\n",
              "      <td>0.00</td>\n",
              "      <td>2</td>\n",
              "      <td>0</td>\n",
              "      <td>0</td>\n",
              "      <td>93826.63</td>\n",
              "      <td>1</td>\n",
              "      <td>0</td>\n",
              "      <td>0</td>\n",
              "      <td>0</td>\n",
              "    </tr>\n",
              "    <tr>\n",
              "      <th>4</th>\n",
              "      <td>850</td>\n",
              "      <td>43</td>\n",
              "      <td>2</td>\n",
              "      <td>125510.82</td>\n",
              "      <td>1</td>\n",
              "      <td>1</td>\n",
              "      <td>1</td>\n",
              "      <td>79084.10</td>\n",
              "      <td>0</td>\n",
              "      <td>0</td>\n",
              "      <td>1</td>\n",
              "      <td>0</td>\n",
              "    </tr>\n",
              "  </tbody>\n",
              "</table>\n",
              "</div>"
            ],
            "text/plain": [
              "   CreditScore  Age  Tenure    Balance  ...  France  Germany  Spain  Male\n",
              "0          619   42       2       0.00  ...       1        0      0     0\n",
              "1          608   41       1   83807.86  ...       0        0      1     0\n",
              "2          502   42       8  159660.80  ...       1        0      0     0\n",
              "3          699   39       1       0.00  ...       1        0      0     0\n",
              "4          850   43       2  125510.82  ...       0        0      1     0\n",
              "\n",
              "[5 rows x 12 columns]"
            ]
          },
          "metadata": {
            "tags": []
          },
          "execution_count": 15
        }
      ]
    },
    {
      "cell_type": "code",
      "metadata": {
        "id": "i6e0jUwyBtDd"
      },
      "source": [
        "\n",
        "# Splitting the dataset into the Training set and Test set\n",
        "from sklearn.model_selection import train_test_split\n",
        "X_train, X_test, y_train, y_test = train_test_split(x, y, test_size = 0.2)"
      ],
      "execution_count": 16,
      "outputs": []
    },
    {
      "cell_type": "code",
      "metadata": {
        "id": "z6nUzP3pbwRr"
      },
      "source": [
        "from keras.layers import Dropout"
      ],
      "execution_count": 36,
      "outputs": []
    },
    {
      "cell_type": "code",
      "metadata": {
        "id": "3LPJjUeXB1Uw"
      },
      "source": [
        "# now we do feature scaling because , to reudce computation \n",
        "# the feature value are higher and so we reduvce to one commone scale \n",
        "# Feature Scaling\n",
        "from sklearn.preprocessing import StandardScaler\n",
        "sc = StandardScaler()\n",
        "X_train = sc.fit_transform(X_train)\n",
        "X_test = sc.transform(X_test)"
      ],
      "execution_count": 17,
      "outputs": []
    },
    {
      "cell_type": "code",
      "metadata": {
        "id": "11prMi4uCVkM"
      },
      "source": [
        "# Initialising the ANN\n",
        "classifier = Sequential()# this is empty NN currently"
      ],
      "execution_count": 37,
      "outputs": []
    },
    {
      "cell_type": "code",
      "metadata": {
        "id": "dbUu1OfCGpUd"
      },
      "source": [
        "# Adding the input layer and the first hidden layer\n",
        "classifier.add(Dense(units=10, kernel_initializer = 'he_uniform',activation='relu',input_dim = 12))\n",
        "## first hidden layer \n",
        "# units=6 is the no of hidden unit in first hidden layer \n",
        "#kernel_initializer= 'he_uniform' it is the weight initialization - root of 6/fan_in\n",
        "# no of input_dim = 12 ie 12 features \n"
      ],
      "execution_count": 38,
      "outputs": []
    },
    {
      "cell_type": "code",
      "metadata": {
        "id": "hYiwDA8SHdZZ"
      },
      "source": [
        "# Adding the second hidden layer\n",
        "classifier.add(Dense(units=10, kernel_initializer='he_uniform',activation='relu'))\n",
        "classifier.add(Dropout(0.4))\n",
        "# no of hidden unit in 2nd layer is 6 \n",
        "classifier.add(Dense(units=20, kernel_initializer='he_uniform',activation='relu'))\n",
        "classifier.add(Dropout(0.5))\n"
      ],
      "execution_count": 39,
      "outputs": []
    },
    {
      "cell_type": "code",
      "metadata": {
        "id": "lhOZAUYSH612"
      },
      "source": [
        "# Adding the output layer\n",
        "classifier.add(Dense(1, kernel_initializer='glorot_uniform', activation = 'sigmoid'))\n",
        "# so here the waight initilization changes to glorotuniform or xavier ie init= 'he_uniform' it is the weight initialization - root of 6/fan_in+fan_out\n",
        "#no of output unit is 1 \n"
      ],
      "execution_count": 40,
      "outputs": []
    },
    {
      "cell_type": "code",
      "metadata": {
        "id": "UUFgRR4AISRq",
        "colab": {
          "base_uri": "https://localhost:8080/"
        },
        "outputId": "ff1ebf08-16c8-46e9-80a8-b3e502b1b7f6"
      },
      "source": [
        "#summary \n",
        "classifier.summary()"
      ],
      "execution_count": 41,
      "outputs": [
        {
          "output_type": "stream",
          "text": [
            "Model: \"sequential_3\"\n",
            "_________________________________________________________________\n",
            "Layer (type)                 Output Shape              Param #   \n",
            "=================================================================\n",
            "dense_7 (Dense)              (None, 10)                130       \n",
            "_________________________________________________________________\n",
            "dense_8 (Dense)              (None, 10)                110       \n",
            "_________________________________________________________________\n",
            "dropout (Dropout)            (None, 10)                0         \n",
            "_________________________________________________________________\n",
            "dense_9 (Dense)              (None, 20)                220       \n",
            "_________________________________________________________________\n",
            "dropout_1 (Dropout)          (None, 20)                0         \n",
            "_________________________________________________________________\n",
            "dense_10 (Dense)             (None, 1)                 21        \n",
            "=================================================================\n",
            "Total params: 481\n",
            "Trainable params: 481\n",
            "Non-trainable params: 0\n",
            "_________________________________________________________________\n"
          ],
          "name": "stdout"
        }
      ]
    },
    {
      "cell_type": "code",
      "metadata": {
        "id": "5offa9rbJSH_"
      },
      "source": [
        ""
      ],
      "execution_count": null,
      "outputs": []
    },
    {
      "cell_type": "code",
      "metadata": {
        "id": "VwYXIt9NKA4p"
      },
      "source": [
        "# Compiling the ANN\n",
        "classifier.compile(optimizer = 'Adam', loss = 'binary_crossentropy', metrics = ['accuracy'])"
      ],
      "execution_count": 42,
      "outputs": []
    },
    {
      "cell_type": "code",
      "metadata": {
        "id": "J5r9UcOMKKgv"
      },
      "source": [
        "#prefer using binary_crossentropy if you use sigmoid in o/p unit oor if hte o/p is binary categorical \n",
        "# if u have more than one category then prefer using \" CATEGORICAL_CROSSENTROPY\""
      ],
      "execution_count": null,
      "outputs": []
    },
    {
      "cell_type": "code",
      "metadata": {
        "id": "Jm1tm7GEKi-E",
        "colab": {
          "base_uri": "https://localhost:8080/"
        },
        "outputId": "634ff606-a8ac-4854-be90-9739b827a586"
      },
      "source": [
        "#Fitting the ANN to the Training set\n",
        "model_history=classifier.fit(X_train, y_train,validation_split=0.33, batch_size = 15, epochs= 30,callbacks=[histories])"
      ],
      "execution_count": 43,
      "outputs": [
        {
          "output_type": "stream",
          "text": [
            "Epoch 1/30\n",
            "358/358 [==============================] - 1s 3ms/step - loss: 0.6404 - accuracy: 0.7184 - val_loss: 0.5038 - val_accuracy: 0.7955\n",
            "Epoch 2/30\n",
            "358/358 [==============================] - 2s 5ms/step - loss: 0.5283 - accuracy: 0.7863 - val_loss: 0.4743 - val_accuracy: 0.7955\n",
            "Epoch 3/30\n",
            "358/358 [==============================] - 2s 5ms/step - loss: 0.4947 - accuracy: 0.7944 - val_loss: 0.4632 - val_accuracy: 0.7955\n",
            "Epoch 4/30\n",
            "358/358 [==============================] - 2s 5ms/step - loss: 0.4784 - accuracy: 0.7985 - val_loss: 0.4524 - val_accuracy: 0.7952\n",
            "Epoch 5/30\n",
            "358/358 [==============================] - 2s 5ms/step - loss: 0.4691 - accuracy: 0.7968 - val_loss: 0.4453 - val_accuracy: 0.7955\n",
            "Epoch 6/30\n",
            "358/358 [==============================] - 1s 3ms/step - loss: 0.4629 - accuracy: 0.8022 - val_loss: 0.4384 - val_accuracy: 0.7955\n",
            "Epoch 7/30\n",
            "358/358 [==============================] - 2s 5ms/step - loss: 0.4529 - accuracy: 0.8039 - val_loss: 0.4329 - val_accuracy: 0.8016\n",
            "Epoch 8/30\n",
            "358/358 [==============================] - 2s 5ms/step - loss: 0.4545 - accuracy: 0.8067 - val_loss: 0.4311 - val_accuracy: 0.8054\n",
            "Epoch 9/30\n",
            "358/358 [==============================] - 2s 5ms/step - loss: 0.4427 - accuracy: 0.8037 - val_loss: 0.4248 - val_accuracy: 0.8058\n",
            "Epoch 10/30\n",
            "358/358 [==============================] - 1s 3ms/step - loss: 0.4411 - accuracy: 0.8138 - val_loss: 0.4180 - val_accuracy: 0.8137\n",
            "Epoch 11/30\n",
            "358/358 [==============================] - 2s 5ms/step - loss: 0.4300 - accuracy: 0.8132 - val_loss: 0.4137 - val_accuracy: 0.8133\n",
            "Epoch 12/30\n",
            "358/358 [==============================] - 1s 3ms/step - loss: 0.4202 - accuracy: 0.8179 - val_loss: 0.4076 - val_accuracy: 0.8194\n",
            "Epoch 13/30\n",
            "358/358 [==============================] - 1s 3ms/step - loss: 0.4221 - accuracy: 0.8188 - val_loss: 0.4071 - val_accuracy: 0.8156\n",
            "Epoch 14/30\n",
            "358/358 [==============================] - 1s 3ms/step - loss: 0.4158 - accuracy: 0.8199 - val_loss: 0.4021 - val_accuracy: 0.8236\n",
            "Epoch 15/30\n",
            "358/358 [==============================] - 1s 3ms/step - loss: 0.4076 - accuracy: 0.8242 - val_loss: 0.3975 - val_accuracy: 0.8224\n",
            "Epoch 16/30\n",
            "358/358 [==============================] - 1s 3ms/step - loss: 0.4018 - accuracy: 0.8259 - val_loss: 0.3934 - val_accuracy: 0.8243\n",
            "Epoch 17/30\n",
            "358/358 [==============================] - 2s 5ms/step - loss: 0.3996 - accuracy: 0.8285 - val_loss: 0.3892 - val_accuracy: 0.8292\n",
            "Epoch 18/30\n",
            "358/358 [==============================] - 2s 5ms/step - loss: 0.4086 - accuracy: 0.8248 - val_loss: 0.3906 - val_accuracy: 0.8254\n",
            "Epoch 19/30\n",
            "358/358 [==============================] - 1s 3ms/step - loss: 0.3897 - accuracy: 0.8391 - val_loss: 0.3789 - val_accuracy: 0.8413\n",
            "Epoch 20/30\n",
            "358/358 [==============================] - 2s 5ms/step - loss: 0.3801 - accuracy: 0.8403 - val_loss: 0.3753 - val_accuracy: 0.8448\n",
            "Epoch 21/30\n",
            "358/358 [==============================] - 2s 5ms/step - loss: 0.3893 - accuracy: 0.8397 - val_loss: 0.3760 - val_accuracy: 0.8451\n",
            "Epoch 22/30\n",
            "358/358 [==============================] - 1s 3ms/step - loss: 0.3857 - accuracy: 0.8369 - val_loss: 0.3737 - val_accuracy: 0.8463\n",
            "Epoch 23/30\n",
            "358/358 [==============================] - 1s 3ms/step - loss: 0.3911 - accuracy: 0.8371 - val_loss: 0.3777 - val_accuracy: 0.8444\n",
            "Epoch 24/30\n",
            "358/358 [==============================] - 2s 5ms/step - loss: 0.3764 - accuracy: 0.8449 - val_loss: 0.3727 - val_accuracy: 0.8440\n",
            "Epoch 25/30\n",
            "358/358 [==============================] - 2s 5ms/step - loss: 0.3749 - accuracy: 0.8453 - val_loss: 0.3716 - val_accuracy: 0.8455\n",
            "Epoch 26/30\n",
            "358/358 [==============================] - 1s 3ms/step - loss: 0.3784 - accuracy: 0.8418 - val_loss: 0.3724 - val_accuracy: 0.8451\n",
            "Epoch 27/30\n",
            "358/358 [==============================] - 1s 3ms/step - loss: 0.3739 - accuracy: 0.8466 - val_loss: 0.3722 - val_accuracy: 0.8451\n",
            "Epoch 28/30\n",
            "358/358 [==============================] - 1s 3ms/step - loss: 0.3792 - accuracy: 0.8425 - val_loss: 0.3691 - val_accuracy: 0.8459\n",
            "Epoch 29/30\n",
            "358/358 [==============================] - 2s 5ms/step - loss: 0.3754 - accuracy: 0.8449 - val_loss: 0.3680 - val_accuracy: 0.8451\n",
            "Epoch 30/30\n",
            "358/358 [==============================] - 1s 3ms/step - loss: 0.3763 - accuracy: 0.8446 - val_loss: 0.3671 - val_accuracy: 0.8451\n"
          ],
          "name": "stdout"
        }
      ]
    },
    {
      "cell_type": "markdown",
      "metadata": {
        "id": "dxnW5wcRKyUB"
      },
      "source": [
        "ONE EPOCH IS ONE FULL ACCESS TO DATA POINTS \n",
        "SO \n",
        "IN ONE EPOCH , 10 DATA POINTS ARE SELECTED AND COMPUTED LOSS AND BACKPROB TO REDUCE THEN ANOTHER 10 IS SELECTED COMPUTED LOSS AND REDUCE IT \n",
        "UNTILL ALL THE DATA POINT ARE ACCESSED "
      ]
    },
    {
      "cell_type": "code",
      "metadata": {
        "id": "a7A1ZzL-LkJH"
      },
      "source": [
        "# HERE YOU CAN SEE IT HAS LOW BIAS AND LOW VARIANCE \n",
        "# BIAS = ERROR IS TRAIN DATA \n",
        "# VARIANCE = ERROR IN TEST DATA \n",
        "# SO BY SEEING THE VAL_LOSS AND LOSS , BOTH ARE LOW \n",
        "\n",
        "# AND , WE GOT BOTH THE VAL AND ACC AS APPOX EQUAL \n",
        "\n",
        "# AND BY SELECTING CRT WEIGHT INIT , THE OPTIMIZER THIS IS THE GOOD RESULT \n"
      ],
      "execution_count": null,
      "outputs": []
    },
    {
      "cell_type": "code",
      "metadata": {
        "id": "DVRwZ8FYMXWq"
      },
      "source": [
        "# Predicting the Test set results\n",
        "y_pred = classifier.predict(X_test)\n",
        "#y_pred = (y_pred > 0.5)"
      ],
      "execution_count": 44,
      "outputs": []
    },
    {
      "cell_type": "code",
      "metadata": {
        "id": "0JTa1Tp8Mh0E",
        "colab": {
          "base_uri": "https://localhost:8080/"
        },
        "outputId": "0a1dff7e-8f1b-46a7-9c1a-146a36582278"
      },
      "source": [
        "y_pred"
      ],
      "execution_count": 45,
      "outputs": [
        {
          "output_type": "execute_result",
          "data": {
            "text/plain": [
              "array([[0.20278078],\n",
              "       [0.3297844 ],\n",
              "       [0.17389452],\n",
              "       ...,\n",
              "       [0.31812918],\n",
              "       [0.21670434],\n",
              "       [0.22677556]], dtype=float32)"
            ]
          },
          "metadata": {
            "tags": []
          },
          "execution_count": 45
        }
      ]
    },
    {
      "cell_type": "code",
      "metadata": {
        "id": "J_P7FmtSMkU-"
      },
      "source": [
        "# so we use sigmoid the y_pred will be 0 - 1 \n",
        "# i use one condition to know it is 0 or 1 \n",
        "y_pred=y_pred>0.5 # true if > 0.5 else false \n",
        "# so true means 1 false means 0 \n"
      ],
      "execution_count": 46,
      "outputs": []
    },
    {
      "cell_type": "code",
      "metadata": {
        "id": "uPB2kfMbNPaD",
        "colab": {
          "base_uri": "https://localhost:8080/"
        },
        "outputId": "7b75821b-af9f-4aae-f34b-c9681d35ccec"
      },
      "source": [
        "y_pred"
      ],
      "execution_count": 47,
      "outputs": [
        {
          "output_type": "execute_result",
          "data": {
            "text/plain": [
              "array([[False],\n",
              "       [False],\n",
              "       [False],\n",
              "       ...,\n",
              "       [False],\n",
              "       [False],\n",
              "       [False]])"
            ]
          },
          "metadata": {
            "tags": []
          },
          "execution_count": 47
        }
      ]
    },
    {
      "cell_type": "code",
      "metadata": {
        "id": "qGgqKML8NRzS"
      },
      "source": [
        "# Making the Confusion Matrix\n",
        "from sklearn.metrics import confusion_matrix\n",
        "cm = confusion_matrix(y_test, y_pred)"
      ],
      "execution_count": 48,
      "outputs": []
    },
    {
      "cell_type": "code",
      "metadata": {
        "id": "zCPXrOqiNWAm",
        "colab": {
          "base_uri": "https://localhost:8080/"
        },
        "outputId": "ad7e3a9f-fbf8-4104-ee11-7bc4df8f20f2"
      },
      "source": [
        "cm"
      ],
      "execution_count": 49,
      "outputs": [
        {
          "output_type": "execute_result",
          "data": {
            "text/plain": [
              "array([[1567,   28],\n",
              "       [ 251,  154]])"
            ]
          },
          "metadata": {
            "tags": []
          },
          "execution_count": 49
        }
      ]
    },
    {
      "cell_type": "code",
      "metadata": {
        "id": "MAx9myEsNW1_"
      },
      "source": [
        "# Calculate the Accuracy\n",
        "from sklearn.metrics import accuracy_score\n",
        "score=accuracy_score(y_pred,y_test)"
      ],
      "execution_count": 50,
      "outputs": []
    },
    {
      "cell_type": "code",
      "metadata": {
        "id": "YyrM3v-jNceH",
        "colab": {
          "base_uri": "https://localhost:8080/"
        },
        "outputId": "0f53ac2b-051b-4638-d956-e76cdccf7171"
      },
      "source": [
        "score  # the accuracy is 0.85 but we can try to increase it "
      ],
      "execution_count": 51,
      "outputs": [
        {
          "output_type": "execute_result",
          "data": {
            "text/plain": [
              "0.8605"
            ]
          },
          "metadata": {
            "tags": []
          },
          "execution_count": 51
        }
      ]
    },
    {
      "cell_type": "code",
      "metadata": {
        "id": "-XFcXjrUTTRj",
        "colab": {
          "base_uri": "https://localhost:8080/",
          "height": 590
        },
        "outputId": "75e7f314-b736-400b-9a05-0f80bc341222"
      },
      "source": [
        "# list all data in history\n",
        "\n",
        "print(model_history.history.keys())\n",
        "# summarize history for accuracy\n",
        "plt.plot(model_history.history['accuracy'])\n",
        "plt.plot(model_history.history['val_accuracy'])\n",
        "plt.title('model accuracy')\n",
        "plt.ylabel('accuracy')\n",
        "plt.xlabel('epoch')\n",
        "plt.legend(['train', 'test'], loc='upper left')\n",
        "plt.show()\n",
        "\n",
        "# summarize history for loss\n",
        "plt.plot(model_history.history['loss'])\n",
        "plt.plot(model_history.history['val_loss'])\n",
        "plt.title('model loss')\n",
        "plt.ylabel('loss')\n",
        "plt.xlabel('epoch')\n",
        "plt.legend(['train', 'test'], loc='upper left')\n",
        "plt.show()"
      ],
      "execution_count": 52,
      "outputs": [
        {
          "output_type": "stream",
          "text": [
            "dict_keys(['loss', 'accuracy', 'val_loss', 'val_accuracy'])\n"
          ],
          "name": "stdout"
        },
        {
          "output_type": "display_data",
          "data": {
            "image/png": "[encoded data removed]",
            "text/plain": [
              "<Figure size 432x288 with 1 Axes>"
            ]
          },
          "metadata": {
            "tags": [],
            "needs_background": "light"
          }
        },
        {
          "output_type": "display_data",
          "data": {
            "image/png": "[encoded data removed]",
            "text/plain": [
              "<Figure size 432x288 with 1 Axes>"
            ]
          },
          "metadata": {
            "tags": [],
            "needs_background": "light"
          }
        }
      ]
    },
    {
      "cell_type": "code",
      "metadata": {
        "id": "1QTBZiJ_Nd3i"
      },
      "source": [
        "# INCREASING THE ACCURACY IF POSSIBLE \n",
        "# Initialising the ANN\n",
        "classifier_new = Sequential()# this is empty NN currently"
      ],
      "execution_count": null,
      "outputs": []
    },
    {
      "cell_type": "code",
      "metadata": {
        "id": "aRaQE627N1V9"
      },
      "source": [
        "classifier_new.add(Dense(units=20, kernel_initializer = 'he_normal',activation='relu',input_dim = 12))\n",
        "classifier_new.add(Dropout(0.3))\n",
        "classifier_new.add(Dense(units=20, kernel_initializer='he_normal',activation='relu'))\n",
        "classifier_new.add(Dropout(0.2))\n",
        "classifier_new.add(Dense(units=15, kernel_initializer='he_normal',activation='relu'))\n",
        "classifier_new.add(Dropout(0.3))\n",
        "classifier_new.add(Dense(units=10, kernel_initializer='he_normal',activation='relu'))\n",
        "classifier_new.add(Dropout(0.1))\n",
        "classifier_new.add(Dense(units=1, kernel_initializer='glorot_normal',activation='sigmoid'))"
      ],
      "execution_count": null,
      "outputs": []
    },
    {
      "cell_type": "code",
      "metadata": {
        "id": "13LlVzV1ObhZ",
        "colab": {
          "base_uri": "https://localhost:8080/",
          "height": 459
        },
        "outputId": "11b3a05d-39d7-443c-ad07-4eb91f7847a3"
      },
      "source": [
        "classifier_new.summary()"
      ],
      "execution_count": null,
      "outputs": [
        {
          "output_type": "stream",
          "text": [
            "Model: \"sequential_6\"\n",
            "_________________________________________________________________\n",
            "Layer (type)                 Output Shape              Param #   \n",
            "=================================================================\n",
            "dense_29 (Dense)             (None, 20)                260       \n",
            "_________________________________________________________________\n",
            "dropout_1 (Dropout)          (None, 20)                0         \n",
            "_________________________________________________________________\n",
            "dense_30 (Dense)             (None, 20)                420       \n",
            "_________________________________________________________________\n",
            "dropout_2 (Dropout)          (None, 20)                0         \n",
            "_________________________________________________________________\n",
            "dense_31 (Dense)             (None, 15)                315       \n",
            "_________________________________________________________________\n",
            "dropout_3 (Dropout)          (None, 15)                0         \n",
            "_________________________________________________________________\n",
            "dense_32 (Dense)             (None, 10)                160       \n",
            "_________________________________________________________________\n",
            "dropout_4 (Dropout)          (None, 10)                0         \n",
            "_________________________________________________________________\n",
            "dense_33 (Dense)             (None, 1)                 11        \n",
            "=================================================================\n",
            "Total params: 1,166\n",
            "Trainable params: 1,166\n",
            "Non-trainable params: 0\n",
            "_________________________________________________________________\n"
          ],
          "name": "stdout"
        }
      ]
    },
    {
      "cell_type": "code",
      "metadata": {
        "id": "wAycNkF5Oi71"
      },
      "source": [
        "# Compiling the ANN\n",
        "classifier_new.compile(optimizer = 'Adam', loss = 'binary_crossentropy', metrics = ['accuracy'])"
      ],
      "execution_count": null,
      "outputs": []
    },
    {
      "cell_type": "code",
      "metadata": {
        "id": "cH-CovINO1YK",
        "colab": {
          "base_uri": "https://localhost:8080/",
          "height": 1000
        },
        "outputId": "926b1b83-9a52-47ad-b220-50868f397b0b"
      },
      "source": [
        "#Fitting the ANN to the Training set\n",
        "model_history_new=classifier_new.fit(X_train, y_train,validation_split=0.33, batch_size = 10, nb_epoch = 100)"
      ],
      "execution_count": null,
      "outputs": [
        {
          "output_type": "stream",
          "text": [
            "/usr/local/lib/python3.6/dist-packages/ipykernel_launcher.py:2: UserWarning: The `nb_epoch` argument in `fit` has been renamed `epochs`.\n",
            "  \n"
          ],
          "name": "stderr"
        },
        {
          "output_type": "stream",
          "text": [
            "Train on 5359 samples, validate on 2641 samples\n",
            "Epoch 1/100\n",
            "5359/5359 [==============================] - 1s 213us/step - loss: 0.6100 - accuracy: 0.7313 - val_loss: 0.5104 - val_accuracy: 0.7955\n",
            "Epoch 2/100\n",
            "5359/5359 [==============================] - 1s 171us/step - loss: 0.5118 - accuracy: 0.7925 - val_loss: 0.4788 - val_accuracy: 0.7955\n",
            "Epoch 3/100\n",
            "5359/5359 [==============================] - 1s 169us/step - loss: 0.4884 - accuracy: 0.7981 - val_loss: 0.4560 - val_accuracy: 0.7974\n",
            "Epoch 4/100\n",
            "5359/5359 [==============================] - 1s 166us/step - loss: 0.4796 - accuracy: 0.7970 - val_loss: 0.4490 - val_accuracy: 0.7948\n",
            "Epoch 5/100\n",
            "5359/5359 [==============================] - 1s 171us/step - loss: 0.4615 - accuracy: 0.8054 - val_loss: 0.4361 - val_accuracy: 0.8027\n",
            "Epoch 6/100\n",
            "5359/5359 [==============================] - 1s 171us/step - loss: 0.4458 - accuracy: 0.8072 - val_loss: 0.4277 - val_accuracy: 0.8054\n",
            "Epoch 7/100\n",
            "5359/5359 [==============================] - 1s 173us/step - loss: 0.4492 - accuracy: 0.8052 - val_loss: 0.4269 - val_accuracy: 0.8058\n",
            "Epoch 8/100\n",
            "5359/5359 [==============================] - 1s 169us/step - loss: 0.4418 - accuracy: 0.8076 - val_loss: 0.4238 - val_accuracy: 0.8042\n",
            "Epoch 9/100\n",
            "5359/5359 [==============================] - 1s 172us/step - loss: 0.4306 - accuracy: 0.8153 - val_loss: 0.4181 - val_accuracy: 0.8141\n",
            "Epoch 10/100\n",
            "5359/5359 [==============================] - 1s 174us/step - loss: 0.4231 - accuracy: 0.8179 - val_loss: 0.4138 - val_accuracy: 0.8190\n",
            "Epoch 11/100\n",
            "5359/5359 [==============================] - 1s 171us/step - loss: 0.4242 - accuracy: 0.8169 - val_loss: 0.4165 - val_accuracy: 0.8080\n",
            "Epoch 12/100\n",
            "5359/5359 [==============================] - 1s 175us/step - loss: 0.4185 - accuracy: 0.8203 - val_loss: 0.4046 - val_accuracy: 0.8190\n",
            "Epoch 13/100\n",
            "5359/5359 [==============================] - 1s 174us/step - loss: 0.4124 - accuracy: 0.8227 - val_loss: 0.4013 - val_accuracy: 0.8254\n",
            "Epoch 14/100\n",
            "5359/5359 [==============================] - 1s 175us/step - loss: 0.4136 - accuracy: 0.8237 - val_loss: 0.4001 - val_accuracy: 0.8179\n",
            "Epoch 15/100\n",
            "5359/5359 [==============================] - 1s 173us/step - loss: 0.4013 - accuracy: 0.8304 - val_loss: 0.3920 - val_accuracy: 0.8349\n",
            "Epoch 16/100\n",
            "5359/5359 [==============================] - 1s 174us/step - loss: 0.3959 - accuracy: 0.8309 - val_loss: 0.3852 - val_accuracy: 0.8345\n",
            "Epoch 17/100\n",
            "5359/5359 [==============================] - 1s 171us/step - loss: 0.4010 - accuracy: 0.8326 - val_loss: 0.3849 - val_accuracy: 0.8330\n",
            "Epoch 18/100\n",
            "5359/5359 [==============================] - 1s 176us/step - loss: 0.3946 - accuracy: 0.8362 - val_loss: 0.3850 - val_accuracy: 0.8338\n",
            "Epoch 19/100\n",
            "5359/5359 [==============================] - 1s 171us/step - loss: 0.3900 - accuracy: 0.8349 - val_loss: 0.3799 - val_accuracy: 0.8315\n",
            "Epoch 20/100\n",
            "5359/5359 [==============================] - 1s 170us/step - loss: 0.3826 - accuracy: 0.8358 - val_loss: 0.3795 - val_accuracy: 0.8281\n",
            "Epoch 21/100\n",
            "5359/5359 [==============================] - 1s 172us/step - loss: 0.3817 - accuracy: 0.8416 - val_loss: 0.3790 - val_accuracy: 0.8334\n",
            "Epoch 22/100\n",
            "5359/5359 [==============================] - 1s 173us/step - loss: 0.3823 - accuracy: 0.8375 - val_loss: 0.3811 - val_accuracy: 0.8258\n",
            "Epoch 23/100\n",
            "5359/5359 [==============================] - 1s 176us/step - loss: 0.3848 - accuracy: 0.8343 - val_loss: 0.3824 - val_accuracy: 0.8224\n",
            "Epoch 24/100\n",
            "5359/5359 [==============================] - 1s 173us/step - loss: 0.3779 - accuracy: 0.8419 - val_loss: 0.3767 - val_accuracy: 0.8342\n",
            "Epoch 25/100\n",
            "5359/5359 [==============================] - 1s 174us/step - loss: 0.3747 - accuracy: 0.8477 - val_loss: 0.3742 - val_accuracy: 0.8417\n",
            "Epoch 26/100\n",
            "5359/5359 [==============================] - 1s 173us/step - loss: 0.3811 - accuracy: 0.8447 - val_loss: 0.3756 - val_accuracy: 0.8395\n",
            "Epoch 27/100\n",
            "5359/5359 [==============================] - 1s 173us/step - loss: 0.3804 - accuracy: 0.8412 - val_loss: 0.3780 - val_accuracy: 0.8383\n",
            "Epoch 28/100\n",
            "5359/5359 [==============================] - 1s 175us/step - loss: 0.3717 - accuracy: 0.8485 - val_loss: 0.3738 - val_accuracy: 0.8429\n",
            "Epoch 29/100\n",
            "5359/5359 [==============================] - 1s 177us/step - loss: 0.3708 - accuracy: 0.8451 - val_loss: 0.3694 - val_accuracy: 0.8459\n",
            "Epoch 30/100\n",
            "5359/5359 [==============================] - 1s 183us/step - loss: 0.3711 - accuracy: 0.8433 - val_loss: 0.3716 - val_accuracy: 0.8466\n",
            "Epoch 31/100\n",
            "5359/5359 [==============================] - 1s 180us/step - loss: 0.3655 - accuracy: 0.8470 - val_loss: 0.3726 - val_accuracy: 0.8436\n",
            "Epoch 32/100\n",
            "5359/5359 [==============================] - 1s 185us/step - loss: 0.3690 - accuracy: 0.8498 - val_loss: 0.3712 - val_accuracy: 0.8463\n",
            "Epoch 33/100\n",
            "5359/5359 [==============================] - 1s 182us/step - loss: 0.3669 - accuracy: 0.8479 - val_loss: 0.3768 - val_accuracy: 0.8357\n",
            "Epoch 34/100\n",
            "5359/5359 [==============================] - 1s 186us/step - loss: 0.3693 - accuracy: 0.8461 - val_loss: 0.3708 - val_accuracy: 0.8501\n",
            "Epoch 35/100\n",
            "5359/5359 [==============================] - 1s 176us/step - loss: 0.3724 - accuracy: 0.8436 - val_loss: 0.3736 - val_accuracy: 0.8421\n",
            "Epoch 36/100\n",
            "5359/5359 [==============================] - 1s 173us/step - loss: 0.3644 - accuracy: 0.8455 - val_loss: 0.3725 - val_accuracy: 0.8440\n",
            "Epoch 37/100\n",
            "5359/5359 [==============================] - 1s 186us/step - loss: 0.3611 - accuracy: 0.8489 - val_loss: 0.3720 - val_accuracy: 0.8432\n",
            "Epoch 38/100\n",
            "5359/5359 [==============================] - 1s 183us/step - loss: 0.3522 - accuracy: 0.8487 - val_loss: 0.3664 - val_accuracy: 0.8493\n",
            "Epoch 39/100\n",
            "5359/5359 [==============================] - 1s 183us/step - loss: 0.3601 - accuracy: 0.8496 - val_loss: 0.3688 - val_accuracy: 0.8432\n",
            "Epoch 40/100\n",
            "5359/5359 [==============================] - 1s 189us/step - loss: 0.3628 - accuracy: 0.8479 - val_loss: 0.3668 - val_accuracy: 0.8436\n",
            "Epoch 41/100\n",
            "5359/5359 [==============================] - 1s 185us/step - loss: 0.3604 - accuracy: 0.8474 - val_loss: 0.3720 - val_accuracy: 0.8432\n",
            "Epoch 42/100\n",
            "5359/5359 [==============================] - 1s 184us/step - loss: 0.3538 - accuracy: 0.8507 - val_loss: 0.3668 - val_accuracy: 0.8451\n",
            "Epoch 43/100\n",
            "5359/5359 [==============================] - 1s 184us/step - loss: 0.3567 - accuracy: 0.8477 - val_loss: 0.3709 - val_accuracy: 0.8429\n",
            "Epoch 44/100\n",
            "5359/5359 [==============================] - 1s 185us/step - loss: 0.3646 - accuracy: 0.8500 - val_loss: 0.3666 - val_accuracy: 0.8470\n",
            "Epoch 45/100\n",
            "5359/5359 [==============================] - 1s 185us/step - loss: 0.3600 - accuracy: 0.8515 - val_loss: 0.3730 - val_accuracy: 0.8395\n",
            "Epoch 46/100\n",
            "5359/5359 [==============================] - 1s 185us/step - loss: 0.3559 - accuracy: 0.8513 - val_loss: 0.3750 - val_accuracy: 0.8395\n",
            "Epoch 47/100\n",
            "5359/5359 [==============================] - 1s 189us/step - loss: 0.3632 - accuracy: 0.8522 - val_loss: 0.3692 - val_accuracy: 0.8466\n",
            "Epoch 48/100\n",
            "5359/5359 [==============================] - 1s 177us/step - loss: 0.3568 - accuracy: 0.8483 - val_loss: 0.3708 - val_accuracy: 0.8436\n",
            "Epoch 49/100\n",
            "5359/5359 [==============================] - 1s 173us/step - loss: 0.3605 - accuracy: 0.8492 - val_loss: 0.3736 - val_accuracy: 0.8398\n",
            "Epoch 50/100\n",
            "5359/5359 [==============================] - 1s 175us/step - loss: 0.3620 - accuracy: 0.8502 - val_loss: 0.3688 - val_accuracy: 0.8463\n",
            "Epoch 51/100\n",
            "5359/5359 [==============================] - 1s 173us/step - loss: 0.3560 - accuracy: 0.8513 - val_loss: 0.3728 - val_accuracy: 0.8417\n",
            "Epoch 52/100\n",
            "5359/5359 [==============================] - 1s 175us/step - loss: 0.3578 - accuracy: 0.8561 - val_loss: 0.3689 - val_accuracy: 0.8463\n",
            "Epoch 53/100\n",
            "5359/5359 [==============================] - 1s 174us/step - loss: 0.3592 - accuracy: 0.8545 - val_loss: 0.3722 - val_accuracy: 0.8429\n",
            "Epoch 54/100\n",
            "5359/5359 [==============================] - 1s 175us/step - loss: 0.3556 - accuracy: 0.8559 - val_loss: 0.3781 - val_accuracy: 0.8338\n",
            "Epoch 55/100\n",
            "5359/5359 [==============================] - 1s 172us/step - loss: 0.3589 - accuracy: 0.8457 - val_loss: 0.3706 - val_accuracy: 0.8402\n",
            "Epoch 56/100\n",
            "5359/5359 [==============================] - 1s 180us/step - loss: 0.3540 - accuracy: 0.8565 - val_loss: 0.3684 - val_accuracy: 0.8459\n",
            "Epoch 57/100\n",
            "5359/5359 [==============================] - 1s 173us/step - loss: 0.3535 - accuracy: 0.8552 - val_loss: 0.3707 - val_accuracy: 0.8417\n",
            "Epoch 58/100\n",
            "5359/5359 [==============================] - 1s 172us/step - loss: 0.3533 - accuracy: 0.8535 - val_loss: 0.3668 - val_accuracy: 0.8459\n",
            "Epoch 59/100\n",
            "5359/5359 [==============================] - 1s 178us/step - loss: 0.3539 - accuracy: 0.8528 - val_loss: 0.3695 - val_accuracy: 0.8421\n",
            "Epoch 60/100\n",
            "5359/5359 [==============================] - 1s 174us/step - loss: 0.3577 - accuracy: 0.8539 - val_loss: 0.3698 - val_accuracy: 0.8451\n",
            "Epoch 61/100\n",
            "5359/5359 [==============================] - 1s 175us/step - loss: 0.3513 - accuracy: 0.8565 - val_loss: 0.3725 - val_accuracy: 0.8387\n",
            "Epoch 62/100\n",
            "5359/5359 [==============================] - 1s 172us/step - loss: 0.3537 - accuracy: 0.8517 - val_loss: 0.3682 - val_accuracy: 0.8440\n",
            "Epoch 63/100\n",
            "5359/5359 [==============================] - 1s 175us/step - loss: 0.3527 - accuracy: 0.8543 - val_loss: 0.3721 - val_accuracy: 0.8383\n",
            "Epoch 64/100\n",
            "5359/5359 [==============================] - 1s 176us/step - loss: 0.3507 - accuracy: 0.8546 - val_loss: 0.3723 - val_accuracy: 0.8402\n",
            "Epoch 65/100\n",
            "5359/5359 [==============================] - 1s 175us/step - loss: 0.3489 - accuracy: 0.8572 - val_loss: 0.3685 - val_accuracy: 0.8436\n",
            "Epoch 66/100\n",
            "5359/5359 [==============================] - 1s 172us/step - loss: 0.3576 - accuracy: 0.8524 - val_loss: 0.3709 - val_accuracy: 0.8387\n",
            "Epoch 67/100\n",
            "5359/5359 [==============================] - 1s 173us/step - loss: 0.3535 - accuracy: 0.8522 - val_loss: 0.3710 - val_accuracy: 0.8395\n",
            "Epoch 68/100\n",
            "5359/5359 [==============================] - 1s 177us/step - loss: 0.3521 - accuracy: 0.8502 - val_loss: 0.3686 - val_accuracy: 0.8432\n",
            "Epoch 69/100\n",
            "5359/5359 [==============================] - 1s 173us/step - loss: 0.3496 - accuracy: 0.8539 - val_loss: 0.3627 - val_accuracy: 0.8478\n",
            "Epoch 70/100\n",
            "5359/5359 [==============================] - 1s 174us/step - loss: 0.3534 - accuracy: 0.8567 - val_loss: 0.3683 - val_accuracy: 0.8410\n",
            "Epoch 71/100\n",
            "5359/5359 [==============================] - 1s 174us/step - loss: 0.3489 - accuracy: 0.8569 - val_loss: 0.3670 - val_accuracy: 0.8459\n",
            "Epoch 72/100\n",
            "5359/5359 [==============================] - 1s 171us/step - loss: 0.3441 - accuracy: 0.8599 - val_loss: 0.3665 - val_accuracy: 0.8429\n",
            "Epoch 73/100\n",
            "5359/5359 [==============================] - 1s 174us/step - loss: 0.3494 - accuracy: 0.8511 - val_loss: 0.3671 - val_accuracy: 0.8436\n",
            "Epoch 74/100\n",
            "5359/5359 [==============================] - 1s 174us/step - loss: 0.3487 - accuracy: 0.8556 - val_loss: 0.3673 - val_accuracy: 0.8432\n",
            "Epoch 75/100\n",
            "5359/5359 [==============================] - 1s 174us/step - loss: 0.3486 - accuracy: 0.8572 - val_loss: 0.3640 - val_accuracy: 0.8463\n",
            "Epoch 76/100\n",
            "5359/5359 [==============================] - 1s 175us/step - loss: 0.3489 - accuracy: 0.8597 - val_loss: 0.3639 - val_accuracy: 0.8489\n",
            "Epoch 77/100\n",
            "5359/5359 [==============================] - 1s 173us/step - loss: 0.3471 - accuracy: 0.8569 - val_loss: 0.3628 - val_accuracy: 0.8535\n",
            "Epoch 78/100\n",
            "5359/5359 [==============================] - 1s 173us/step - loss: 0.3474 - accuracy: 0.8505 - val_loss: 0.3653 - val_accuracy: 0.8519\n",
            "Epoch 79/100\n",
            "5359/5359 [==============================] - 1s 176us/step - loss: 0.3454 - accuracy: 0.8545 - val_loss: 0.3664 - val_accuracy: 0.8478\n",
            "Epoch 80/100\n",
            "5359/5359 [==============================] - 1s 175us/step - loss: 0.3496 - accuracy: 0.8517 - val_loss: 0.3705 - val_accuracy: 0.8448\n",
            "Epoch 81/100\n",
            "5359/5359 [==============================] - 1s 173us/step - loss: 0.3536 - accuracy: 0.8561 - val_loss: 0.3686 - val_accuracy: 0.8432\n",
            "Epoch 82/100\n",
            "5359/5359 [==============================] - 1s 174us/step - loss: 0.3458 - accuracy: 0.8595 - val_loss: 0.3656 - val_accuracy: 0.8455\n",
            "Epoch 83/100\n",
            "5359/5359 [==============================] - 1s 172us/step - loss: 0.3499 - accuracy: 0.8559 - val_loss: 0.3630 - val_accuracy: 0.8504\n",
            "Epoch 84/100\n",
            "5359/5359 [==============================] - 1s 173us/step - loss: 0.3447 - accuracy: 0.8563 - val_loss: 0.3652 - val_accuracy: 0.8497\n",
            "Epoch 85/100\n",
            "5359/5359 [==============================] - 1s 175us/step - loss: 0.3490 - accuracy: 0.8531 - val_loss: 0.3665 - val_accuracy: 0.8429\n",
            "Epoch 86/100\n",
            "5359/5359 [==============================] - 1s 174us/step - loss: 0.3491 - accuracy: 0.8535 - val_loss: 0.3663 - val_accuracy: 0.8478\n",
            "Epoch 87/100\n",
            "5359/5359 [==============================] - 1s 174us/step - loss: 0.3520 - accuracy: 0.8541 - val_loss: 0.3652 - val_accuracy: 0.8489\n",
            "Epoch 88/100\n",
            "5359/5359 [==============================] - 1s 175us/step - loss: 0.3492 - accuracy: 0.8524 - val_loss: 0.3671 - val_accuracy: 0.8504\n",
            "Epoch 89/100\n",
            "5359/5359 [==============================] - 1s 178us/step - loss: 0.3502 - accuracy: 0.8517 - val_loss: 0.3654 - val_accuracy: 0.8501\n",
            "Epoch 90/100\n",
            "5359/5359 [==============================] - 1s 174us/step - loss: 0.3475 - accuracy: 0.8561 - val_loss: 0.3665 - val_accuracy: 0.8455\n",
            "Epoch 91/100\n",
            "5359/5359 [==============================] - 1s 177us/step - loss: 0.3454 - accuracy: 0.8582 - val_loss: 0.3669 - val_accuracy: 0.8470\n",
            "Epoch 92/100\n",
            "5359/5359 [==============================] - 1s 177us/step - loss: 0.3515 - accuracy: 0.8546 - val_loss: 0.3627 - val_accuracy: 0.8504\n",
            "Epoch 93/100\n",
            "5359/5359 [==============================] - 1s 174us/step - loss: 0.3436 - accuracy: 0.8578 - val_loss: 0.3655 - val_accuracy: 0.8440\n",
            "Epoch 94/100\n",
            "5359/5359 [==============================] - 1s 173us/step - loss: 0.3404 - accuracy: 0.8621 - val_loss: 0.3628 - val_accuracy: 0.8512\n",
            "Epoch 95/100\n",
            "5359/5359 [==============================] - 1s 174us/step - loss: 0.3423 - accuracy: 0.8606 - val_loss: 0.3634 - val_accuracy: 0.8519\n",
            "Epoch 96/100\n",
            "5359/5359 [==============================] - 1s 174us/step - loss: 0.3453 - accuracy: 0.8602 - val_loss: 0.3656 - val_accuracy: 0.8466\n",
            "Epoch 97/100\n",
            "5359/5359 [==============================] - 1s 176us/step - loss: 0.3478 - accuracy: 0.8582 - val_loss: 0.3637 - val_accuracy: 0.8512\n",
            "Epoch 98/100\n",
            "5359/5359 [==============================] - 1s 173us/step - loss: 0.3475 - accuracy: 0.8589 - val_loss: 0.3637 - val_accuracy: 0.8516\n",
            "Epoch 99/100\n",
            "5359/5359 [==============================] - 1s 174us/step - loss: 0.3431 - accuracy: 0.8600 - val_loss: 0.3634 - val_accuracy: 0.8516\n",
            "Epoch 100/100\n",
            "5359/5359 [==============================] - 1s 175us/step - loss: 0.3486 - accuracy: 0.8582 - val_loss: 0.3605 - val_accuracy: 0.8531\n"
          ],
          "name": "stdout"
        }
      ]
    },
    {
      "cell_type": "code",
      "metadata": {
        "id": "i91x851lSJmq"
      },
      "source": [
        "y_pred = classifier_new.predict(X_test)\n",
        "y_pred=y_pred>0.5\n",
        "acc=accuracy_score(y_pred,y_test)\n"
      ],
      "execution_count": null,
      "outputs": []
    },
    {
      "cell_type": "code",
      "metadata": {
        "id": "6_bg9BWpSV3F",
        "colab": {
          "base_uri": "https://localhost:8080/",
          "height": 34
        },
        "outputId": "d9d73709-2073-4f12-c24b-a263fb726c76"
      },
      "source": [
        "acc"
      ],
      "execution_count": null,
      "outputs": [
        {
          "output_type": "execute_result",
          "data": {
            "text/plain": [
              "0.8665"
            ]
          },
          "metadata": {
            "tags": []
          },
          "execution_count": 69
        }
      ]
    },
    {
      "cell_type": "code",
      "metadata": {
        "id": "hCTpr3nHSW9E",
        "colab": {
          "base_uri": "https://localhost:8080/",
          "height": 590
        },
        "outputId": "e76d7a6f-04f6-4e1d-fd0c-15910d520dca"
      },
      "source": [
        "# list all data in history\n",
        "\n",
        "print(model_history_new.history.keys())\n",
        "\n",
        "#print(model_history_new.history)\n",
        "# summarize history for accuracy\n",
        "plt.plot(model_history_new.history['accuracy'])\n",
        "plt.plot(model_history_new.history['val_accuracy'])\n",
        "plt.title('model accuracy')\n",
        "plt.ylabel('accuracy')\n",
        "plt.xlabel('epoch')\n",
        "plt.legend(['train', 'test'], loc='upper left')\n",
        "plt.show()\n",
        "\n",
        "# summarize history for loss\n",
        "plt.plot(model_history_new.history['loss'])\n",
        "plt.plot(model_history_new.history['val_loss'])\n",
        "plt.title('model loss')\n",
        "plt.ylabel('loss')\n",
        "plt.xlabel('epoch')\n",
        "plt.legend(['train', 'test'], loc='upper left')\n",
        "plt.show()"
      ],
      "execution_count": null,
      "outputs": [
        {
          "output_type": "stream",
          "text": [
            "dict_keys(['val_loss', 'val_accuracy', 'loss', 'accuracy'])\n"
          ],
          "name": "stdout"
        },
        {
          "output_type": "display_data",
          "data": {
            "image/png": "[encoded data removed]",
            "text/plain": [
              "<Figure size 432x288 with 1 Axes>"
            ]
          },
          "metadata": {
            "tags": [],
            "needs_background": "light"
          }
        },
        {
          "output_type": "display_data",
          "data": {
            "image/png": "[encoded data removed]",
            "text/plain": [
              "<Figure size 432x288 with 1 Axes>"
            ]
          },
          "metadata": {
            "tags": [],
            "needs_background": "light"
          }
        }
      ]
    },
    {
      "cell_type": "code",
      "metadata": {
        "id": "7mJfmsCcS5je"
      },
      "source": [
        ""
      ],
      "execution_count": null,
      "outputs": []
    }
  ]
}